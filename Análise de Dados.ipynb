{
 "cells": [
  {
   "cell_type": "markdown",
   "id": "06f60451-01f7-46ed-bc9b-9adb71f880c7",
   "metadata": {},
   "source": [
    "<h1>Projeto de Aprendizado de Máquina</h1>\n",
    "\n",
    "### 2º semestre de 2022\n",
    "\n",
    "#### Grupo formado por:\n",
    "        Ana Clara Loponi - 220073\n",
    "        Ana Clara Brandão - 220069\n",
    "        Heitor Bernardes - 220052\n",
    "        Lorraine Casseano - 220036\n",
    "        \n",
    "<h2>Dengue: O uso de ferramentas estatísticas para a propensão de uma das doenças mais negligenciadas do Brasil.</h2>\n",
    "<h3>Usando Machine Learning para uma previsão de casos de Dengue em Campinas/SP</h3>\n",
    "\n",
    "<ht> Entende-se que a Dengue é uma das doenças mais negligenciadas do Brasil, visto que, em todos os anos se observa um pico no número de casos confirmados. Observe que o padrão dos picos é referenciado com as características climáticas de épocas do ano. Com base nisso, é uma ideia de desenvolver um plano preventivo baseado nos dados testados.</ht>\n",
    "\n",
    "<h2> Análise Exploratória dos Dados </h2>"
   ]
  },
  {
   "cell_type": "code",
   "execution_count": 1,
   "id": "0aa1510e-11dc-48ac-b0c1-fb841fd5a628",
   "metadata": {
    "jupyter": {
     "source_hidden": true
    },
    "tags": []
   },
   "outputs": [],
   "source": [
    "# Importação de bibliotecas\n",
    "import pandas as pd\n",
    "import numpy as np\n",
    "import matplotlib.pyplot as plt\n",
    "import seaborn as sns"
   ]
  },
  {
   "cell_type": "code",
   "execution_count": 2,
   "id": "ec8bc335-b2d7-4d03-ba00-8cd1e472aedf",
   "metadata": {},
   "outputs": [
    {
     "data": {
      "text/plain": [
       "data                    datetime64[ns]\n",
       "casos-confirmados                int64\n",
       "chuva                          float64\n",
       "temperatura-media              float64\n",
       "temperatura-mininima           float64\n",
       "temperatura-maxima             float64\n",
       "dtype: object"
      ]
     },
     "execution_count": 2,
     "metadata": {},
     "output_type": "execute_result"
    }
   ],
   "source": [
    "dados1 = pd.read_excel(\"dataset_dengue.xlsx\") # Lendos os dados.\n",
    "\n",
    "dados1.dtypes # Este comando informa quais os tipos de dados o dataframe contém."
   ]
  },
  {
   "cell_type": "markdown",
   "id": "22562dc9-561c-4e0d-adb5-21ccfe5985b8",
   "metadata": {},
   "source": [
    "#### Visualização das linhas do dataset"
   ]
  },
  {
   "cell_type": "code",
   "execution_count": 3,
   "id": "890f4801-4f8b-4fce-b751-3881b8b3db8b",
   "metadata": {},
   "outputs": [
    {
     "data": {
      "text/html": [
       "<div>\n",
       "<style scoped>\n",
       "    .dataframe tbody tr th:only-of-type {\n",
       "        vertical-align: middle;\n",
       "    }\n",
       "\n",
       "    .dataframe tbody tr th {\n",
       "        vertical-align: top;\n",
       "    }\n",
       "\n",
       "    .dataframe thead th {\n",
       "        text-align: right;\n",
       "    }\n",
       "</style>\n",
       "<table border=\"1\" class=\"dataframe\">\n",
       "  <thead>\n",
       "    <tr style=\"text-align: right;\">\n",
       "      <th></th>\n",
       "      <th>data</th>\n",
       "      <th>casos-confirmados</th>\n",
       "      <th>chuva</th>\n",
       "      <th>temperatura-media</th>\n",
       "      <th>temperatura-mininima</th>\n",
       "      <th>temperatura-maxima</th>\n",
       "    </tr>\n",
       "  </thead>\n",
       "  <tbody>\n",
       "    <tr>\n",
       "      <th>0</th>\n",
       "      <td>1998-01-01</td>\n",
       "      <td>237</td>\n",
       "      <td>179.2</td>\n",
       "      <td>25.7</td>\n",
       "      <td>20.2</td>\n",
       "      <td>28.1</td>\n",
       "    </tr>\n",
       "    <tr>\n",
       "      <th>1</th>\n",
       "      <td>1998-02-01</td>\n",
       "      <td>331</td>\n",
       "      <td>226.3</td>\n",
       "      <td>25.1</td>\n",
       "      <td>20.0</td>\n",
       "      <td>28.0</td>\n",
       "    </tr>\n",
       "    <tr>\n",
       "      <th>2</th>\n",
       "      <td>1998-03-01</td>\n",
       "      <td>562</td>\n",
       "      <td>149.1</td>\n",
       "      <td>24.8</td>\n",
       "      <td>22.4</td>\n",
       "      <td>27.2</td>\n",
       "    </tr>\n",
       "    <tr>\n",
       "      <th>3</th>\n",
       "      <td>1998-04-01</td>\n",
       "      <td>187</td>\n",
       "      <td>46.4</td>\n",
       "      <td>22.7</td>\n",
       "      <td>18.1</td>\n",
       "      <td>26.0</td>\n",
       "    </tr>\n",
       "    <tr>\n",
       "      <th>4</th>\n",
       "      <td>1998-05-01</td>\n",
       "      <td>32</td>\n",
       "      <td>88.3</td>\n",
       "      <td>19.2</td>\n",
       "      <td>15.7</td>\n",
       "      <td>22.9</td>\n",
       "    </tr>\n",
       "    <tr>\n",
       "      <th>5</th>\n",
       "      <td>1998-06-01</td>\n",
       "      <td>11</td>\n",
       "      <td>21.2</td>\n",
       "      <td>18.0</td>\n",
       "      <td>15.4</td>\n",
       "      <td>21.2</td>\n",
       "    </tr>\n",
       "    <tr>\n",
       "      <th>6</th>\n",
       "      <td>1998-07-01</td>\n",
       "      <td>6</td>\n",
       "      <td>7.9</td>\n",
       "      <td>19.0</td>\n",
       "      <td>13.5</td>\n",
       "      <td>22.9</td>\n",
       "    </tr>\n",
       "    <tr>\n",
       "      <th>7</th>\n",
       "      <td>1998-08-01</td>\n",
       "      <td>4</td>\n",
       "      <td>15.6</td>\n",
       "      <td>21.7</td>\n",
       "      <td>17.0</td>\n",
       "      <td>25.7</td>\n",
       "    </tr>\n",
       "    <tr>\n",
       "      <th>8</th>\n",
       "      <td>1998-09-01</td>\n",
       "      <td>7</td>\n",
       "      <td>88.1</td>\n",
       "      <td>21.9</td>\n",
       "      <td>18.9</td>\n",
       "      <td>26.1</td>\n",
       "    </tr>\n",
       "    <tr>\n",
       "      <th>9</th>\n",
       "      <td>1998-10-01</td>\n",
       "      <td>7</td>\n",
       "      <td>167.3</td>\n",
       "      <td>21.9</td>\n",
       "      <td>18.4</td>\n",
       "      <td>24.6</td>\n",
       "    </tr>\n",
       "    <tr>\n",
       "      <th>10</th>\n",
       "      <td>1998-11-01</td>\n",
       "      <td>5</td>\n",
       "      <td>55.4</td>\n",
       "      <td>23.4</td>\n",
       "      <td>20.3</td>\n",
       "      <td>27.3</td>\n",
       "    </tr>\n",
       "  </tbody>\n",
       "</table>\n",
       "</div>"
      ],
      "text/plain": [
       "         data  casos-confirmados  chuva  temperatura-media  \\\n",
       "0  1998-01-01                237  179.2               25.7   \n",
       "1  1998-02-01                331  226.3               25.1   \n",
       "2  1998-03-01                562  149.1               24.8   \n",
       "3  1998-04-01                187   46.4               22.7   \n",
       "4  1998-05-01                 32   88.3               19.2   \n",
       "5  1998-06-01                 11   21.2               18.0   \n",
       "6  1998-07-01                  6    7.9               19.0   \n",
       "7  1998-08-01                  4   15.6               21.7   \n",
       "8  1998-09-01                  7   88.1               21.9   \n",
       "9  1998-10-01                  7  167.3               21.9   \n",
       "10 1998-11-01                  5   55.4               23.4   \n",
       "\n",
       "    temperatura-mininima  temperatura-maxima  \n",
       "0                   20.2                28.1  \n",
       "1                   20.0                28.0  \n",
       "2                   22.4                27.2  \n",
       "3                   18.1                26.0  \n",
       "4                   15.7                22.9  \n",
       "5                   15.4                21.2  \n",
       "6                   13.5                22.9  \n",
       "7                   17.0                25.7  \n",
       "8                   18.9                26.1  \n",
       "9                   18.4                24.6  \n",
       "10                  20.3                27.3  "
      ]
     },
     "execution_count": 3,
     "metadata": {},
     "output_type": "execute_result"
    }
   ],
   "source": [
    "dados1.head(11)"
   ]
  },
  {
   "cell_type": "markdown",
   "id": "3c945d50-41b4-4ca0-ba23-0af66e416e06",
   "metadata": {},
   "source": [
    "<ht>Identificamos o número de linhas do nosso dataset como índices, pois entendemos a quantidade de meses durante os anos de 1998 à 2014 como uma feature. Assim, ao invés de agruparmos por data, agrupamos por meses a partir de Janeiro/1998, facilitando a resolução do problemas.</ht>"
   ]
  },
  {
   "cell_type": "code",
   "execution_count": 4,
   "id": "55e2c797-83fc-4362-a23a-13e40790b6c8",
   "metadata": {},
   "outputs": [
    {
     "name": "stdout",
     "output_type": "stream",
     "text": [
      "RangeIndex(start=0, stop=204, step=1)\n"
     ]
    }
   ],
   "source": [
    "print(dados1.index)\n",
    "\n",
    "dados2 = dados1.drop(columns = ['data'], axis = 1) # Exclui a coluna 'data'\n",
    "\n",
    "meses = [] # Insere uma coluna 'meses' para usar como refencia de data\n",
    "for i in dados1.index:\n",
    "    meses.append(i)\n",
    "    \n",
    "dados1.insert(6, \"meses\", meses, True)\n",
    "dados2.insert(5, \"meses\", meses, True)\n",
    "dados3 = dados2.copy()"
   ]
  },
  {
   "cell_type": "markdown",
   "id": "24eee519-7fee-4cb9-969c-9e0f71da35b4",
   "metadata": {},
   "source": [
    "### Testando Normalizações"
   ]
  },
  {
   "cell_type": "code",
   "execution_count": 5,
   "id": "69e24ebf-f388-44da-a098-47f4ba0d5a8a",
   "metadata": {},
   "outputs": [],
   "source": [
    "#padrão \n",
    "\n",
    "dados_teste = pd.DataFrame()\n",
    "\n",
    "media_chuva = dados1['chuva'].mean()\n",
    "desvio_padrao_chuva = dados1['chuva'].std()\n",
    "\n",
    "dados_teste['chuva_zscore'] = (dados1['chuva'] - media_chuva) / desvio_padrao_chuva\n",
    "\n",
    "#print(dados_teste['chuva_zscore'] )"
   ]
  },
  {
   "cell_type": "code",
   "execution_count": 6,
   "id": "1a85fc65-3e73-44e2-afee-a72d1e06249e",
   "metadata": {},
   "outputs": [],
   "source": [
    "#maximo_absoluto\n",
    "\n",
    "maximo_absoluto = dados1['chuva'].max()\n",
    "\n",
    "dados_teste['chuva_max_abs'] = dados1['chuva'] / maximo_absoluto\n",
    "\n",
    "#print(dados_teste['chuva_max_abs'])"
   ]
  },
  {
   "cell_type": "markdown",
   "id": "ef698d20-273d-4338-9e8c-04cc59850c01",
   "metadata": {
    "tags": []
   },
   "source": [
    "### Normaliação por Máximo e Mínimo Absoluto"
   ]
  },
  {
   "cell_type": "code",
   "execution_count": 7,
   "id": "dc1a2747-5461-45a5-bf22-5b4d961c75af",
   "metadata": {},
   "outputs": [],
   "source": [
    "dados2 = pd.DataFrame() # Novo dataframe para armazenar os dados\n",
    "\n",
    "#chuva\n",
    "\n",
    "maximo_chuva = dados1['chuva'].max()\n",
    "minimo_chuva = dados1['chuva'].min()\n",
    "\n",
    "dados2['chuva_min_max_abs'] = (dados1['chuva'] - minimo_chuva) / (maximo_chuva - minimo_chuva)\n",
    "\n",
    "#print(dados2['chuva_min_max_abs'])"
   ]
  },
  {
   "cell_type": "code",
   "execution_count": 8,
   "id": "5bfa66ac-594e-4baa-8509-667faefc8f5c",
   "metadata": {},
   "outputs": [],
   "source": [
    "#temperatura\n",
    "\n",
    "maximo_temp_med = dados1['temperatura-media'].max()\n",
    "minimo_temp_med = dados1['temperatura-media'].min()\n",
    "\n",
    "dados2['temp-med_min_max_abs'] = (dados1['temperatura-media'] - minimo_temp_med) / (maximo_temp_med - minimo_temp_med)\n",
    "\n",
    "#print(dados2['temp-med_min_max_abs'])"
   ]
  },
  {
   "cell_type": "code",
   "execution_count": 9,
   "id": "e8fae666-d79b-4b5c-bdc9-0d6e95e7bae2",
   "metadata": {},
   "outputs": [],
   "source": [
    "#temperatura_mínima\n",
    "\n",
    "maximo_temp_min = dados1['temperatura-mininima'].max()\n",
    "minimo_temp_min = dados1['temperatura-mininima'].min()\n",
    "\n",
    "dados2['temp-min_min_max_abs'] = (dados1['temperatura-mininima'] - minimo_temp_min) / (maximo_temp_min - minimo_temp_min)\n",
    "\n",
    "#print(dados2['temp-min_min_max_abs'])"
   ]
  },
  {
   "cell_type": "code",
   "execution_count": 10,
   "id": "2760e706-3a94-4604-9fcf-2ae82fb0ab87",
   "metadata": {},
   "outputs": [],
   "source": [
    "#tempertura_máxima\n",
    "\n",
    "maximo_temp_max = dados1['temperatura-maxima'].max()\n",
    "minimo_temp_max = dados1['temperatura-maxima'].min()\n",
    "\n",
    "dados2['temp-max_min_max_abs'] = (dados1['temperatura-maxima'] - minimo_temp_max) / (maximo_temp_max - minimo_temp_max)\n",
    "\n",
    "#print(dados2['temp-max_min_max_abs'])"
   ]
  },
  {
   "cell_type": "code",
   "execution_count": 11,
   "id": "6057a5e1-e77c-49c7-9246-d5106657a0f8",
   "metadata": {},
   "outputs": [],
   "source": [
    "#casos_confirmados\n",
    "\n",
    "maximo_casos = dados1['casos-confirmados'].max()\n",
    "minimo_casos = dados1['casos-confirmados'].min()\n",
    "\n",
    "dados2['casos_min_max_abs'] = (dados1['casos-confirmados'] - minimo_casos) / (maximo_casos - minimo_casos)\n",
    "\n",
    "#print(dados2['casos_min_max_abs'])"
   ]
  },
  {
   "cell_type": "markdown",
   "id": "62b9dc93-9b06-4822-a946-680409c2083f",
   "metadata": {},
   "source": [
    "### Análise Exploratória dos Dados\n",
    "#### Média e Desvio Padrão"
   ]
  },
  {
   "cell_type": "code",
   "execution_count": 12,
   "id": "8d33d683-ea68-46b1-a2cd-47453b5613de",
   "metadata": {},
   "outputs": [
    {
     "name": "stdout",
     "output_type": "stream",
     "text": [
      " Médias: (357.53921568627453, 112.07549019607842, 17.679411764705883, 25.565196078431374)\n",
      " Desvios Padrão: (1741.8147587005246, 97.3904390734082, 3.336315723659817, 2.2498635888116434)\n"
     ]
    }
   ],
   "source": [
    "#Média de cada coluna de dados\n",
    "\n",
    "M1 = dados1[\"casos-confirmados\"].mean()\n",
    "\n",
    "M2 = dados1[\"chuva\"].mean()\n",
    "\n",
    "M3 = dados1[\"temperatura-mininima\"].mean()\n",
    "\n",
    "M4 = dados1[\"temperatura-maxima\"].mean()\n",
    "\n",
    "print(f' Médias: {M1, M2, M3, M4}')\n",
    "\n",
    "#Desvio Padrão\n",
    "\n",
    "D1 = dados1[\"casos-confirmados\"].std()\n",
    "\n",
    "D2 = dados1[\"chuva\"].std()\n",
    "\n",
    "D3 = dados1[\"temperatura-mininima\"].std()\n",
    "\n",
    "D4 = dados1[\"temperatura-maxima\"].std()\n",
    "\n",
    "print(f' Desvios Padrão: {D1, D2, D3, D4}')"
   ]
  },
  {
   "cell_type": "markdown",
   "id": "6f122fdb-347e-44f4-824b-b4e52009965e",
   "metadata": {},
   "source": [
    "Observando esses resultados, concluimos que eles não eram satisfatórios, e não forneciam as informações que precisavamos. Por isso, optamos por uma análise diferente, fazendo uma separação referente aos meses, de forma que as médias sejam separadas em média_janeiro, média_fevereiro, média_março e assim por diante."
   ]
  },
  {
   "cell_type": "code",
   "execution_count": 13,
   "id": "df4a27ba-9f6c-47aa-b003-b1f466d8cfd0",
   "metadata": {},
   "outputs": [],
   "source": [
    "# Separando os dados e colocando-os em listas iteraveis\n",
    "\n",
    "conv = dados3.values.tolist() # função que transforma de dataset para lista\n",
    "\n",
    "casos = []\n",
    "chuva = []\n",
    "tem_med = []\n",
    "tem_max = []\n",
    "tem_min = []\n",
    "\n",
    "for i in conv:\n",
    "    for j in range(0, len(i), 6):\n",
    "        casos.append(i[j])\n",
    "\n",
    "for i in conv:\n",
    "    for j in range(1, len(i), 6):\n",
    "        chuva.append(i[j])\n",
    "        \n",
    "for i in conv:\n",
    "    for j in range(2, len(i), 6):\n",
    "        tem_med.append(i[j])\n",
    "        \n",
    "for i in conv:\n",
    "    for j in range(3, len(i), 6):\n",
    "        tem_min.append(i[j])\n",
    "        \n",
    "for i in conv:\n",
    "    for j in range(4, len(i), 6):\n",
    "        tem_max.append(i[j])\n",
    "        \n",
    "\n",
    "#print(casos)\n",
    "#print(chuva)\n",
    "#print(tem_med)\n",
    "#print(tem_min) \n",
    "#print(tem_max)"
   ]
  },
  {
   "cell_type": "code",
   "execution_count": 14,
   "id": "8839396e-1110-42e9-8b7d-a5fa8ee7e7d6",
   "metadata": {},
   "outputs": [],
   "source": [
    "def separacao(x, c):\n",
    "    \n",
    "    \"\"\" Separa os dados por mês e calcula a média e desvio padrão \"\"\"\n",
    "    \n",
    "    if c >= 12: # Critério de parada\n",
    "        return 0 \n",
    "    \n",
    "    else:\n",
    "\n",
    "        lista = []  # Para armazernar e processar os dados \n",
    "        lista2 = []\n",
    "    \n",
    "        for i in range(c,len(x),12): # Separa os dados por meses, fazendo uma listagem dos dados com um intervalo de 12 itens\n",
    "            lista.append(x[i])\n",
    "    \n",
    "    m = np.mean(lista) # função do numpy para calculo de media \n",
    "    dp = np.std(lista) # função do numpy para calculo de desvio padrão\n",
    "    lista2.append(m)\n",
    "    lista2.append(dp)\n",
    "    \n",
    "        \n",
    "    lista.clear() # Ao final da operação, a lista é esvaziada para não ter problemas\n",
    "    \n",
    "    print(lista2)\n",
    "    \n",
    "    return separacao(x, c + 1)  # Usei recursão para seguir calculando para os demais meses  "
   ]
  },
  {
   "cell_type": "code",
   "execution_count": 15,
   "id": "edb2413e-fe70-4920-91d3-7ba2aa4e5ccb",
   "metadata": {},
   "outputs": [],
   "source": [
    "#Descomente esta célula para ver os resultados\n",
    "contagem = 0 \n",
    "#separacao(casos, contagem)\n",
    "#separacao(chuva, contagem)\n",
    "#separacao(tem_med, contagem)\n",
    "#separacao(tem_min, contagem)\n",
    "#separacao(tem_max, contagem)"
   ]
  },
  {
   "cell_type": "markdown",
   "id": "f444981f-8d2e-4151-a413-b0ffab6c3962",
   "metadata": {},
   "source": [
    "#### Matriz de Correlação"
   ]
  },
  {
   "cell_type": "code",
   "execution_count": 16,
   "id": "b38430b3-1757-4f9c-a398-7e5a28920bc7",
   "metadata": {},
   "outputs": [
    {
     "data": {
      "text/plain": [
       "<AxesSubplot:>"
      ]
     },
     "execution_count": 16,
     "metadata": {},
     "output_type": "execute_result"
    },
    {
     "data": {
      "image/png": "[encoded data removed]",
      "text/plain": [
       "<Figure size 432x288 with 2 Axes>"
      ]
     },
     "metadata": {
      "needs_background": "light"
     },
     "output_type": "display_data"
    }
   ],
   "source": [
    "# Conexão entre dois fatores para compreender as informações e dependências entre as features.\n",
    "# Os coeficientes de correlação são padronizados. A correlação mede tanto a força como a direção da relação linear entre duas variáveis\n",
    "\n",
    "dados_corr = dados3.corr()\n",
    "dados_corr\n",
    "sns.heatmap(dados_corr, cmap='seismic', center=0)"
   ]
  },
  {
   "cell_type": "markdown",
   "id": "263a2d55-9889-4489-abb5-6a1926346922",
   "metadata": {},
   "source": [
    "#### Relação Número de casos - Tempo"
   ]
  },
  {
   "cell_type": "code",
   "execution_count": 17,
   "id": "7f43768b-fe64-4062-99a4-2534d51bb45b",
   "metadata": {},
   "outputs": [
    {
     "data": {
      "image/png": "[encoded data removed]",
      "text/plain": [
       "<Figure size 432x288 with 1 Axes>"
      ]
     },
     "metadata": {
      "needs_background": "light"
     },
     "output_type": "display_data"
    }
   ],
   "source": [
    "#dados1[\"casos-confirmados\"] = np.log10(dados1[\"casos-confirmados\"])\n",
    "\n",
    "plt.plot(dados1['data'], dados2['casos_min_max_abs'])\n",
    "plt.xlabel('Tempo')\n",
    "plt.ylabel('Casos Confirmados')\n",
    "plt.show()"
   ]
  },
  {
   "cell_type": "code",
   "execution_count": 18,
   "id": "2b657492-86b1-4344-8490-2657b8b5843a",
   "metadata": {},
   "outputs": [
    {
     "data": {
      "text/plain": [
       "array([[<AxesSubplot:title={'center':'casos-confirmados'}>]], dtype=object)"
      ]
     },
     "execution_count": 18,
     "metadata": {},
     "output_type": "execute_result"
    },
    {
     "data": {
      "image/png": "[encoded data removed]",
      "text/plain": [
       "<Figure size 432x288 with 1 Axes>"
      ]
     },
     "metadata": {
      "needs_background": "light"
     },
     "output_type": "display_data"
    }
   ],
   "source": [
    "TARGET = [\"casos-confirmados\"]\n",
    "dados1[TARGET].hist(bins=150)"
   ]
  },
  {
   "cell_type": "markdown",
   "id": "65303532-c585-426f-9a0d-50e629a22d22",
   "metadata": {},
   "source": [
    "O histograma mostra uma relação de número de ocorrencia (eixo y), referente aos 'casos-confirmados'(eixo x). O que observamos é que há pouca distribuição, sendo a grande maioria das ocorrencias valores abaixo de 1000, e pouquissimas ocorrencia com valores mais elevados, bem como é mostrado no plot superior. "
   ]
  },
  {
   "cell_type": "markdown",
   "id": "fd2d96b9-d1f8-451e-9836-db31e830cbb0",
   "metadata": {},
   "source": [
    "### Classificação e Categorização "
   ]
  },
  {
   "cell_type": "code",
   "execution_count": 19,
   "id": "6656b34f-a0fd-4213-9f40-aad04c2a7075",
   "metadata": {},
   "outputs": [
    {
     "name": "stdout",
     "output_type": "stream",
     "text": [
      "104 Casos raros/isolados\n",
      "37 Pouquissimos casos\n",
      "33 Poucos casos\n",
      "18 Numero medio de casos\n",
      "6 Muitos casos\n",
      "6 Surtos de dengue\n"
     ]
    }
   ],
   "source": [
    "# Separa o número de casos\n",
    "\n",
    "logic = dados3[\"casos-confirmados\"] <= 20\n",
    "print(len(dados3.loc[logic]),'Casos raros/isolados')\n",
    "logic = (dados3[\"casos-confirmados\"] > 20) & (dados3[\"casos-confirmados\"] <= 50)\n",
    "print(len(dados3.loc[logic]),'Pouquissimos casos')\n",
    "logic = (dados3[\"casos-confirmados\"] > 50) & (dados3[\"casos-confirmados\"] <= 250)\n",
    "print(len(dados3.loc[logic]),'Poucos casos')\n",
    "logic = (dados3[\"casos-confirmados\"] > 250) & (dados3[\"casos-confirmados\"] <= 1000)\n",
    "print(len(dados3.loc[logic]),'Numero medio de casos')\n",
    "logic = (dados3[\"casos-confirmados\"] > 1000) & (dados3[\"casos-confirmados\"] <= 2500)\n",
    "print(len(dados3.loc[logic]),'Muitos casos')\n",
    "logic = (dados3[\"casos-confirmados\"] > 2500)\n",
    "print(len(dados3.loc[logic]),'Surtos de dengue')"
   ]
  },
  {
   "cell_type": "code",
   "execution_count": 20,
   "id": "70e5713d-88e8-475b-b261-0796f7c3a5d6",
   "metadata": {},
   "outputs": [],
   "source": [
    "# Adiciona uma coluna com a categorização ao dataset\n",
    "\n",
    "dados3['casos-categórico'] = None\n",
    "\n",
    "logic = dados1[\"casos-confirmados\"] <= 20\n",
    "dados3.loc[logic, 'casos-categórico'] ='Casos raros/isolados'\n",
    "logic = (dados1[\"casos-confirmados\"] > 20) & (dados3[\"casos-confirmados\"] <= 50)\n",
    "dados3.loc[logic, 'casos-categórico'] = 'Pouquissimos casos'\n",
    "logic = (dados1[\"casos-confirmados\"] > 50) & (dados3[\"casos-confirmados\"] <= 250)\n",
    "dados3.loc[logic, 'casos-categórico'] = 'Poucos casos'\n",
    "logic = (dados1[\"casos-confirmados\"] > 250) & (dados3[\"casos-confirmados\"] <= 1000)\n",
    "dados3.loc[logic, 'casos-categórico'] = 'Numero medio de casos'\n",
    "logic = (dados1[\"casos-confirmados\"] > 1000)  & (dados3[\"casos-confirmados\"] <= 2500)\n",
    "dados3.loc[logic, 'casos-categórico'] = 'Muitos casos'\n",
    "logic = (dados1[\"casos-confirmados\"] > 2500)  \n",
    "dados3.loc[logic, 'casos-categórico'] = 'Surtos de dengue'"
   ]
  },
  {
   "cell_type": "code",
   "execution_count": 21,
   "id": "c1ff6013-666b-4b74-950a-f0f13c280593",
   "metadata": {},
   "outputs": [
    {
     "data": {
      "text/html": [
       "<div>\n",
       "<style scoped>\n",
       "    .dataframe tbody tr th:only-of-type {\n",
       "        vertical-align: middle;\n",
       "    }\n",
       "\n",
       "    .dataframe tbody tr th {\n",
       "        vertical-align: top;\n",
       "    }\n",
       "\n",
       "    .dataframe thead th {\n",
       "        text-align: right;\n",
       "    }\n",
       "</style>\n",
       "<table border=\"1\" class=\"dataframe\">\n",
       "  <thead>\n",
       "    <tr style=\"text-align: right;\">\n",
       "      <th></th>\n",
       "      <th>casos-confirmados</th>\n",
       "      <th>chuva</th>\n",
       "      <th>temperatura-media</th>\n",
       "      <th>temperatura-mininima</th>\n",
       "      <th>temperatura-maxima</th>\n",
       "      <th>meses</th>\n",
       "      <th>casos-categórico</th>\n",
       "      <th>cc</th>\n",
       "    </tr>\n",
       "  </thead>\n",
       "  <tbody>\n",
       "    <tr>\n",
       "      <th>0</th>\n",
       "      <td>237</td>\n",
       "      <td>179.2</td>\n",
       "      <td>25.7</td>\n",
       "      <td>20.2</td>\n",
       "      <td>28.1</td>\n",
       "      <td>0</td>\n",
       "      <td>Poucos casos</td>\n",
       "      <td>3</td>\n",
       "    </tr>\n",
       "    <tr>\n",
       "      <th>1</th>\n",
       "      <td>331</td>\n",
       "      <td>226.3</td>\n",
       "      <td>25.1</td>\n",
       "      <td>20.0</td>\n",
       "      <td>28.0</td>\n",
       "      <td>1</td>\n",
       "      <td>Numero medio de casos</td>\n",
       "      <td>4</td>\n",
       "    </tr>\n",
       "    <tr>\n",
       "      <th>2</th>\n",
       "      <td>562</td>\n",
       "      <td>149.1</td>\n",
       "      <td>24.8</td>\n",
       "      <td>22.4</td>\n",
       "      <td>27.2</td>\n",
       "      <td>2</td>\n",
       "      <td>Numero medio de casos</td>\n",
       "      <td>4</td>\n",
       "    </tr>\n",
       "    <tr>\n",
       "      <th>3</th>\n",
       "      <td>187</td>\n",
       "      <td>46.4</td>\n",
       "      <td>22.7</td>\n",
       "      <td>18.1</td>\n",
       "      <td>26.0</td>\n",
       "      <td>3</td>\n",
       "      <td>Poucos casos</td>\n",
       "      <td>3</td>\n",
       "    </tr>\n",
       "    <tr>\n",
       "      <th>4</th>\n",
       "      <td>32</td>\n",
       "      <td>88.3</td>\n",
       "      <td>19.2</td>\n",
       "      <td>15.7</td>\n",
       "      <td>22.9</td>\n",
       "      <td>4</td>\n",
       "      <td>Pouquissimos casos</td>\n",
       "      <td>2</td>\n",
       "    </tr>\n",
       "    <tr>\n",
       "      <th>...</th>\n",
       "      <td>...</td>\n",
       "      <td>...</td>\n",
       "      <td>...</td>\n",
       "      <td>...</td>\n",
       "      <td>...</td>\n",
       "      <td>...</td>\n",
       "      <td>...</td>\n",
       "      <td>...</td>\n",
       "    </tr>\n",
       "    <tr>\n",
       "      <th>199</th>\n",
       "      <td>55</td>\n",
       "      <td>12.2</td>\n",
       "      <td>20.6</td>\n",
       "      <td>13.1</td>\n",
       "      <td>24.7</td>\n",
       "      <td>199</td>\n",
       "      <td>Poucos casos</td>\n",
       "      <td>3</td>\n",
       "    </tr>\n",
       "    <tr>\n",
       "      <th>200</th>\n",
       "      <td>40</td>\n",
       "      <td>69.2</td>\n",
       "      <td>23.0</td>\n",
       "      <td>18.6</td>\n",
       "      <td>26.8</td>\n",
       "      <td>200</td>\n",
       "      <td>Pouquissimos casos</td>\n",
       "      <td>2</td>\n",
       "    </tr>\n",
       "    <tr>\n",
       "      <th>201</th>\n",
       "      <td>40</td>\n",
       "      <td>15.6</td>\n",
       "      <td>24.7</td>\n",
       "      <td>17.2</td>\n",
       "      <td>30.0</td>\n",
       "      <td>201</td>\n",
       "      <td>Pouquissimos casos</td>\n",
       "      <td>2</td>\n",
       "    </tr>\n",
       "    <tr>\n",
       "      <th>202</th>\n",
       "      <td>57</td>\n",
       "      <td>154.8</td>\n",
       "      <td>25.0</td>\n",
       "      <td>22.1</td>\n",
       "      <td>28.3</td>\n",
       "      <td>202</td>\n",
       "      <td>Poucos casos</td>\n",
       "      <td>3</td>\n",
       "    </tr>\n",
       "    <tr>\n",
       "      <th>203</th>\n",
       "      <td>37</td>\n",
       "      <td>232.8</td>\n",
       "      <td>24.9</td>\n",
       "      <td>21.3</td>\n",
       "      <td>27.8</td>\n",
       "      <td>203</td>\n",
       "      <td>Pouquissimos casos</td>\n",
       "      <td>2</td>\n",
       "    </tr>\n",
       "  </tbody>\n",
       "</table>\n",
       "<p>204 rows × 8 columns</p>\n",
       "</div>"
      ],
      "text/plain": [
       "     casos-confirmados  chuva  temperatura-media  temperatura-mininima  \\\n",
       "0                  237  179.2               25.7                  20.2   \n",
       "1                  331  226.3               25.1                  20.0   \n",
       "2                  562  149.1               24.8                  22.4   \n",
       "3                  187   46.4               22.7                  18.1   \n",
       "4                   32   88.3               19.2                  15.7   \n",
       "..                 ...    ...                ...                   ...   \n",
       "199                 55   12.2               20.6                  13.1   \n",
       "200                 40   69.2               23.0                  18.6   \n",
       "201                 40   15.6               24.7                  17.2   \n",
       "202                 57  154.8               25.0                  22.1   \n",
       "203                 37  232.8               24.9                  21.3   \n",
       "\n",
       "     temperatura-maxima  meses       casos-categórico  cc  \n",
       "0                  28.1      0           Poucos casos   3  \n",
       "1                  28.0      1  Numero medio de casos   4  \n",
       "2                  27.2      2  Numero medio de casos   4  \n",
       "3                  26.0      3           Poucos casos   3  \n",
       "4                  22.9      4     Pouquissimos casos   2  \n",
       "..                  ...    ...                    ...  ..  \n",
       "199                24.7    199           Poucos casos   3  \n",
       "200                26.8    200     Pouquissimos casos   2  \n",
       "201                30.0    201     Pouquissimos casos   2  \n",
       "202                28.3    202           Poucos casos   3  \n",
       "203                27.8    203     Pouquissimos casos   2  \n",
       "\n",
       "[204 rows x 8 columns]"
      ]
     },
     "execution_count": 21,
     "metadata": {},
     "output_type": "execute_result"
    }
   ],
   "source": [
    "# Converte dados categoricos em numéricos \n",
    "\n",
    "conversao = {\n",
    "    \"Casos raros/isolados\": 1,\n",
    "    \"Pouquissimos casos\": 2,\n",
    "    \"Poucos casos\": 3,\n",
    "    \"Numero medio de casos\": 4,\n",
    "    \"Muitos casos\": 5,\n",
    "    \"Surtos de dengue\": 6,\n",
    "}\n",
    "\n",
    "dados3[\"cc\"] = dados3[\"casos-categórico\"].map(conversao)\n",
    "\n",
    "dados_categoricos = dados3.copy()\n",
    "dados_categoricos.to_excel(\"dataset_dengue_categorico.xlsx\") # transforma o novo dataset em um arquivo excel\n",
    "dados_categoricos "
   ]
  }
 ],
 "metadata": {
  "kernelspec": {
   "display_name": "ilumpy",
   "language": "python",
   "name": "ilumpy"
  },
  "language_info": {
   "codemirror_mode": {
    "name": "ipython",
    "version": 3
   },
   "file_extension": ".py",
   "mimetype": "text/x-python",
   "name": "python",
   "nbconvert_exporter": "python",
   "pygments_lexer": "ipython3",
   "version": "3.9.7"
  }
 },
 "nbformat": 4,
 "nbformat_minor": 5
}
