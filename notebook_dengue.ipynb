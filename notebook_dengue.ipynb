{
 "cells": [
  {
   "cell_type": "markdown",
   "id": "bfcb0fef-bc4e-4936-9ccf-8d9e74f1a134",
   "metadata": {},
   "source": [
    "# Projeto de Aprendizado de Máquina\n",
    "\n",
    "### 2º semestre de 2022\n",
    "\n",
    "#### Grupo formado por:\n",
    "        Ana Clara Loponi - 220073\n",
    "        Ana Clara Brandão - 220069\n",
    "        Heitor Bernardes - 220052\n",
    "        Lorraine Casseano - 220036\n",
    "    \n",
    "### Preparação dos Dados: Tratamento de Dados e Normalização \n",
    "\n",
    "<ht> Idealmente, o projeto consiste em treinar uma máquina para prever possíveis surtos de dengue. Inicialmente, vamos usar dados coletados em Campinas, São Paulo, dos anos de 1998 à 2014 p/ mês, referentes ao número de casos confirmados, volume de chuva (em mm), temperatura mínima, temperatura máxima e temperatura média. "
   ]
  },
  {
   "cell_type": "code",
   "execution_count": 2,
   "id": "3a4c071c-dc44-4f1f-8c41-7b8baef06f1e",
   "metadata": {
    "tags": []
   },
   "outputs": [],
   "source": [
    "# Importação de bibliotecas\n",
    "import pandas as pd\n",
    "import numpy as np\n",
    "import matplotlib.pyplot as plt\n",
    "import seaborn as sns\n",
    "import time\n",
    "import datetime"
   ]
  },
  {
   "cell_type": "code",
   "execution_count": 3,
   "id": "b53a3665-6cbc-4f4d-a690-83dda16e01b8",
   "metadata": {},
   "outputs": [
    {
     "data": {
      "text/plain": [
       "data                    datetime64[ns]\n",
       "casos-confirmados                int64\n",
       "chuva                          float64\n",
       "temperatura-media              float64\n",
       "temperatura-mininima           float64\n",
       "temperatura-maxima             float64\n",
       "dtype: object"
      ]
     },
     "execution_count": 3,
     "metadata": {},
     "output_type": "execute_result"
    }
   ],
   "source": [
    "dados1 = pd.read_excel(\"dengue_dataset.xlsx\") # Lendos os dados.\n",
    "\n",
    "dados1.dtypes # Este comando informa quais os tipos de dados o dataframe contém."
   ]
  },
  {
   "cell_type": "markdown",
   "id": "13eae3cb-1a69-4f63-aefc-28e68f0ba5e2",
   "metadata": {},
   "source": [
    "### Testando as formas de normalização"
   ]
  },
  {
   "cell_type": "code",
   "execution_count": 4,
   "id": "343fc917-6064-4822-a7dd-58440d1bfead",
   "metadata": {},
   "outputs": [],
   "source": [
    "#padrão - teste\n",
    "dados2 = dados1.copy()\n",
    "\n",
    "media_chuva = dados2['chuva'].mean()\n",
    "desvio_padrao_chuva = dados2['chuva'].std()\n",
    "\n",
    "dados2['chuva_zscore'] = (dados2['chuva'] - media_chuva) / desvio_padrao_chuva\n",
    "\n",
    "#print(dados2)"
   ]
  },
  {
   "cell_type": "code",
   "execution_count": 5,
   "id": "d79f512e-a38f-4320-bcd9-c15f8cedf6eb",
   "metadata": {},
   "outputs": [],
   "source": [
    "#maximo_absoluto\n",
    "dados3 = dados1.copy()\n",
    "\n",
    "maximo_absoluto = dados3['chuva'].max()\n",
    "\n",
    "dados3['chuva_max_abs'] = dados3['chuva'] / maximo_absoluto\n",
    "\n",
    "#print(dados3)"
   ]
  },
  {
   "cell_type": "markdown",
   "id": "e3e578f0-6f63-4555-8099-f21a7b43f246",
   "metadata": {},
   "source": [
    "### Normaliação por Máximo e Mínimo Absoluto"
   ]
  },
  {
   "cell_type": "code",
   "execution_count": 6,
   "id": "cb5e2bfc-267c-4bb6-86f5-577e5584cd66",
   "metadata": {},
   "outputs": [
    {
     "name": "stdout",
     "output_type": "stream",
     "text": [
      "          data  casos-confirmados  chuva  temperatura-media  \\\n",
      "0   1998-01-01                237  179.2               25.7   \n",
      "1   1998-02-01                331  226.3               25.1   \n",
      "2   1998-03-01                562  149.1               24.8   \n",
      "3   1998-04-01                187   46.4               22.7   \n",
      "4   1998-05-01                 32   88.3               19.2   \n",
      "..         ...                ...    ...                ...   \n",
      "199 2014-08-01                 55   12.2               20.6   \n",
      "200 2014-09-01                 40   69.2               23.0   \n",
      "201 2014-10-01                 40   15.6               24.7   \n",
      "202 2014-11-01                 57  154.8               25.0   \n",
      "203 2014-12-01                 37  232.8               24.9   \n",
      "\n",
      "     temperatura-mininima  temperatura-maxima  chuva_min_max_abs  \n",
      "0                    20.2                28.1           0.394690  \n",
      "1                    20.0                28.0           0.498894  \n",
      "2                    22.4                27.2           0.328097  \n",
      "3                    18.1                26.0           0.100885  \n",
      "4                    15.7                22.9           0.193584  \n",
      "..                    ...                 ...                ...  \n",
      "199                  13.1                24.7           0.025221  \n",
      "200                  18.6                26.8           0.151327  \n",
      "201                  17.2                30.0           0.032743  \n",
      "202                  22.1                28.3           0.340708  \n",
      "203                  21.3                27.8           0.513274  \n",
      "\n",
      "[204 rows x 7 columns]\n"
     ]
    }
   ],
   "source": [
    "#maximo_e_minimo_absoluto\n",
    "#chuva\n",
    "dados4 = dados1.copy()\n",
    "\n",
    "maximo_chuva = dados4['chuva'].max()\n",
    "minimo_chuva = dados4['chuva'].min()\n",
    "\n",
    "dados4['chuva_min_max_abs'] = (dados4['chuva'] - minimo_chuva) / (maximo_chuva - minimo_chuva)\n",
    "\n",
    "print(dados4)"
   ]
  },
  {
   "cell_type": "code",
   "execution_count": 7,
   "id": "e873f4ab-acde-46e1-be74-584d326618c7",
   "metadata": {},
   "outputs": [
    {
     "name": "stdout",
     "output_type": "stream",
     "text": [
      "          data  casos-confirmados  chuva  temperatura-media  \\\n",
      "0   1998-01-01                237  179.2               25.7   \n",
      "1   1998-02-01                331  226.3               25.1   \n",
      "2   1998-03-01                562  149.1               24.8   \n",
      "3   1998-04-01                187   46.4               22.7   \n",
      "4   1998-05-01                 32   88.3               19.2   \n",
      "..         ...                ...    ...                ...   \n",
      "199 2014-08-01                 55   12.2               20.6   \n",
      "200 2014-09-01                 40   69.2               23.0   \n",
      "201 2014-10-01                 40   15.6               24.7   \n",
      "202 2014-11-01                 57  154.8               25.0   \n",
      "203 2014-12-01                 37  232.8               24.9   \n",
      "\n",
      "     temperatura-mininima  temperatura-maxima  temp-med_min_max_abs  \n",
      "0                    20.2                28.1              0.861111  \n",
      "1                    20.0                28.0              0.805556  \n",
      "2                    22.4                27.2              0.777778  \n",
      "3                    18.1                26.0              0.583333  \n",
      "4                    15.7                22.9              0.259259  \n",
      "..                    ...                 ...                   ...  \n",
      "199                  13.1                24.7              0.388889  \n",
      "200                  18.6                26.8              0.611111  \n",
      "201                  17.2                30.0              0.768519  \n",
      "202                  22.1                28.3              0.796296  \n",
      "203                  21.3                27.8              0.787037  \n",
      "\n",
      "[204 rows x 7 columns]\n"
     ]
    }
   ],
   "source": [
    "#temperatura\n",
    "dados5 = dados1.copy()\n",
    "\n",
    "maximo_temp_med = dados5['temperatura-media'].max()\n",
    "minimo_temp_med = dados5['temperatura-media'].min()\n",
    "\n",
    "dados5['temp-med_min_max_abs'] = (dados5['temperatura-media'] - minimo_temp_med) / (maximo_temp_med - minimo_temp_med)\n",
    "\n",
    "print(dados5)"
   ]
  },
  {
   "cell_type": "code",
   "execution_count": 8,
   "id": "2bd51d9d-c75d-4ca5-86ab-dcb5d9a40783",
   "metadata": {},
   "outputs": [
    {
     "name": "stdout",
     "output_type": "stream",
     "text": [
      "          data  casos-confirmados  chuva  temperatura-media  \\\n",
      "0   1998-01-01                237  179.2               25.7   \n",
      "1   1998-02-01                331  226.3               25.1   \n",
      "2   1998-03-01                562  149.1               24.8   \n",
      "3   1998-04-01                187   46.4               22.7   \n",
      "4   1998-05-01                 32   88.3               19.2   \n",
      "..         ...                ...    ...                ...   \n",
      "199 2014-08-01                 55   12.2               20.6   \n",
      "200 2014-09-01                 40   69.2               23.0   \n",
      "201 2014-10-01                 40   15.6               24.7   \n",
      "202 2014-11-01                 57  154.8               25.0   \n",
      "203 2014-12-01                 37  232.8               24.9   \n",
      "\n",
      "     temperatura-mininima  temperatura-maxima  temp-min_min_max_abs  \n",
      "0                    20.2                28.1              0.784314  \n",
      "1                    20.0                28.0              0.771242  \n",
      "2                    22.4                27.2              0.928105  \n",
      "3                    18.1                26.0              0.647059  \n",
      "4                    15.7                22.9              0.490196  \n",
      "..                    ...                 ...                   ...  \n",
      "199                  13.1                24.7              0.320261  \n",
      "200                  18.6                26.8              0.679739  \n",
      "201                  17.2                30.0              0.588235  \n",
      "202                  22.1                28.3              0.908497  \n",
      "203                  21.3                27.8              0.856209  \n",
      "\n",
      "[204 rows x 7 columns]\n"
     ]
    }
   ],
   "source": [
    "#temperatura_mínima\n",
    "dados6 = dados1.copy()\n",
    "\n",
    "maximo_temp_min = dados6['temperatura-mininima'].max()\n",
    "minimo_temp_min = dados6['temperatura-mininima'].min()\n",
    "\n",
    "dados6['temp-min_min_max_abs'] = (dados6['temperatura-mininima'] - minimo_temp_min) / (maximo_temp_min - minimo_temp_min)\n",
    "\n",
    "print(dados6)"
   ]
  },
  {
   "cell_type": "code",
   "execution_count": 9,
   "id": "f5cc7d8c-de33-47f5-92e5-36ec392cfc8a",
   "metadata": {},
   "outputs": [
    {
     "name": "stdout",
     "output_type": "stream",
     "text": [
      "          data  casos-confirmados  chuva  temperatura-media  \\\n",
      "0   1998-01-01                237  179.2               25.7   \n",
      "1   1998-02-01                331  226.3               25.1   \n",
      "2   1998-03-01                562  149.1               24.8   \n",
      "3   1998-04-01                187   46.4               22.7   \n",
      "4   1998-05-01                 32   88.3               19.2   \n",
      "..         ...                ...    ...                ...   \n",
      "199 2014-08-01                 55   12.2               20.6   \n",
      "200 2014-09-01                 40   69.2               23.0   \n",
      "201 2014-10-01                 40   15.6               24.7   \n",
      "202 2014-11-01                 57  154.8               25.0   \n",
      "203 2014-12-01                 37  232.8               24.9   \n",
      "\n",
      "     temperatura-mininima  temperatura-maxima  temp-max_min_max_abs  \n",
      "0                    20.2                28.1              0.818182  \n",
      "1                    20.0                28.0              0.809091  \n",
      "2                    22.4                27.2              0.736364  \n",
      "3                    18.1                26.0              0.627273  \n",
      "4                    15.7                22.9              0.345455  \n",
      "..                    ...                 ...                   ...  \n",
      "199                  13.1                24.7              0.509091  \n",
      "200                  18.6                26.8              0.700000  \n",
      "201                  17.2                30.0              0.990909  \n",
      "202                  22.1                28.3              0.836364  \n",
      "203                  21.3                27.8              0.790909  \n",
      "\n",
      "[204 rows x 7 columns]\n"
     ]
    }
   ],
   "source": [
    "#tempertura_máxima\n",
    "dados7 = dados1.copy()\n",
    "\n",
    "maximo_temp_max = dados7['temperatura-maxima'].max()\n",
    "minimo_temp_max = dados7['temperatura-maxima'].min()\n",
    "\n",
    "dados7['temp-max_min_max_abs'] = (dados7['temperatura-maxima'] - minimo_temp_max) / (maximo_temp_max - minimo_temp_max)\n",
    "\n",
    "print(dados7)"
   ]
  },
  {
   "cell_type": "code",
   "execution_count": 10,
   "id": "1f3cdbbf-12e4-4e22-8498-1248010a8c50",
   "metadata": {},
   "outputs": [
    {
     "name": "stdout",
     "output_type": "stream",
     "text": [
      "          data  casos-confirmados  chuva  temperatura-media  \\\n",
      "0   1998-01-01                237  179.2               25.7   \n",
      "1   1998-02-01                331  226.3               25.1   \n",
      "2   1998-03-01                562  149.1               24.8   \n",
      "3   1998-04-01                187   46.4               22.7   \n",
      "4   1998-05-01                 32   88.3               19.2   \n",
      "..         ...                ...    ...                ...   \n",
      "199 2014-08-01                 55   12.2               20.6   \n",
      "200 2014-09-01                 40   69.2               23.0   \n",
      "201 2014-10-01                 40   15.6               24.7   \n",
      "202 2014-11-01                 57  154.8               25.0   \n",
      "203 2014-12-01                 37  232.8               24.9   \n",
      "\n",
      "     temperatura-mininima  temperatura-maxima  casos_min_max_abs  \n",
      "0                    20.2                28.1           0.011602  \n",
      "1                    20.0                28.0           0.016203  \n",
      "2                    22.4                27.2           0.027511  \n",
      "3                    18.1                26.0           0.009154  \n",
      "4                    15.7                22.9           0.001566  \n",
      "..                    ...                 ...                ...  \n",
      "199                  13.1                24.7           0.002692  \n",
      "200                  18.6                26.8           0.001958  \n",
      "201                  17.2                30.0           0.001958  \n",
      "202                  22.1                28.3           0.002790  \n",
      "203                  21.3                27.8           0.001811  \n",
      "\n",
      "[204 rows x 7 columns]\n"
     ]
    }
   ],
   "source": [
    "#casos_confirmados\n",
    "dados8 = dados1.copy()\n",
    "\n",
    "maximo_casos = dados8['casos-confirmados'].max()\n",
    "minimo_casos = dados8['casos-confirmados'].min()\n",
    "\n",
    "dados8['casos_min_max_abs'] = (dados8['casos-confirmados'] - minimo_casos) / (maximo_casos - minimo_casos)\n",
    "\n",
    "print(dados8)"
   ]
  },
  {
   "cell_type": "code",
   "execution_count": 11,
   "id": "cebbfcc4-1971-4ff7-8004-7b03d7c53970",
   "metadata": {},
   "outputs": [
    {
     "name": "stdout",
     "output_type": "stream",
     "text": [
      "date_time => 0     1998-01-01\n",
      "1     1998-02-01\n",
      "2     1998-03-01\n",
      "3     1998-04-01\n",
      "4     1998-05-01\n",
      "         ...    \n",
      "199   2014-08-01\n",
      "200   2014-09-01\n",
      "201   2014-10-01\n",
      "202   2014-11-01\n",
      "203   2014-12-01\n",
      "Name: data, Length: 204, dtype: datetime64[ns]\n"
     ]
    },
    {
     "ename": "AttributeError",
     "evalue": "'Series' object has no attribute 'timetuple'",
     "output_type": "error",
     "traceback": [
      "\u001b[1;31m---------------------------------------------------------------------------\u001b[0m",
      "\u001b[1;31mAttributeError\u001b[0m                            Traceback (most recent call last)",
      "\u001b[1;32mC:\\Users\\ANA220~1\\AppData\\Local\\Temp/ipykernel_14460/1112113244.py\u001b[0m in \u001b[0;36m<module>\u001b[1;34m\u001b[0m\n\u001b[0;32m      6\u001b[0m \u001b[1;31m# convertendo para unix_timestamp\u001b[0m\u001b[1;33m\u001b[0m\u001b[1;33m\u001b[0m\u001b[0m\n\u001b[0;32m      7\u001b[0m print(\"unix_timestamp => \",\n\u001b[1;32m----> 8\u001b[1;33m       (time.mktime(date_time.timetuple())))\n\u001b[0m\u001b[0;32m      9\u001b[0m \u001b[1;33m\u001b[0m\u001b[0m\n\u001b[0;32m     10\u001b[0m \u001b[1;31m#matriz covariância\u001b[0m\u001b[1;33m\u001b[0m\u001b[1;33m\u001b[0m\u001b[0m\n",
      "\u001b[1;32mc:\\venv\\ilumpy\\lib\\site-packages\\pandas\\core\\generic.py\u001b[0m in \u001b[0;36m__getattr__\u001b[1;34m(self, name)\u001b[0m\n\u001b[0;32m   5485\u001b[0m         ):\n\u001b[0;32m   5486\u001b[0m             \u001b[1;32mreturn\u001b[0m \u001b[0mself\u001b[0m\u001b[1;33m[\u001b[0m\u001b[0mname\u001b[0m\u001b[1;33m]\u001b[0m\u001b[1;33m\u001b[0m\u001b[1;33m\u001b[0m\u001b[0m\n\u001b[1;32m-> 5487\u001b[1;33m         \u001b[1;32mreturn\u001b[0m \u001b[0mobject\u001b[0m\u001b[1;33m.\u001b[0m\u001b[0m__getattribute__\u001b[0m\u001b[1;33m(\u001b[0m\u001b[0mself\u001b[0m\u001b[1;33m,\u001b[0m \u001b[0mname\u001b[0m\u001b[1;33m)\u001b[0m\u001b[1;33m\u001b[0m\u001b[1;33m\u001b[0m\u001b[0m\n\u001b[0m\u001b[0;32m   5488\u001b[0m \u001b[1;33m\u001b[0m\u001b[0m\n\u001b[0;32m   5489\u001b[0m     \u001b[1;32mdef\u001b[0m \u001b[0m__setattr__\u001b[0m\u001b[1;33m(\u001b[0m\u001b[0mself\u001b[0m\u001b[1;33m,\u001b[0m \u001b[0mname\u001b[0m\u001b[1;33m:\u001b[0m \u001b[0mstr\u001b[0m\u001b[1;33m,\u001b[0m \u001b[0mvalue\u001b[0m\u001b[1;33m)\u001b[0m \u001b[1;33m->\u001b[0m \u001b[1;32mNone\u001b[0m\u001b[1;33m:\u001b[0m\u001b[1;33m\u001b[0m\u001b[1;33m\u001b[0m\u001b[0m\n",
      "\u001b[1;31mAttributeError\u001b[0m: 'Series' object has no attribute 'timetuple'"
     ]
    }
   ],
   "source": [
    "date_time = dados1[\"data\"]\n",
    "\n",
    "# dados do tipo datetime\n",
    "print(\"date_time =>\",date_time)\n",
    " \n",
    "# convertendo para unix_timestamp\n",
    "print(\"unix_timestamp => \",\n",
    "      (time.mktime(date_time.timetuple())))\n",
    "\n",
    "#matriz covariância\n",
    "np.cov(dados1, bias=True)"
   ]
  },
  {
   "cell_type": "markdown",
   "id": "4d74ce25-3679-4afd-8dbc-ab255327144e",
   "metadata": {},
   "source": [
    "### Gráficos"
   ]
  },
  {
   "cell_type": "code",
   "execution_count": 13,
   "id": "cb5efa91-5101-47e9-987e-ae9e637c6901",
   "metadata": {},
   "outputs": [
    {
     "data": {
      "text/html": [
       "<div>\n",
       "<style scoped>\n",
       "    .dataframe tbody tr th:only-of-type {\n",
       "        vertical-align: middle;\n",
       "    }\n",
       "\n",
       "    .dataframe tbody tr th {\n",
       "        vertical-align: top;\n",
       "    }\n",
       "\n",
       "    .dataframe thead th {\n",
       "        text-align: right;\n",
       "    }\n",
       "</style>\n",
       "<table border=\"1\" class=\"dataframe\">\n",
       "  <thead>\n",
       "    <tr style=\"text-align: right;\">\n",
       "      <th></th>\n",
       "      <th>data</th>\n",
       "      <th>casos-confirmados</th>\n",
       "      <th>chuva</th>\n",
       "      <th>temperatura-media</th>\n",
       "      <th>temperatura-mininima</th>\n",
       "      <th>temperatura-maxima</th>\n",
       "    </tr>\n",
       "  </thead>\n",
       "  <tbody>\n",
       "    <tr>\n",
       "      <th>0</th>\n",
       "      <td>1998-01-01</td>\n",
       "      <td>2.374748</td>\n",
       "      <td>179.2</td>\n",
       "      <td>25.7</td>\n",
       "      <td>20.2</td>\n",
       "      <td>28.1</td>\n",
       "    </tr>\n",
       "    <tr>\n",
       "      <th>1</th>\n",
       "      <td>1998-02-01</td>\n",
       "      <td>2.519828</td>\n",
       "      <td>226.3</td>\n",
       "      <td>25.1</td>\n",
       "      <td>20.0</td>\n",
       "      <td>28.0</td>\n",
       "    </tr>\n",
       "    <tr>\n",
       "      <th>2</th>\n",
       "      <td>1998-03-01</td>\n",
       "      <td>2.749736</td>\n",
       "      <td>149.1</td>\n",
       "      <td>24.8</td>\n",
       "      <td>22.4</td>\n",
       "      <td>27.2</td>\n",
       "    </tr>\n",
       "    <tr>\n",
       "      <th>3</th>\n",
       "      <td>1998-04-01</td>\n",
       "      <td>2.271842</td>\n",
       "      <td>46.4</td>\n",
       "      <td>22.7</td>\n",
       "      <td>18.1</td>\n",
       "      <td>26.0</td>\n",
       "    </tr>\n",
       "    <tr>\n",
       "      <th>4</th>\n",
       "      <td>1998-05-01</td>\n",
       "      <td>1.505150</td>\n",
       "      <td>88.3</td>\n",
       "      <td>19.2</td>\n",
       "      <td>15.7</td>\n",
       "      <td>22.9</td>\n",
       "    </tr>\n",
       "  </tbody>\n",
       "</table>\n",
       "</div>"
      ],
      "text/plain": [
       "        data  casos-confirmados  chuva  temperatura-media  \\\n",
       "0 1998-01-01           2.374748  179.2               25.7   \n",
       "1 1998-02-01           2.519828  226.3               25.1   \n",
       "2 1998-03-01           2.749736  149.1               24.8   \n",
       "3 1998-04-01           2.271842   46.4               22.7   \n",
       "4 1998-05-01           1.505150   88.3               19.2   \n",
       "\n",
       "   temperatura-mininima  temperatura-maxima  \n",
       "0                  20.2                28.1  \n",
       "1                  20.0                28.0  \n",
       "2                  22.4                27.2  \n",
       "3                  18.1                26.0  \n",
       "4                  15.7                22.9  "
      ]
     },
     "execution_count": 13,
     "metadata": {},
     "output_type": "execute_result"
    }
   ],
   "source": [
    "#Carregando o Dataset\n",
    "iris = sns.load_dataset('iris')\n",
    "\n",
    "#visualização das linhas do dataset\n",
    "dados1.head(5)"
   ]
  },
  {
   "cell_type": "code",
   "execution_count": 15,
   "id": "7bc4196d-70e6-483b-b578-8d121d15896a",
   "metadata": {},
   "outputs": [
    {
     "data": {
      "image/png": "[encoded data removed]",
      "text/plain": [
       "<Figure size 432x288 with 1 Axes>"
      ]
     },
     "metadata": {
      "needs_background": "light"
     },
     "output_type": "display_data"
    }
   ],
   "source": [
    "#dados1[\"casos-confirmados\"] = np.log10(dados1[\"casos-confirmados\"])\n",
    "\n",
    "plt.plot(dados8['data'], dados8['casos_min_max_abs'])\n",
    "plt.xlabel('Tempo')\n",
    "plt.ylabel('Casos Confirmados')\n",
    "plt.show()\n",
    "\n",
    "#plt.bar(dados1['data'],dados1['casos-confirmados'])"
   ]
  },
  {
   "cell_type": "code",
   "execution_count": null,
   "id": "0a313294-99f0-425a-91b9-c0bdaa33f4ec",
   "metadata": {},
   "outputs": [],
   "source": []
  }
 ],
 "metadata": {
  "kernelspec": {
   "display_name": "ilumpy",
   "language": "python",
   "name": "ilumpy"
  },
  "language_info": {
   "codemirror_mode": {
    "name": "ipython",
    "version": 3
   },
   "file_extension": ".py",
   "mimetype": "text/x-python",
   "name": "python",
   "nbconvert_exporter": "python",
   "pygments_lexer": "ipython3",
   "version": "3.9.7"
  }
 },
 "nbformat": 4,
 "nbformat_minor": 5
}
