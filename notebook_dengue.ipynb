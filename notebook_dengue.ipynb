{
 "cells": [
  {
   "cell_type": "markdown",
   "id": "bfcb0fef-bc4e-4936-9ccf-8d9e74f1a134",
   "metadata": {},
   "source": [
    "# Projeto de Aprendizado de Máquina\n",
    "\n",
    "### 2º semestre de 2022\n",
    "\n",
    "#### Grupo formado por:\n",
    "        Ana Clara Loponi - 220073\n",
    "        Ana Clara Brandão - 220069\n",
    "        Heitor Bernardes - 220052\n",
    "        Lorraine Casseano - 220036\n",
    "    \n",
    "### Preparação dos Dados: Tratamento de Dados e Normalização \n",
    "\n",
    "<ht> Idealmente, o projeto consiste em treinar uma máquina para prever possíveis surtos de dengue. Inicialmente, vamos usar dados coletados em Campinas, São Paulo, dos anos de 1998 à 2014 p/ mês, referentes ao número de casos confirmados, volume de chuva (em mm), temperatura mínima, temperatura máxima e temperatura média. "
   ]
  },
  {
   "cell_type": "code",
   "execution_count": 126,
   "id": "3a4c071c-dc44-4f1f-8c41-7b8baef06f1e",
   "metadata": {
    "tags": []
   },
   "outputs": [],
   "source": [
    "# Importação de bibliotecas\n",
    "import pandas as pd\n",
    "import numpy as np\n",
    "import matplotlib.pyplot as plt\n",
    "import seaborn as sns\n",
    "import datetime\n",
    "from scipy import stats"
   ]
  },
  {
   "cell_type": "code",
   "execution_count": 127,
   "id": "b53a3665-6cbc-4f4d-a690-83dda16e01b8",
   "metadata": {},
   "outputs": [
    {
     "data": {
      "text/plain": [
       "data                    datetime64[ns]\n",
       "casos-confirmados                int64\n",
       "chuva                          float64\n",
       "temperatura-media              float64\n",
       "temperatura-mininima           float64\n",
       "temperatura-maxima             float64\n",
       "dtype: object"
      ]
     },
     "execution_count": 127,
     "metadata": {},
     "output_type": "execute_result"
    }
   ],
   "source": [
    "dados1 = pd.read_excel(\"dataset_dengue.xlsx\") # Lendos os dados.\n",
    "\n",
    "dados1.dtypes # Este comando informa quais os tipos de dados o dataframe contém."
   ]
  },
  {
   "cell_type": "markdown",
   "id": "13eae3cb-1a69-4f63-aefc-28e68f0ba5e2",
   "metadata": {},
   "source": [
    "### Testando as formas de normalização"
   ]
  },
  {
   "cell_type": "code",
   "execution_count": 128,
   "id": "343fc917-6064-4822-a7dd-58440d1bfead",
   "metadata": {},
   "outputs": [],
   "source": [
    "#padrão - teste\n",
    "dados2 = dados1.copy()\n",
    "\n",
    "media_chuva = dados2['chuva'].mean()\n",
    "desvio_padrao_chuva = dados2['chuva'].std()\n",
    "\n",
    "dados2['chuva_zscore'] = (dados2['chuva'] - media_chuva) / desvio_padrao_chuva\n",
    "\n",
    "#print(dados2)"
   ]
  },
  {
   "cell_type": "code",
   "execution_count": 129,
   "id": "d79f512e-a38f-4320-bcd9-c15f8cedf6eb",
   "metadata": {},
   "outputs": [],
   "source": [
    "#maximo_absoluto\n",
    "dados3 = dados1.copy()\n",
    "\n",
    "maximo_absoluto = dados3['chuva'].max()\n",
    "\n",
    "dados3['chuva_max_abs'] = dados3['chuva'] / maximo_absoluto\n",
    "\n",
    "#print(dados3)"
   ]
  },
  {
   "cell_type": "markdown",
   "id": "e3e578f0-6f63-4555-8099-f21a7b43f246",
   "metadata": {},
   "source": [
    "### Normaliação por Máximo e Mínimo Absoluto"
   ]
  },
  {
   "cell_type": "code",
   "execution_count": 130,
   "id": "cb5e2bfc-267c-4bb6-86f5-577e5584cd66",
   "metadata": {},
   "outputs": [
    {
     "name": "stdout",
     "output_type": "stream",
     "text": [
      "          data  casos-confirmados  chuva  temperatura-media  \\\n",
      "0   1998-01-01                237  179.2               25.7   \n",
      "1   1998-02-01                331  226.3               25.1   \n",
      "2   1998-03-01                562  149.1               24.8   \n",
      "3   1998-04-01                187   46.4               22.7   \n",
      "4   1998-05-01                 32   88.3               19.2   \n",
      "..         ...                ...    ...                ...   \n",
      "199 2014-08-01                 55   12.2               20.6   \n",
      "200 2014-09-01                 40   69.2               23.0   \n",
      "201 2014-10-01                 40   15.6               24.7   \n",
      "202 2014-11-01                 57  154.8               25.0   \n",
      "203 2014-12-01                 37  232.8               24.9   \n",
      "\n",
      "     temperatura-mininima  temperatura-maxima  chuva_min_max_abs  \n",
      "0                    20.2                28.1           0.395760  \n",
      "1                    20.0                28.0           0.499779  \n",
      "2                    22.4                27.2           0.329284  \n",
      "3                    18.1                26.0           0.102473  \n",
      "4                    15.7                22.9           0.195009  \n",
      "..                    ...                 ...                ...  \n",
      "199                  13.1                24.7           0.026943  \n",
      "200                  18.6                26.8           0.152827  \n",
      "201                  17.2                30.0           0.034452  \n",
      "202                  22.1                28.3           0.341873  \n",
      "203                  21.3                27.8           0.514134  \n",
      "\n",
      "[204 rows x 7 columns]\n"
     ]
    }
   ],
   "source": [
    "#maximo_e_minimo_absoluto\n",
    "#chuva\n",
    "dados4 = dados1.copy()\n",
    "\n",
    "maximo_chuva = dados4['chuva'].max()\n",
    "minimo_chuva = dados4['chuva'].min()\n",
    "\n",
    "dados4['chuva_min_max_abs'] = (dados4['chuva'] - minimo_chuva) / (maximo_chuva - minimo_chuva)\n",
    "\n",
    "print(dados4)"
   ]
  },
  {
   "cell_type": "code",
   "execution_count": 131,
   "id": "e873f4ab-acde-46e1-be74-584d326618c7",
   "metadata": {},
   "outputs": [
    {
     "name": "stdout",
     "output_type": "stream",
     "text": [
      "          data  casos-confirmados  chuva  temperatura-media  \\\n",
      "0   1998-01-01                237  179.2               25.7   \n",
      "1   1998-02-01                331  226.3               25.1   \n",
      "2   1998-03-01                562  149.1               24.8   \n",
      "3   1998-04-01                187   46.4               22.7   \n",
      "4   1998-05-01                 32   88.3               19.2   \n",
      "..         ...                ...    ...                ...   \n",
      "199 2014-08-01                 55   12.2               20.6   \n",
      "200 2014-09-01                 40   69.2               23.0   \n",
      "201 2014-10-01                 40   15.6               24.7   \n",
      "202 2014-11-01                 57  154.8               25.0   \n",
      "203 2014-12-01                 37  232.8               24.9   \n",
      "\n",
      "     temperatura-mininima  temperatura-maxima  chuva_min_max_abs  \\\n",
      "0                    20.2                28.1           0.395760   \n",
      "1                    20.0                28.0           0.499779   \n",
      "2                    22.4                27.2           0.329284   \n",
      "3                    18.1                26.0           0.102473   \n",
      "4                    15.7                22.9           0.195009   \n",
      "..                    ...                 ...                ...   \n",
      "199                  13.1                24.7           0.026943   \n",
      "200                  18.6                26.8           0.152827   \n",
      "201                  17.2                30.0           0.034452   \n",
      "202                  22.1                28.3           0.341873   \n",
      "203                  21.3                27.8           0.514134   \n",
      "\n",
      "     temp-med_min_max_abs  \n",
      "0                0.861111  \n",
      "1                0.805556  \n",
      "2                0.777778  \n",
      "3                0.583333  \n",
      "4                0.259259  \n",
      "..                    ...  \n",
      "199              0.388889  \n",
      "200              0.611111  \n",
      "201              0.768519  \n",
      "202              0.796296  \n",
      "203              0.787037  \n",
      "\n",
      "[204 rows x 8 columns]\n"
     ]
    }
   ],
   "source": [
    "#temperatura\n",
    "\n",
    "maximo_temp_med = dados4['temperatura-media'].max()\n",
    "minimo_temp_med = dados4['temperatura-media'].min()\n",
    "\n",
    "dados4['temp-med_min_max_abs'] = (dados4['temperatura-media'] - minimo_temp_med) / (maximo_temp_med - minimo_temp_med)\n",
    "\n",
    "print(dados4)"
   ]
  },
  {
   "cell_type": "code",
   "execution_count": 132,
   "id": "2bd51d9d-c75d-4ca5-86ab-dcb5d9a40783",
   "metadata": {},
   "outputs": [
    {
     "name": "stdout",
     "output_type": "stream",
     "text": [
      "          data  casos-confirmados  chuva  temperatura-media  \\\n",
      "0   1998-01-01                237  179.2               25.7   \n",
      "1   1998-02-01                331  226.3               25.1   \n",
      "2   1998-03-01                562  149.1               24.8   \n",
      "3   1998-04-01                187   46.4               22.7   \n",
      "4   1998-05-01                 32   88.3               19.2   \n",
      "..         ...                ...    ...                ...   \n",
      "199 2014-08-01                 55   12.2               20.6   \n",
      "200 2014-09-01                 40   69.2               23.0   \n",
      "201 2014-10-01                 40   15.6               24.7   \n",
      "202 2014-11-01                 57  154.8               25.0   \n",
      "203 2014-12-01                 37  232.8               24.9   \n",
      "\n",
      "     temperatura-mininima  temperatura-maxima  chuva_min_max_abs  \\\n",
      "0                    20.2                28.1           0.395760   \n",
      "1                    20.0                28.0           0.499779   \n",
      "2                    22.4                27.2           0.329284   \n",
      "3                    18.1                26.0           0.102473   \n",
      "4                    15.7                22.9           0.195009   \n",
      "..                    ...                 ...                ...   \n",
      "199                  13.1                24.7           0.026943   \n",
      "200                  18.6                26.8           0.152827   \n",
      "201                  17.2                30.0           0.034452   \n",
      "202                  22.1                28.3           0.341873   \n",
      "203                  21.3                27.8           0.514134   \n",
      "\n",
      "     temp-med_min_max_abs  temp-min_min_max_abs  \n",
      "0                0.861111              0.784314  \n",
      "1                0.805556              0.771242  \n",
      "2                0.777778              0.928105  \n",
      "3                0.583333              0.647059  \n",
      "4                0.259259              0.490196  \n",
      "..                    ...                   ...  \n",
      "199              0.388889              0.320261  \n",
      "200              0.611111              0.679739  \n",
      "201              0.768519              0.588235  \n",
      "202              0.796296              0.908497  \n",
      "203              0.787037              0.856209  \n",
      "\n",
      "[204 rows x 9 columns]\n"
     ]
    }
   ],
   "source": [
    "#temperatura_mínima\n",
    "\n",
    "maximo_temp_min = dados4['temperatura-mininima'].max()\n",
    "minimo_temp_min = dados4['temperatura-mininima'].min()\n",
    "\n",
    "dados4['temp-min_min_max_abs'] = (dados4['temperatura-mininima'] - minimo_temp_min) / (maximo_temp_min - minimo_temp_min)\n",
    "\n",
    "print(dados4)"
   ]
  },
  {
   "cell_type": "code",
   "execution_count": 133,
   "id": "f5cc7d8c-de33-47f5-92e5-36ec392cfc8a",
   "metadata": {},
   "outputs": [
    {
     "name": "stdout",
     "output_type": "stream",
     "text": [
      "          data  casos-confirmados  chuva  temperatura-media  \\\n",
      "0   1998-01-01                237  179.2               25.7   \n",
      "1   1998-02-01                331  226.3               25.1   \n",
      "2   1998-03-01                562  149.1               24.8   \n",
      "3   1998-04-01                187   46.4               22.7   \n",
      "4   1998-05-01                 32   88.3               19.2   \n",
      "..         ...                ...    ...                ...   \n",
      "199 2014-08-01                 55   12.2               20.6   \n",
      "200 2014-09-01                 40   69.2               23.0   \n",
      "201 2014-10-01                 40   15.6               24.7   \n",
      "202 2014-11-01                 57  154.8               25.0   \n",
      "203 2014-12-01                 37  232.8               24.9   \n",
      "\n",
      "     temperatura-mininima  temperatura-maxima  chuva_min_max_abs  \\\n",
      "0                    20.2                28.1           0.395760   \n",
      "1                    20.0                28.0           0.499779   \n",
      "2                    22.4                27.2           0.329284   \n",
      "3                    18.1                26.0           0.102473   \n",
      "4                    15.7                22.9           0.195009   \n",
      "..                    ...                 ...                ...   \n",
      "199                  13.1                24.7           0.026943   \n",
      "200                  18.6                26.8           0.152827   \n",
      "201                  17.2                30.0           0.034452   \n",
      "202                  22.1                28.3           0.341873   \n",
      "203                  21.3                27.8           0.514134   \n",
      "\n",
      "     temp-med_min_max_abs  temp-min_min_max_abs  temp-max_min_max_abs  \n",
      "0                0.861111              0.784314              0.818182  \n",
      "1                0.805556              0.771242              0.809091  \n",
      "2                0.777778              0.928105              0.736364  \n",
      "3                0.583333              0.647059              0.627273  \n",
      "4                0.259259              0.490196              0.345455  \n",
      "..                    ...                   ...                   ...  \n",
      "199              0.388889              0.320261              0.509091  \n",
      "200              0.611111              0.679739              0.700000  \n",
      "201              0.768519              0.588235              0.990909  \n",
      "202              0.796296              0.908497              0.836364  \n",
      "203              0.787037              0.856209              0.790909  \n",
      "\n",
      "[204 rows x 10 columns]\n"
     ]
    }
   ],
   "source": [
    "#tempertura_máxima\n",
    "\n",
    "maximo_temp_max = dados4['temperatura-maxima'].max()\n",
    "minimo_temp_max = dados4['temperatura-maxima'].min()\n",
    "\n",
    "dados4['temp-max_min_max_abs'] = (dados4['temperatura-maxima'] - minimo_temp_max) / (maximo_temp_max - minimo_temp_max)\n",
    "\n",
    "print(dados4)"
   ]
  },
  {
   "cell_type": "code",
   "execution_count": 134,
   "id": "1f3cdbbf-12e4-4e22-8498-1248010a8c50",
   "metadata": {},
   "outputs": [
    {
     "name": "stdout",
     "output_type": "stream",
     "text": [
      "          data  casos-confirmados  chuva  temperatura-media  \\\n",
      "0   1998-01-01                237  179.2               25.7   \n",
      "1   1998-02-01                331  226.3               25.1   \n",
      "2   1998-03-01                562  149.1               24.8   \n",
      "3   1998-04-01                187   46.4               22.7   \n",
      "4   1998-05-01                 32   88.3               19.2   \n",
      "..         ...                ...    ...                ...   \n",
      "199 2014-08-01                 55   12.2               20.6   \n",
      "200 2014-09-01                 40   69.2               23.0   \n",
      "201 2014-10-01                 40   15.6               24.7   \n",
      "202 2014-11-01                 57  154.8               25.0   \n",
      "203 2014-12-01                 37  232.8               24.9   \n",
      "\n",
      "     temperatura-mininima  temperatura-maxima  chuva_min_max_abs  \\\n",
      "0                    20.2                28.1           0.395760   \n",
      "1                    20.0                28.0           0.499779   \n",
      "2                    22.4                27.2           0.329284   \n",
      "3                    18.1                26.0           0.102473   \n",
      "4                    15.7                22.9           0.195009   \n",
      "..                    ...                 ...                ...   \n",
      "199                  13.1                24.7           0.026943   \n",
      "200                  18.6                26.8           0.152827   \n",
      "201                  17.2                30.0           0.034452   \n",
      "202                  22.1                28.3           0.341873   \n",
      "203                  21.3                27.8           0.514134   \n",
      "\n",
      "     temp-med_min_max_abs  temp-min_min_max_abs  temp-max_min_max_abs  \\\n",
      "0                0.861111              0.784314              0.818182   \n",
      "1                0.805556              0.771242              0.809091   \n",
      "2                0.777778              0.928105              0.736364   \n",
      "3                0.583333              0.647059              0.627273   \n",
      "4                0.259259              0.490196              0.345455   \n",
      "..                    ...                   ...                   ...   \n",
      "199              0.388889              0.320261              0.509091   \n",
      "200              0.611111              0.679739              0.700000   \n",
      "201              0.768519              0.588235              0.990909   \n",
      "202              0.796296              0.908497              0.836364   \n",
      "203              0.787037              0.856209              0.790909   \n",
      "\n",
      "     casos_min_max_abs  \n",
      "0             0.011602  \n",
      "1             0.016203  \n",
      "2             0.027511  \n",
      "3             0.009154  \n",
      "4             0.001566  \n",
      "..                 ...  \n",
      "199           0.002692  \n",
      "200           0.001958  \n",
      "201           0.001958  \n",
      "202           0.002790  \n",
      "203           0.001811  \n",
      "\n",
      "[204 rows x 11 columns]\n"
     ]
    }
   ],
   "source": [
    "#casos_confirmados\n",
    "\n",
    "maximo_casos = dados4['casos-confirmados'].max()\n",
    "minimo_casos = dados4['casos-confirmados'].min()\n",
    "\n",
    "dados4['casos_min_max_abs'] = (dados4['casos-confirmados'] - minimo_casos) / (maximo_casos - minimo_casos)\n",
    "\n",
    "print(dados4)"
   ]
  },
  {
   "cell_type": "code",
   "execution_count": 135,
   "id": "236a58c4-ff40-43bc-82b5-f77e1d9bfba1",
   "metadata": {},
   "outputs": [
    {
     "name": "stdout",
     "output_type": "stream",
     "text": [
      "RangeIndex(start=0, stop=204, step=1)\n"
     ]
    }
   ],
   "source": [
    "#Identificamos o número de linhas do nosso dataset como índices, pois entendemos a quantidade de meses durante os anos de 1998 à 2014 como uma feature. \n",
    "#Assim, ao invés de agruparmos por data, agrupamos por meses a partir de Janeiro/1998, facilitando a resolução do problemas.\n",
    "\n",
    "print(dados1.index)"
   ]
  },
  {
   "cell_type": "markdown",
   "id": "de086400-bc37-433c-affb-4a6ddc628082",
   "metadata": {},
   "source": [
    "### Análise Exploratória dos Dados"
   ]
  },
  {
   "cell_type": "code",
   "execution_count": 136,
   "id": "7fc76f82-61e1-4be3-b2a4-e57a7b517cf6",
   "metadata": {},
   "outputs": [
    {
     "name": "stdout",
     "output_type": "stream",
     "text": [
      "357.53921568627453 112.07549019607842 17.679411764705883 25.565196078431374\n"
     ]
    }
   ],
   "source": [
    "#Média de cada coluna de dados\n",
    "\n",
    "M1 = dados1[\"casos-confirmados\"].mean()\n",
    "\n",
    "M2 = dados1[\"chuva\"].mean()\n",
    "\n",
    "M3 = dados1[\"temperatura-mininima\"].mean()\n",
    "\n",
    "M4 = dados1[\"temperatura-maxima\"].mean()\n",
    "\n",
    "print(M1, M2, M3, M4)"
   ]
  },
  {
   "cell_type": "code",
   "execution_count": 137,
   "id": "6e0345ca-e6da-47ca-b029-ba9c179c1572",
   "metadata": {},
   "outputs": [
    {
     "name": "stdout",
     "output_type": "stream",
     "text": [
      "1741.8147587005246 97.3904390734082 3.336315723659817 2.2498635888116434\n"
     ]
    }
   ],
   "source": [
    "#Desvio Padrão\n",
    "\n",
    "D1 = dados1[\"casos-confirmados\"].std()\n",
    "\n",
    "D2 = dados1[\"chuva\"].std()\n",
    "\n",
    "D3 = dados1[\"temperatura-mininima\"].std()\n",
    "\n",
    "D4 = dados1[\"temperatura-maxima\"].std()\n",
    "\n",
    "print(D1, D2, D3, D4)"
   ]
  },
  {
   "cell_type": "markdown",
   "id": "6bc6d7aa-b916-4b37-b810-457f7d6d3527",
   "metadata": {},
   "source": [
    "Observando esses resultados, concluimos que eles não eram satisfatórios, e não forneciam as informações que precisavamos. Por isso, optamos por uma análise diferente, fazendo uma separação referente aos meses, de forma que as médias sejam separadas em média_janeiro, média_fevereiro, média_março e assim por diante."
   ]
  },
  {
   "cell_type": "code",
   "execution_count": 147,
   "id": "97493d0d-1f84-4e95-ae72-a0d623e24633",
   "metadata": {},
   "outputs": [
    {
     "name": "stdout",
     "output_type": "stream",
     "text": [
      "     casos-confirmados  chuva  temperatura-media  temperatura-mininima  \\\n",
      "0                  237  179.2               25.7                  20.2   \n",
      "1                  331  226.3               25.1                  20.0   \n",
      "2                  562  149.1               24.8                  22.4   \n",
      "3                  187   46.4               22.7                  18.1   \n",
      "4                   32   88.3               19.2                  15.7   \n",
      "..                 ...    ...                ...                   ...   \n",
      "199                 55   12.2               20.6                  13.1   \n",
      "200                 40   69.2               23.0                  18.6   \n",
      "201                 40   15.6               24.7                  17.2   \n",
      "202                 57  154.8               25.0                  22.1   \n",
      "203                 37  232.8               24.9                  21.3   \n",
      "\n",
      "     temperatura-maxima  \n",
      "0                  28.1  \n",
      "1                  28.0  \n",
      "2                  27.2  \n",
      "3                  26.0  \n",
      "4                  22.9  \n",
      "..                  ...  \n",
      "199                24.7  \n",
      "200                26.8  \n",
      "201                30.0  \n",
      "202                28.3  \n",
      "203                27.8  \n",
      "\n",
      "[204 rows x 5 columns]\n"
     ]
    }
   ],
   "source": [
    "dados5 = dados1.drop(columns = ['data'], axis = 1)\n",
    "print(dados5)"
   ]
  },
  {
   "cell_type": "code",
   "execution_count": 152,
   "id": "45a155e8-1b7d-4f83-b0a9-561a6eb06d85",
   "metadata": {},
   "outputs": [],
   "source": [
    "#Separando os dados e colocando-os em listas iteraveis\n",
    "\n",
    "conv = dados5.values.tolist() # função que transforma de dataset para lista\n",
    "\n",
    "casos = []\n",
    "chuva = []\n",
    "tem_med = []\n",
    "tem_max = []\n",
    "tem_min = []\n",
    "\n",
    "for i in conv:\n",
    "    for j in range(0, len(i), 5):\n",
    "        casos.append(i[j])\n",
    "\n",
    "for i in conv:\n",
    "    for j in range(1, len(i), 5):\n",
    "        chuva.append(i[j])\n",
    "        \n",
    "for i in conv:\n",
    "    for j in range(2, len(i), 5):\n",
    "        tem_med.append(i[j])\n",
    "        \n",
    "for i in conv:\n",
    "    for j in range(3, len(i), 5):\n",
    "        tem_min.append(i[j])\n",
    "        \n",
    "for i in conv:\n",
    "    for j in range(4, len(i), 5):\n",
    "        tem_max.append(i[j])\n",
    "        \n",
    "\n",
    "#print(casos)\n",
    "#print(chuva)\n",
    "#print(tem_med)\n",
    "#print(tem_min) \n",
    "#print(tem_max)"
   ]
  },
  {
   "cell_type": "code",
   "execution_count": 153,
   "id": "3bbe2178-ade4-4f05-8649-56322ff24c96",
   "metadata": {},
   "outputs": [],
   "source": [
    "def separacao(x, c):\n",
    "    \n",
    "    \"\"\" Separa os dados por mês e calcula a média e desvio padrão \"\"\"\n",
    "    \n",
    "    if c >= 12: # Critério de parada\n",
    "        return 0 \n",
    "    \n",
    "    else:\n",
    "\n",
    "        lista = []  # Para armazernar e processar os dados \n",
    "        lista2 = []\n",
    "    \n",
    "        for i in range(c,len(x),12): # Separa os dados por meses, fazendo uma listagem dos dados com um intervalo de 12 itens\n",
    "            lista.append(x[i])\n",
    "    \n",
    "    m = np.mean(lista) # função do numpy para calculo de media \n",
    "    dp = np.std(lista) # função do numpy para calculo de desvio padrão\n",
    "    lista2.append(m)\n",
    "    lista2.append(dp)\n",
    "    \n",
    "        \n",
    "    lista.clear() # Ao final da operação, a lista é esvaziada para não ter problemas\n",
    "    \n",
    "    print(lista2)\n",
    "    \n",
    "    return separacao(x, c + 1)  # Usei recursão para seguir calculando para os demais meses  "
   ]
  },
  {
   "cell_type": "code",
   "execution_count": 154,
   "id": "ce450558-048a-4983-8c8c-554290d8e4b0",
   "metadata": {},
   "outputs": [
    {
     "name": "stdout",
     "output_type": "stream",
     "text": [
      "[84.29411764705883, 86.19387497406636]\n",
      "[271.7647058823529, 420.0032954228931]\n",
      "[919.1764705882352, 1844.583493088827]\n",
      "[1829.5294117647059, 4778.14081635312]\n",
      "[955.7058823529412, 2456.901031421635]\n",
      "[142.41176470588235, 313.971909351126]\n",
      "[21.529411764705884, 35.72627579257206]\n",
      "[11.176470588235293, 12.825687891734844]\n",
      "[10.0, 12.874964306061315]\n",
      "[11.588235294117647, 14.641033487827816]\n",
      "[12.588235294117647, 17.425670123090082]\n",
      "[20.705882352941178, 21.545477772765853]\n",
      "0\n",
      "[282.5705882352941, 95.64846645371841]\n",
      "[166.11176470588236, 74.13112295792814]\n",
      "[142.89999999999998, 68.48547291214393]\n",
      "[66.31764705882354, 50.1849899670517]\n",
      "[60.911764705882355, 39.86528612793697]\n",
      "[43.017647058823535, 38.37982367145403]\n",
      "[41.811764705882354, 45.09142193566234]\n",
      "[22.735294117647058, 24.262315033727674]\n",
      "[54.182352941176475, 33.761224456713784]\n",
      "[105.63529411764705, 65.00958247173095]\n",
      "[151.8470588235294, 77.03406517399841]\n",
      "[206.86470588235295, 71.59512751393788]\n",
      "0\n",
      "[24.205882352941178, 1.0849074713786824]\n",
      "[24.811764705882354, 0.8628832331482877]\n",
      "[24.376470588235293, 0.746386914144089]\n",
      "[22.752941176470586, 0.8711842157180435]\n",
      "[19.470588235294116, 0.7774503622379664]\n",
      "[18.870588235294118, 1.2800573084056701]\n",
      "[18.676470588235297, 0.7612137457915532]\n",
      "[20.38823529411765, 0.950468833502818]\n",
      "[21.799999999999997, 0.949922597465957]\n",
      "[23.258823529411767, 1.42954489818157]\n",
      "[23.5, 0.8188945202491698]\n",
      "[24.3, 0.8145731469700593]\n",
      "0\n",
      "[20.247058823529407, 1.6186841595272683]\n",
      "[21.53529411764706, 1.0226500617459167]\n",
      "[20.741176470588233, 1.54083965785252]\n",
      "[18.376470588235296, 2.101128383614163]\n",
      "[14.741176470588234, 1.346043799448815]\n",
      "[14.605882352941176, 2.322389891833105]\n",
      "[13.31764705882353, 2.1939047365552558]\n",
      "[14.81764705882353, 2.8318016078144947]\n",
      "[15.929411764705883, 1.8428764938612403]\n",
      "[18.029411764705884, 1.7488701246241154]\n",
      "[19.264705882352946, 1.7646666662309272]\n",
      "[20.54705882352941, 1.522813822407803]\n",
      "0\n",
      "[27.08235294117647, 1.0455706542742988]\n",
      "[27.13529411764706, 1.1135217985507742]\n",
      "[26.947058823529414, 0.6059680122200429]\n",
      "[25.764705882352942, 0.9022463316115913]\n",
      "[23.211764705882352, 1.1229595105273107]\n",
      "[21.82941176470588, 1.0441797827410377]\n",
      "[22.32941176470588, 0.5938555041940685]\n",
      "[24.347058823529412, 1.3486889699690816]\n",
      "[26.394117647058827, 0.9619041093429913]\n",
      "[27.335294117647063, 1.4978184828651486]\n",
      "[27.188235294117646, 0.8750679657241938]\n",
      "[27.21764705882353, 1.0595422397363248]\n",
      "0\n"
     ]
    }
   ],
   "source": [
    "# Variável para servir de inicio para a contagem\n",
    "contagem = 0 \n",
    "print(separacao(casos, contagem))\n",
    "print(separacao(chuva, contagem))\n",
    "print(separacao(tem_med, contagem))\n",
    "print(separacao(tem_min, contagem))\n",
    "print(separacao(tem_max, contagem))"
   ]
  },
  {
   "cell_type": "code",
   "execution_count": 155,
   "id": "cebbfcc4-1971-4ff7-8004-7b03d7c53970",
   "metadata": {},
   "outputs": [
    {
     "data": {
      "text/plain": [
       "<AxesSubplot:>"
      ]
     },
     "execution_count": 155,
     "metadata": {},
     "output_type": "execute_result"
    },
    {
     "data": {
      "image/png": "[encoded data removed]",
      "text/plain": [
       "<Figure size 432x288 with 2 Axes>"
      ]
     },
     "metadata": {
      "needs_background": "light"
     },
     "output_type": "display_data"
    }
   ],
   "source": [
    "#matriz de correlação\n",
    "# Conexão entre dois fatores para compreender as informações e dependências entre as features.\n",
    "# Os coeficientes de correlação são padronizados. A correlação mede tanto a força como a direção da relação linear entre duas variáveis\n",
    "\n",
    "dados_corr = dados1.corr()\n",
    "dados_corr\n",
    "sns.heatmap(dados_corr, cmap='seismic', center=0)"
   ]
  },
  {
   "cell_type": "markdown",
   "id": "4d74ce25-3679-4afd-8dbc-ab255327144e",
   "metadata": {},
   "source": [
    "### Gráficos"
   ]
  },
  {
   "cell_type": "code",
   "execution_count": 145,
   "id": "cb5efa91-5101-47e9-987e-ae9e637c6901",
   "metadata": {},
   "outputs": [
    {
     "data": {
      "text/html": [
       "<div>\n",
       "<style scoped>\n",
       "    .dataframe tbody tr th:only-of-type {\n",
       "        vertical-align: middle;\n",
       "    }\n",
       "\n",
       "    .dataframe tbody tr th {\n",
       "        vertical-align: top;\n",
       "    }\n",
       "\n",
       "    .dataframe thead th {\n",
       "        text-align: right;\n",
       "    }\n",
       "</style>\n",
       "<table border=\"1\" class=\"dataframe\">\n",
       "  <thead>\n",
       "    <tr style=\"text-align: right;\">\n",
       "      <th></th>\n",
       "      <th>data</th>\n",
       "      <th>casos-confirmados</th>\n",
       "      <th>chuva</th>\n",
       "      <th>temperatura-media</th>\n",
       "      <th>temperatura-mininima</th>\n",
       "      <th>temperatura-maxima</th>\n",
       "    </tr>\n",
       "  </thead>\n",
       "  <tbody>\n",
       "    <tr>\n",
       "      <th>0</th>\n",
       "      <td>1998-01-01</td>\n",
       "      <td>237</td>\n",
       "      <td>179.2</td>\n",
       "      <td>25.7</td>\n",
       "      <td>20.2</td>\n",
       "      <td>28.1</td>\n",
       "    </tr>\n",
       "    <tr>\n",
       "      <th>1</th>\n",
       "      <td>1998-02-01</td>\n",
       "      <td>331</td>\n",
       "      <td>226.3</td>\n",
       "      <td>25.1</td>\n",
       "      <td>20.0</td>\n",
       "      <td>28.0</td>\n",
       "    </tr>\n",
       "    <tr>\n",
       "      <th>2</th>\n",
       "      <td>1998-03-01</td>\n",
       "      <td>562</td>\n",
       "      <td>149.1</td>\n",
       "      <td>24.8</td>\n",
       "      <td>22.4</td>\n",
       "      <td>27.2</td>\n",
       "    </tr>\n",
       "    <tr>\n",
       "      <th>3</th>\n",
       "      <td>1998-04-01</td>\n",
       "      <td>187</td>\n",
       "      <td>46.4</td>\n",
       "      <td>22.7</td>\n",
       "      <td>18.1</td>\n",
       "      <td>26.0</td>\n",
       "    </tr>\n",
       "    <tr>\n",
       "      <th>4</th>\n",
       "      <td>1998-05-01</td>\n",
       "      <td>32</td>\n",
       "      <td>88.3</td>\n",
       "      <td>19.2</td>\n",
       "      <td>15.7</td>\n",
       "      <td>22.9</td>\n",
       "    </tr>\n",
       "  </tbody>\n",
       "</table>\n",
       "</div>"
      ],
      "text/plain": [
       "        data  casos-confirmados  chuva  temperatura-media  \\\n",
       "0 1998-01-01                237  179.2               25.7   \n",
       "1 1998-02-01                331  226.3               25.1   \n",
       "2 1998-03-01                562  149.1               24.8   \n",
       "3 1998-04-01                187   46.4               22.7   \n",
       "4 1998-05-01                 32   88.3               19.2   \n",
       "\n",
       "   temperatura-mininima  temperatura-maxima  \n",
       "0                  20.2                28.1  \n",
       "1                  20.0                28.0  \n",
       "2                  22.4                27.2  \n",
       "3                  18.1                26.0  \n",
       "4                  15.7                22.9  "
      ]
     },
     "execution_count": 145,
     "metadata": {},
     "output_type": "execute_result"
    }
   ],
   "source": [
    "#Carregando o Dataset\n",
    "iris = sns.load_dataset('iris')\n",
    "\n",
    "#visualização das linhas do dataset\n",
    "dados1.head(5)"
   ]
  },
  {
   "cell_type": "code",
   "execution_count": 146,
   "id": "7bc4196d-70e6-483b-b578-8d121d15896a",
   "metadata": {},
   "outputs": [
    {
     "data": {
      "image/png": "[encoded data removed]",
      "text/plain": [
       "<Figure size 432x288 with 1 Axes>"
      ]
     },
     "metadata": {
      "needs_background": "light"
     },
     "output_type": "display_data"
    }
   ],
   "source": [
    "#dados1[\"casos-confirmados\"] = np.log10(dados1[\"casos-confirmados\"])\n",
    "\n",
    "plt.plot(dados4['data'], dados4['casos_min_max_abs'])\n",
    "plt.xlabel('Tempo')\n",
    "plt.ylabel('Casos Confirmados')\n",
    "plt.show()\n",
    "\n",
    "#plt.bar(dados1['data'],dados1['casos-confirmados'])"
   ]
  },
  {
   "cell_type": "code",
   "execution_count": null,
   "id": "0a313294-99f0-425a-91b9-c0bdaa33f4ec",
   "metadata": {},
   "outputs": [],
   "source": []
  }
 ],
 "metadata": {
  "kernelspec": {
   "display_name": "ilumpy",
   "language": "python",
   "name": "ilumpy"
  },
  "language_info": {
   "codemirror_mode": {
    "name": "ipython",
    "version": 3
   },
   "file_extension": ".py",
   "mimetype": "text/x-python",
   "name": "python",
   "nbconvert_exporter": "python",
   "pygments_lexer": "ipython3",
   "version": "3.9.7"
  }
 },
 "nbformat": 4,
 "nbformat_minor": 5
}
