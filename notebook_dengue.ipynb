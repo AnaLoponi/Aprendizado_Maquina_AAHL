{
 "cells": [
  {
   "cell_type": "markdown",
   "id": "bfcb0fef-bc4e-4936-9ccf-8d9e74f1a134",
   "metadata": {},
   "source": [
    "# Projeto de Aprendizado de Máquina\n",
    "\n",
    "### 2º semestre de 2022\n",
    "\n",
    "#### Grupo formado por:\n",
    "        Ana Clara Loponi - 220073\n",
    "        Ana Clara Brandão - 220069\n",
    "        Heitor Bernardes - 220052\n",
    "        Lorraine Casseano - 220036\n",
    "\n",
    "<ht> Idealmente, o projeto consiste em treinar uma máquina para prever possíveis surtos de dengue. Inicialmente, vamos usar dados coletados em Campinas, São Paulo, dos anos de 1998 à 2014 p/ mês, referentes ao número de casos confirmados, volume de chuva (em mm), temperatura mínima, temperatura máxima e temperatura média. </ht>"
   ]
  },
  {
   "cell_type": "markdown",
   "id": "3f4239de-b1f7-4886-8ec7-24305bcea0d6",
   "metadata": {},
   "source": [
    "# Bloco 1"
   ]
  },
  {
   "cell_type": "markdown",
   "id": "fd69dd1c-c1bb-45d7-8a7b-94cc151a5be8",
   "metadata": {},
   "source": [
    "### Preparação dos Dados: Tratamento de Dados e Normalização  "
   ]
  },
  {
   "cell_type": "code",
   "execution_count": 1,
   "id": "3a4c071c-dc44-4f1f-8c41-7b8baef06f1e",
   "metadata": {
    "tags": []
   },
   "outputs": [],
   "source": [
    "# Importação de bibliotecas\n",
    "import pandas as pd\n",
    "import numpy as np\n",
    "import matplotlib.pyplot as plt\n",
    "import seaborn as sns\n",
    "import datetime\n",
    "from scipy import stats\n",
    "from sklearn.pipeline import Pipeline\n",
    "from sklearn.preprocessing import PolynomialFeatures\n",
    "from sklearn.linear_model import LinearRegression\n",
    "from sklearn.model_selection import train_test_split"
   ]
  },
  {
   "cell_type": "code",
   "execution_count": 2,
   "id": "b53a3665-6cbc-4f4d-a690-83dda16e01b8",
   "metadata": {},
   "outputs": [
    {
     "data": {
      "text/plain": [
       "data                    datetime64[ns]\n",
       "casos-confirmados                int64\n",
       "chuva                          float64\n",
       "temperatura-media              float64\n",
       "temperatura-mininima           float64\n",
       "temperatura-maxima             float64\n",
       "dtype: object"
      ]
     },
     "execution_count": 2,
     "metadata": {},
     "output_type": "execute_result"
    }
   ],
   "source": [
    "dados1 = pd.read_excel(\"dataset_dengue.xlsx\") # Lendos os dados.\n",
    "\n",
    "dados1.dtypes # Este comando informa quais os tipos de dados o dataframe contém."
   ]
  },
  {
   "cell_type": "markdown",
   "id": "13eae3cb-1a69-4f63-aefc-28e68f0ba5e2",
   "metadata": {},
   "source": [
    "### Testando as formas de normalização"
   ]
  },
  {
   "cell_type": "code",
   "execution_count": 3,
   "id": "343fc917-6064-4822-a7dd-58440d1bfead",
   "metadata": {},
   "outputs": [],
   "source": [
    "#padrão - teste\n",
    "dados2 = dados1.copy()\n",
    "\n",
    "media_chuva = dados2['chuva'].mean()\n",
    "desvio_padrao_chuva = dados2['chuva'].std()\n",
    "\n",
    "dados2['chuva_zscore'] = (dados2['chuva'] - media_chuva) / desvio_padrao_chuva\n",
    "\n",
    "#print(dados2)"
   ]
  },
  {
   "cell_type": "code",
   "execution_count": 4,
   "id": "d79f512e-a38f-4320-bcd9-c15f8cedf6eb",
   "metadata": {},
   "outputs": [],
   "source": [
    "#maximo_absoluto\n",
    "dados3 = dados1.copy()\n",
    "\n",
    "maximo_absoluto = dados3['chuva'].max()\n",
    "\n",
    "dados3['chuva_max_abs'] = dados3['chuva'] / maximo_absoluto\n",
    "\n",
    "#print(dados3)"
   ]
  },
  {
   "cell_type": "markdown",
   "id": "e3e578f0-6f63-4555-8099-f21a7b43f246",
   "metadata": {},
   "source": [
    "### Normaliação por Máximo e Mínimo Absoluto"
   ]
  },
  {
   "cell_type": "code",
   "execution_count": 5,
   "id": "cb5e2bfc-267c-4bb6-86f5-577e5584cd66",
   "metadata": {},
   "outputs": [
    {
     "name": "stdout",
     "output_type": "stream",
     "text": [
      "          data  casos-confirmados  chuva  temperatura-media  \\\n",
      "0   1998-01-01                237  179.2               25.7   \n",
      "1   1998-02-01                331  226.3               25.1   \n",
      "2   1998-03-01                562  149.1               24.8   \n",
      "3   1998-04-01                187   46.4               22.7   \n",
      "4   1998-05-01                 32   88.3               19.2   \n",
      "..         ...                ...    ...                ...   \n",
      "199 2014-08-01                 55   12.2               20.6   \n",
      "200 2014-09-01                 40   69.2               23.0   \n",
      "201 2014-10-01                 40   15.6               24.7   \n",
      "202 2014-11-01                 57  154.8               25.0   \n",
      "203 2014-12-01                 37  232.8               24.9   \n",
      "\n",
      "     temperatura-mininima  temperatura-maxima  chuva_min_max_abs  \n",
      "0                    20.2                28.1           0.395760  \n",
      "1                    20.0                28.0           0.499779  \n",
      "2                    22.4                27.2           0.329284  \n",
      "3                    18.1                26.0           0.102473  \n",
      "4                    15.7                22.9           0.195009  \n",
      "..                    ...                 ...                ...  \n",
      "199                  13.1                24.7           0.026943  \n",
      "200                  18.6                26.8           0.152827  \n",
      "201                  17.2                30.0           0.034452  \n",
      "202                  22.1                28.3           0.341873  \n",
      "203                  21.3                27.8           0.514134  \n",
      "\n",
      "[204 rows x 7 columns]\n"
     ]
    }
   ],
   "source": [
    "#maximo_e_minimo_absoluto\n",
    "#chuva\n",
    "dados4 = dados1.copy()\n",
    "\n",
    "maximo_chuva = dados4['chuva'].max()\n",
    "minimo_chuva = dados4['chuva'].min()\n",
    "\n",
    "dados4['chuva_min_max_abs'] = (dados4['chuva'] - minimo_chuva) / (maximo_chuva - minimo_chuva)\n",
    "\n",
    "print(dados4)"
   ]
  },
  {
   "cell_type": "code",
   "execution_count": 6,
   "id": "e873f4ab-acde-46e1-be74-584d326618c7",
   "metadata": {},
   "outputs": [
    {
     "name": "stdout",
     "output_type": "stream",
     "text": [
      "          data  casos-confirmados  chuva  temperatura-media  \\\n",
      "0   1998-01-01                237  179.2               25.7   \n",
      "1   1998-02-01                331  226.3               25.1   \n",
      "2   1998-03-01                562  149.1               24.8   \n",
      "3   1998-04-01                187   46.4               22.7   \n",
      "4   1998-05-01                 32   88.3               19.2   \n",
      "..         ...                ...    ...                ...   \n",
      "199 2014-08-01                 55   12.2               20.6   \n",
      "200 2014-09-01                 40   69.2               23.0   \n",
      "201 2014-10-01                 40   15.6               24.7   \n",
      "202 2014-11-01                 57  154.8               25.0   \n",
      "203 2014-12-01                 37  232.8               24.9   \n",
      "\n",
      "     temperatura-mininima  temperatura-maxima  chuva_min_max_abs  \\\n",
      "0                    20.2                28.1           0.395760   \n",
      "1                    20.0                28.0           0.499779   \n",
      "2                    22.4                27.2           0.329284   \n",
      "3                    18.1                26.0           0.102473   \n",
      "4                    15.7                22.9           0.195009   \n",
      "..                    ...                 ...                ...   \n",
      "199                  13.1                24.7           0.026943   \n",
      "200                  18.6                26.8           0.152827   \n",
      "201                  17.2                30.0           0.034452   \n",
      "202                  22.1                28.3           0.341873   \n",
      "203                  21.3                27.8           0.514134   \n",
      "\n",
      "     temp-med_min_max_abs  \n",
      "0                0.861111  \n",
      "1                0.805556  \n",
      "2                0.777778  \n",
      "3                0.583333  \n",
      "4                0.259259  \n",
      "..                    ...  \n",
      "199              0.388889  \n",
      "200              0.611111  \n",
      "201              0.768519  \n",
      "202              0.796296  \n",
      "203              0.787037  \n",
      "\n",
      "[204 rows x 8 columns]\n"
     ]
    }
   ],
   "source": [
    "#temperatura\n",
    "\n",
    "maximo_temp_med = dados4['temperatura-media'].max()\n",
    "minimo_temp_med = dados4['temperatura-media'].min()\n",
    "\n",
    "dados4['temp-med_min_max_abs'] = (dados4['temperatura-media'] - minimo_temp_med) / (maximo_temp_med - minimo_temp_med)\n",
    "\n",
    "print(dados4)"
   ]
  },
  {
   "cell_type": "code",
   "execution_count": 7,
   "id": "2bd51d9d-c75d-4ca5-86ab-dcb5d9a40783",
   "metadata": {},
   "outputs": [
    {
     "name": "stdout",
     "output_type": "stream",
     "text": [
      "          data  casos-confirmados  chuva  temperatura-media  \\\n",
      "0   1998-01-01                237  179.2               25.7   \n",
      "1   1998-02-01                331  226.3               25.1   \n",
      "2   1998-03-01                562  149.1               24.8   \n",
      "3   1998-04-01                187   46.4               22.7   \n",
      "4   1998-05-01                 32   88.3               19.2   \n",
      "..         ...                ...    ...                ...   \n",
      "199 2014-08-01                 55   12.2               20.6   \n",
      "200 2014-09-01                 40   69.2               23.0   \n",
      "201 2014-10-01                 40   15.6               24.7   \n",
      "202 2014-11-01                 57  154.8               25.0   \n",
      "203 2014-12-01                 37  232.8               24.9   \n",
      "\n",
      "     temperatura-mininima  temperatura-maxima  chuva_min_max_abs  \\\n",
      "0                    20.2                28.1           0.395760   \n",
      "1                    20.0                28.0           0.499779   \n",
      "2                    22.4                27.2           0.329284   \n",
      "3                    18.1                26.0           0.102473   \n",
      "4                    15.7                22.9           0.195009   \n",
      "..                    ...                 ...                ...   \n",
      "199                  13.1                24.7           0.026943   \n",
      "200                  18.6                26.8           0.152827   \n",
      "201                  17.2                30.0           0.034452   \n",
      "202                  22.1                28.3           0.341873   \n",
      "203                  21.3                27.8           0.514134   \n",
      "\n",
      "     temp-med_min_max_abs  temp-min_min_max_abs  \n",
      "0                0.861111              0.784314  \n",
      "1                0.805556              0.771242  \n",
      "2                0.777778              0.928105  \n",
      "3                0.583333              0.647059  \n",
      "4                0.259259              0.490196  \n",
      "..                    ...                   ...  \n",
      "199              0.388889              0.320261  \n",
      "200              0.611111              0.679739  \n",
      "201              0.768519              0.588235  \n",
      "202              0.796296              0.908497  \n",
      "203              0.787037              0.856209  \n",
      "\n",
      "[204 rows x 9 columns]\n"
     ]
    }
   ],
   "source": [
    "#temperatura_mínima\n",
    "\n",
    "maximo_temp_min = dados4['temperatura-mininima'].max()\n",
    "minimo_temp_min = dados4['temperatura-mininima'].min()\n",
    "\n",
    "dados4['temp-min_min_max_abs'] = (dados4['temperatura-mininima'] - minimo_temp_min) / (maximo_temp_min - minimo_temp_min)\n",
    "\n",
    "print(dados4)"
   ]
  },
  {
   "cell_type": "code",
   "execution_count": 8,
   "id": "f5cc7d8c-de33-47f5-92e5-36ec392cfc8a",
   "metadata": {},
   "outputs": [
    {
     "name": "stdout",
     "output_type": "stream",
     "text": [
      "          data  casos-confirmados  chuva  temperatura-media  \\\n",
      "0   1998-01-01                237  179.2               25.7   \n",
      "1   1998-02-01                331  226.3               25.1   \n",
      "2   1998-03-01                562  149.1               24.8   \n",
      "3   1998-04-01                187   46.4               22.7   \n",
      "4   1998-05-01                 32   88.3               19.2   \n",
      "..         ...                ...    ...                ...   \n",
      "199 2014-08-01                 55   12.2               20.6   \n",
      "200 2014-09-01                 40   69.2               23.0   \n",
      "201 2014-10-01                 40   15.6               24.7   \n",
      "202 2014-11-01                 57  154.8               25.0   \n",
      "203 2014-12-01                 37  232.8               24.9   \n",
      "\n",
      "     temperatura-mininima  temperatura-maxima  chuva_min_max_abs  \\\n",
      "0                    20.2                28.1           0.395760   \n",
      "1                    20.0                28.0           0.499779   \n",
      "2                    22.4                27.2           0.329284   \n",
      "3                    18.1                26.0           0.102473   \n",
      "4                    15.7                22.9           0.195009   \n",
      "..                    ...                 ...                ...   \n",
      "199                  13.1                24.7           0.026943   \n",
      "200                  18.6                26.8           0.152827   \n",
      "201                  17.2                30.0           0.034452   \n",
      "202                  22.1                28.3           0.341873   \n",
      "203                  21.3                27.8           0.514134   \n",
      "\n",
      "     temp-med_min_max_abs  temp-min_min_max_abs  temp-max_min_max_abs  \n",
      "0                0.861111              0.784314              0.818182  \n",
      "1                0.805556              0.771242              0.809091  \n",
      "2                0.777778              0.928105              0.736364  \n",
      "3                0.583333              0.647059              0.627273  \n",
      "4                0.259259              0.490196              0.345455  \n",
      "..                    ...                   ...                   ...  \n",
      "199              0.388889              0.320261              0.509091  \n",
      "200              0.611111              0.679739              0.700000  \n",
      "201              0.768519              0.588235              0.990909  \n",
      "202              0.796296              0.908497              0.836364  \n",
      "203              0.787037              0.856209              0.790909  \n",
      "\n",
      "[204 rows x 10 columns]\n"
     ]
    }
   ],
   "source": [
    "#tempertura_máxima\n",
    "\n",
    "maximo_temp_max = dados4['temperatura-maxima'].max()\n",
    "minimo_temp_max = dados4['temperatura-maxima'].min()\n",
    "\n",
    "dados4['temp-max_min_max_abs'] = (dados4['temperatura-maxima'] - minimo_temp_max) / (maximo_temp_max - minimo_temp_max)\n",
    "\n",
    "print(dados4)"
   ]
  },
  {
   "cell_type": "code",
   "execution_count": 9,
   "id": "1f3cdbbf-12e4-4e22-8498-1248010a8c50",
   "metadata": {},
   "outputs": [
    {
     "name": "stdout",
     "output_type": "stream",
     "text": [
      "          data  casos-confirmados  chuva  temperatura-media  \\\n",
      "0   1998-01-01                237  179.2               25.7   \n",
      "1   1998-02-01                331  226.3               25.1   \n",
      "2   1998-03-01                562  149.1               24.8   \n",
      "3   1998-04-01                187   46.4               22.7   \n",
      "4   1998-05-01                 32   88.3               19.2   \n",
      "..         ...                ...    ...                ...   \n",
      "199 2014-08-01                 55   12.2               20.6   \n",
      "200 2014-09-01                 40   69.2               23.0   \n",
      "201 2014-10-01                 40   15.6               24.7   \n",
      "202 2014-11-01                 57  154.8               25.0   \n",
      "203 2014-12-01                 37  232.8               24.9   \n",
      "\n",
      "     temperatura-mininima  temperatura-maxima  chuva_min_max_abs  \\\n",
      "0                    20.2                28.1           0.395760   \n",
      "1                    20.0                28.0           0.499779   \n",
      "2                    22.4                27.2           0.329284   \n",
      "3                    18.1                26.0           0.102473   \n",
      "4                    15.7                22.9           0.195009   \n",
      "..                    ...                 ...                ...   \n",
      "199                  13.1                24.7           0.026943   \n",
      "200                  18.6                26.8           0.152827   \n",
      "201                  17.2                30.0           0.034452   \n",
      "202                  22.1                28.3           0.341873   \n",
      "203                  21.3                27.8           0.514134   \n",
      "\n",
      "     temp-med_min_max_abs  temp-min_min_max_abs  temp-max_min_max_abs  \\\n",
      "0                0.861111              0.784314              0.818182   \n",
      "1                0.805556              0.771242              0.809091   \n",
      "2                0.777778              0.928105              0.736364   \n",
      "3                0.583333              0.647059              0.627273   \n",
      "4                0.259259              0.490196              0.345455   \n",
      "..                    ...                   ...                   ...   \n",
      "199              0.388889              0.320261              0.509091   \n",
      "200              0.611111              0.679739              0.700000   \n",
      "201              0.768519              0.588235              0.990909   \n",
      "202              0.796296              0.908497              0.836364   \n",
      "203              0.787037              0.856209              0.790909   \n",
      "\n",
      "     casos_min_max_abs  \n",
      "0             0.011602  \n",
      "1             0.016203  \n",
      "2             0.027511  \n",
      "3             0.009154  \n",
      "4             0.001566  \n",
      "..                 ...  \n",
      "199           0.002692  \n",
      "200           0.001958  \n",
      "201           0.001958  \n",
      "202           0.002790  \n",
      "203           0.001811  \n",
      "\n",
      "[204 rows x 11 columns]\n"
     ]
    }
   ],
   "source": [
    "#casos_confirmados\n",
    "\n",
    "maximo_casos = dados4['casos-confirmados'].max()\n",
    "minimo_casos = dados4['casos-confirmados'].min()\n",
    "\n",
    "dados4['casos_min_max_abs'] = (dados4['casos-confirmados'] - minimo_casos) / (maximo_casos - minimo_casos)\n",
    "\n",
    "print(dados4)"
   ]
  },
  {
   "cell_type": "code",
   "execution_count": 10,
   "id": "236a58c4-ff40-43bc-82b5-f77e1d9bfba1",
   "metadata": {},
   "outputs": [
    {
     "name": "stdout",
     "output_type": "stream",
     "text": [
      "RangeIndex(start=0, stop=204, step=1)\n"
     ]
    }
   ],
   "source": [
    "#Identificamos o número de linhas do nosso dataset como índices, pois entendemos a quantidade de meses durante os anos de 1998 à 2014 como uma feature. \n",
    "#Assim, ao invés de agruparmos por data, agrupamos por meses a partir de Janeiro/1998, facilitando a resolução do problemas.\n",
    "\n",
    "print(dados1.index)"
   ]
  },
  {
   "cell_type": "markdown",
   "id": "de086400-bc37-433c-affb-4a6ddc628082",
   "metadata": {},
   "source": [
    "### Análise Exploratória dos Dados"
   ]
  },
  {
   "cell_type": "code",
   "execution_count": 11,
   "id": "7fc76f82-61e1-4be3-b2a4-e57a7b517cf6",
   "metadata": {},
   "outputs": [
    {
     "name": "stdout",
     "output_type": "stream",
     "text": [
      "357.53921568627453 112.07549019607842 17.679411764705883 25.565196078431374\n"
     ]
    }
   ],
   "source": [
    "#Média de cada coluna de dados\n",
    "\n",
    "M1 = dados1[\"casos-confirmados\"].mean()\n",
    "\n",
    "M2 = dados1[\"chuva\"].mean()\n",
    "\n",
    "M3 = dados1[\"temperatura-mininima\"].mean()\n",
    "\n",
    "M4 = dados1[\"temperatura-maxima\"].mean()\n",
    "\n",
    "print(M1, M2, M3, M4)"
   ]
  },
  {
   "cell_type": "code",
   "execution_count": 12,
   "id": "6e0345ca-e6da-47ca-b029-ba9c179c1572",
   "metadata": {},
   "outputs": [
    {
     "name": "stdout",
     "output_type": "stream",
     "text": [
      "1741.8147587005246 97.3904390734082 3.336315723659817 2.2498635888116434\n"
     ]
    }
   ],
   "source": [
    "#Desvio Padrão\n",
    "\n",
    "D1 = dados1[\"casos-confirmados\"].std()\n",
    "\n",
    "D2 = dados1[\"chuva\"].std()\n",
    "\n",
    "D3 = dados1[\"temperatura-mininima\"].std()\n",
    "\n",
    "D4 = dados1[\"temperatura-maxima\"].std()\n",
    "\n",
    "print(D1, D2, D3, D4)"
   ]
  },
  {
   "cell_type": "markdown",
   "id": "6bc6d7aa-b916-4b37-b810-457f7d6d3527",
   "metadata": {},
   "source": [
    "Observando esses resultados, concluimos que eles não eram satisfatórios, e não forneciam as informações que precisavamos. Por isso, optamos por uma análise diferente, fazendo uma separação referente aos meses, de forma que as médias sejam separadas em média_janeiro, média_fevereiro, média_março e assim por diante."
   ]
  },
  {
   "cell_type": "code",
   "execution_count": 13,
   "id": "97493d0d-1f84-4e95-ae72-a0d623e24633",
   "metadata": {},
   "outputs": [
    {
     "name": "stdout",
     "output_type": "stream",
     "text": [
      "     casos-confirmados  chuva  temperatura-media  temperatura-mininima  \\\n",
      "0                  237  179.2               25.7                  20.2   \n",
      "1                  331  226.3               25.1                  20.0   \n",
      "2                  562  149.1               24.8                  22.4   \n",
      "3                  187   46.4               22.7                  18.1   \n",
      "4                   32   88.3               19.2                  15.7   \n",
      "..                 ...    ...                ...                   ...   \n",
      "199                 55   12.2               20.6                  13.1   \n",
      "200                 40   69.2               23.0                  18.6   \n",
      "201                 40   15.6               24.7                  17.2   \n",
      "202                 57  154.8               25.0                  22.1   \n",
      "203                 37  232.8               24.9                  21.3   \n",
      "\n",
      "     temperatura-maxima  \n",
      "0                  28.1  \n",
      "1                  28.0  \n",
      "2                  27.2  \n",
      "3                  26.0  \n",
      "4                  22.9  \n",
      "..                  ...  \n",
      "199                24.7  \n",
      "200                26.8  \n",
      "201                30.0  \n",
      "202                28.3  \n",
      "203                27.8  \n",
      "\n",
      "[204 rows x 5 columns]\n"
     ]
    }
   ],
   "source": [
    "dados5 = dados1.drop(columns = ['data'], axis = 1)\n",
    "print(dados5)"
   ]
  },
  {
   "cell_type": "code",
   "execution_count": 14,
   "id": "45a155e8-1b7d-4f83-b0a9-561a6eb06d85",
   "metadata": {},
   "outputs": [],
   "source": [
    "#Separando os dados e colocando-os em listas iteraveis\n",
    "\n",
    "conv = dados5.values.tolist() # função que transforma de dataset para lista\n",
    "\n",
    "casos = []\n",
    "chuva = []\n",
    "tem_med = []\n",
    "tem_max = []\n",
    "tem_min = []\n",
    "\n",
    "for i in conv:\n",
    "    for j in range(0, len(i), 5):\n",
    "        casos.append(i[j])\n",
    "\n",
    "for i in conv:\n",
    "    for j in range(1, len(i), 5):\n",
    "        chuva.append(i[j])\n",
    "        \n",
    "for i in conv:\n",
    "    for j in range(2, len(i), 5):\n",
    "        tem_med.append(i[j])\n",
    "        \n",
    "for i in conv:\n",
    "    for j in range(3, len(i), 5):\n",
    "        tem_min.append(i[j])\n",
    "        \n",
    "for i in conv:\n",
    "    for j in range(4, len(i), 5):\n",
    "        tem_max.append(i[j])\n",
    "        \n",
    "\n",
    "#print(casos)\n",
    "#print(chuva)\n",
    "#print(tem_med)\n",
    "#print(tem_min) \n",
    "#print(tem_max)"
   ]
  },
  {
   "cell_type": "code",
   "execution_count": 15,
   "id": "3bbe2178-ade4-4f05-8649-56322ff24c96",
   "metadata": {},
   "outputs": [],
   "source": [
    "def separacao(x, c):\n",
    "    \n",
    "    \"\"\" Separa os dados por mês e calcula a média e desvio padrão \"\"\"\n",
    "    \n",
    "    if c >= 12: # Critério de parada\n",
    "        return 0 \n",
    "    \n",
    "    else:\n",
    "\n",
    "        lista = []  # Para armazernar e processar os dados \n",
    "        lista2 = []\n",
    "    \n",
    "        for i in range(c,len(x),12): # Separa os dados por meses, fazendo uma listagem dos dados com um intervalo de 12 itens\n",
    "            lista.append(x[i])\n",
    "    \n",
    "    m = np.mean(lista) # função do numpy para calculo de media \n",
    "    dp = np.std(lista) # função do numpy para calculo de desvio padrão\n",
    "    lista2.append(m)\n",
    "    lista2.append(dp)\n",
    "    \n",
    "        \n",
    "    lista.clear() # Ao final da operação, a lista é esvaziada para não ter problemas\n",
    "    \n",
    "    print(lista2)\n",
    "    \n",
    "    return separacao(x, c + 1)  # Usei recursão para seguir calculando para os demais meses  "
   ]
  },
  {
   "cell_type": "code",
   "execution_count": 16,
   "id": "ce450558-048a-4983-8c8c-554290d8e4b0",
   "metadata": {},
   "outputs": [
    {
     "name": "stdout",
     "output_type": "stream",
     "text": [
      "[84.29411764705883, 86.19387497406636]\n",
      "[271.7647058823529, 420.0032954228931]\n",
      "[919.1764705882352, 1844.583493088827]\n",
      "[1829.5294117647059, 4778.14081635312]\n",
      "[955.7058823529412, 2456.901031421635]\n",
      "[142.41176470588235, 313.971909351126]\n",
      "[21.529411764705884, 35.72627579257206]\n",
      "[11.176470588235293, 12.825687891734844]\n",
      "[10.0, 12.874964306061315]\n",
      "[11.588235294117647, 14.641033487827816]\n",
      "[12.588235294117647, 17.425670123090082]\n",
      "[20.705882352941178, 21.545477772765853]\n",
      "0\n",
      "[282.5705882352941, 95.64846645371841]\n",
      "[166.11176470588236, 74.13112295792814]\n",
      "[142.89999999999998, 68.48547291214393]\n",
      "[66.31764705882354, 50.1849899670517]\n",
      "[60.911764705882355, 39.86528612793697]\n",
      "[43.017647058823535, 38.37982367145403]\n",
      "[41.811764705882354, 45.09142193566234]\n",
      "[22.735294117647058, 24.262315033727674]\n",
      "[54.182352941176475, 33.761224456713784]\n",
      "[105.63529411764705, 65.00958247173095]\n",
      "[151.8470588235294, 77.03406517399841]\n",
      "[206.86470588235295, 71.59512751393788]\n",
      "0\n",
      "[24.205882352941178, 1.0849074713786824]\n",
      "[24.811764705882354, 0.8628832331482877]\n",
      "[24.376470588235293, 0.746386914144089]\n",
      "[22.752941176470586, 0.8711842157180435]\n",
      "[19.470588235294116, 0.7774503622379664]\n",
      "[18.870588235294118, 1.2800573084056701]\n",
      "[18.676470588235297, 0.7612137457915532]\n",
      "[20.38823529411765, 0.950468833502818]\n",
      "[21.799999999999997, 0.949922597465957]\n",
      "[23.258823529411767, 1.42954489818157]\n",
      "[23.5, 0.8188945202491698]\n",
      "[24.3, 0.8145731469700593]\n",
      "0\n",
      "[20.247058823529407, 1.6186841595272683]\n",
      "[21.53529411764706, 1.0226500617459167]\n",
      "[20.741176470588233, 1.54083965785252]\n",
      "[18.376470588235296, 2.101128383614163]\n",
      "[14.741176470588234, 1.346043799448815]\n",
      "[14.605882352941176, 2.322389891833105]\n",
      "[13.31764705882353, 2.1939047365552558]\n",
      "[14.81764705882353, 2.8318016078144947]\n",
      "[15.929411764705883, 1.8428764938612403]\n",
      "[18.029411764705884, 1.7488701246241154]\n",
      "[19.264705882352946, 1.7646666662309272]\n",
      "[20.54705882352941, 1.522813822407803]\n",
      "0\n",
      "[27.08235294117647, 1.0455706542742988]\n",
      "[27.13529411764706, 1.1135217985507742]\n",
      "[26.947058823529414, 0.6059680122200429]\n",
      "[25.764705882352942, 0.9022463316115913]\n",
      "[23.211764705882352, 1.1229595105273107]\n",
      "[21.82941176470588, 1.0441797827410377]\n",
      "[22.32941176470588, 0.5938555041940685]\n",
      "[24.347058823529412, 1.3486889699690816]\n",
      "[26.394117647058827, 0.9619041093429913]\n",
      "[27.335294117647063, 1.4978184828651486]\n",
      "[27.188235294117646, 0.8750679657241938]\n",
      "[27.21764705882353, 1.0595422397363248]\n",
      "0\n"
     ]
    }
   ],
   "source": [
    "# Variável para servir de inicio para a contagem\n",
    "contagem = 0 \n",
    "print(separacao(casos, contagem))\n",
    "print(separacao(chuva, contagem))\n",
    "print(separacao(tem_med, contagem))\n",
    "print(separacao(tem_min, contagem))\n",
    "print(separacao(tem_max, contagem))"
   ]
  },
  {
   "cell_type": "code",
   "execution_count": 17,
   "id": "cebbfcc4-1971-4ff7-8004-7b03d7c53970",
   "metadata": {},
   "outputs": [
    {
     "data": {
      "text/plain": [
       "<AxesSubplot:>"
      ]
     },
     "execution_count": 17,
     "metadata": {},
     "output_type": "execute_result"
    },
    {
     "data": {
      "image/png": "[encoded data removed]",
      "text/plain": [
       "<Figure size 432x288 with 2 Axes>"
      ]
     },
     "metadata": {
      "needs_background": "light"
     },
     "output_type": "display_data"
    }
   ],
   "source": [
    "# matriz de correlação\n",
    "# Conexão entre dois fatores para compreender as informações e dependências entre as features.\n",
    "# Os coeficientes de correlação são padronizados. A correlação mede tanto a força como a direção da relação linear entre duas variáveis\n",
    "\n",
    "dados_corr = dados1.corr()\n",
    "dados_corr\n",
    "sns.heatmap(dados_corr, cmap='seismic', center=0)"
   ]
  },
  {
   "cell_type": "markdown",
   "id": "4d74ce25-3679-4afd-8dbc-ab255327144e",
   "metadata": {},
   "source": [
    "### Gráficos"
   ]
  },
  {
   "cell_type": "code",
   "execution_count": 18,
   "id": "cb5efa91-5101-47e9-987e-ae9e637c6901",
   "metadata": {},
   "outputs": [
    {
     "data": {
      "text/html": [
       "<div>\n",
       "<style scoped>\n",
       "    .dataframe tbody tr th:only-of-type {\n",
       "        vertical-align: middle;\n",
       "    }\n",
       "\n",
       "    .dataframe tbody tr th {\n",
       "        vertical-align: top;\n",
       "    }\n",
       "\n",
       "    .dataframe thead th {\n",
       "        text-align: right;\n",
       "    }\n",
       "</style>\n",
       "<table border=\"1\" class=\"dataframe\">\n",
       "  <thead>\n",
       "    <tr style=\"text-align: right;\">\n",
       "      <th></th>\n",
       "      <th>data</th>\n",
       "      <th>casos-confirmados</th>\n",
       "      <th>chuva</th>\n",
       "      <th>temperatura-media</th>\n",
       "      <th>temperatura-mininima</th>\n",
       "      <th>temperatura-maxima</th>\n",
       "    </tr>\n",
       "  </thead>\n",
       "  <tbody>\n",
       "    <tr>\n",
       "      <th>0</th>\n",
       "      <td>1998-01-01</td>\n",
       "      <td>237</td>\n",
       "      <td>179.2</td>\n",
       "      <td>25.7</td>\n",
       "      <td>20.2</td>\n",
       "      <td>28.1</td>\n",
       "    </tr>\n",
       "    <tr>\n",
       "      <th>1</th>\n",
       "      <td>1998-02-01</td>\n",
       "      <td>331</td>\n",
       "      <td>226.3</td>\n",
       "      <td>25.1</td>\n",
       "      <td>20.0</td>\n",
       "      <td>28.0</td>\n",
       "    </tr>\n",
       "    <tr>\n",
       "      <th>2</th>\n",
       "      <td>1998-03-01</td>\n",
       "      <td>562</td>\n",
       "      <td>149.1</td>\n",
       "      <td>24.8</td>\n",
       "      <td>22.4</td>\n",
       "      <td>27.2</td>\n",
       "    </tr>\n",
       "    <tr>\n",
       "      <th>3</th>\n",
       "      <td>1998-04-01</td>\n",
       "      <td>187</td>\n",
       "      <td>46.4</td>\n",
       "      <td>22.7</td>\n",
       "      <td>18.1</td>\n",
       "      <td>26.0</td>\n",
       "    </tr>\n",
       "    <tr>\n",
       "      <th>4</th>\n",
       "      <td>1998-05-01</td>\n",
       "      <td>32</td>\n",
       "      <td>88.3</td>\n",
       "      <td>19.2</td>\n",
       "      <td>15.7</td>\n",
       "      <td>22.9</td>\n",
       "    </tr>\n",
       "  </tbody>\n",
       "</table>\n",
       "</div>"
      ],
      "text/plain": [
       "        data  casos-confirmados  chuva  temperatura-media  \\\n",
       "0 1998-01-01                237  179.2               25.7   \n",
       "1 1998-02-01                331  226.3               25.1   \n",
       "2 1998-03-01                562  149.1               24.8   \n",
       "3 1998-04-01                187   46.4               22.7   \n",
       "4 1998-05-01                 32   88.3               19.2   \n",
       "\n",
       "   temperatura-mininima  temperatura-maxima  \n",
       "0                  20.2                28.1  \n",
       "1                  20.0                28.0  \n",
       "2                  22.4                27.2  \n",
       "3                  18.1                26.0  \n",
       "4                  15.7                22.9  "
      ]
     },
     "execution_count": 18,
     "metadata": {},
     "output_type": "execute_result"
    }
   ],
   "source": [
    "#Carregando o Dataset\n",
    "iris = sns.load_dataset('iris')\n",
    "\n",
    "#visualização das linhas do dataset\n",
    "dados1.head(5)"
   ]
  },
  {
   "cell_type": "code",
   "execution_count": 19,
   "id": "7bc4196d-70e6-483b-b578-8d121d15896a",
   "metadata": {},
   "outputs": [
    {
     "data": {
      "image/png": "[encoded data removed]",
      "text/plain": [
       "<Figure size 432x288 with 1 Axes>"
      ]
     },
     "metadata": {
      "needs_background": "light"
     },
     "output_type": "display_data"
    }
   ],
   "source": [
    "#dados1[\"casos-confirmados\"] = np.log10(dados1[\"casos-confirmados\"])\n",
    "\n",
    "plt.plot(dados4['data'], dados4['casos_min_max_abs'])\n",
    "plt.xlabel('Tempo')\n",
    "plt.ylabel('Casos Confirmados')\n",
    "plt.show()\n",
    "\n",
    "#plt.bar(dados1['data'],dados1['casos-confirmados'])"
   ]
  },
  {
   "cell_type": "markdown",
   "id": "82100888-064a-42cf-8142-093f9cd90f3c",
   "metadata": {},
   "source": [
    "# Bloco 2"
   ]
  },
  {
   "cell_type": "markdown",
   "id": "c605cbef-7bea-412e-8caa-a1d66c63211a",
   "metadata": {},
   "source": [
    "<ht> Iniciando os processos de machine learning, foram treinados quatro diferentes modelos de aprendizado (Baseline, k-NN, Árvore de decisão e Floreta aleatória), afim de avaliar o mais adequado para o dataset, baseando-se em valores de Raiz Quadrada do Erro Médio (RMSE), para a previsão de cada modelo. </ht>"
   ]
  },
  {
   "cell_type": "code",
   "execution_count": 20,
   "id": "987a829d-3d9a-4d6d-a0e9-4d947c80c6ba",
   "metadata": {},
   "outputs": [],
   "source": [
    "#importação de bilbiotecas\n",
    "from sklearn.metrics import mean_squared_error \n",
    "from sklearn.model_selection import train_test_split\n",
    "from sklearn.preprocessing import MinMaxScaler\n",
    "from sklearn.dummy import DummyRegressor\n",
    "from sklearn.neighbors import KNeighborsRegressor\n",
    "from sklearn.linear_model import LinearRegression\n",
    "from itertools import product\n",
    "from sklearn.tree import DecisionTreeRegressor\n",
    "from matplotlib import pyplot as plt\n",
    "from sklearn import tree\n",
    "from itertools import product\n",
    "from sklearn.ensemble import RandomForestRegressor\n",
    "from sklearn.metrics import mean_squared_error \n",
    "from sklearn.metrics import confusion_matrix\n",
    "from sklearn.model_selection import GridSearchCV\n",
    "from sklearn import metrics"
   ]
  },
  {
   "cell_type": "code",
   "execution_count": 21,
   "id": "f7ccb17a-aace-45f0-a993-73a5186d9376",
   "metadata": {},
   "outputs": [
    {
     "data": {
      "text/html": [
       "<div>\n",
       "<style scoped>\n",
       "    .dataframe tbody tr th:only-of-type {\n",
       "        vertical-align: middle;\n",
       "    }\n",
       "\n",
       "    .dataframe tbody tr th {\n",
       "        vertical-align: top;\n",
       "    }\n",
       "\n",
       "    .dataframe thead th {\n",
       "        text-align: right;\n",
       "    }\n",
       "</style>\n",
       "<table border=\"1\" class=\"dataframe\">\n",
       "  <thead>\n",
       "    <tr style=\"text-align: right;\">\n",
       "      <th></th>\n",
       "      <th>casos-confirmados</th>\n",
       "      <th>chuva</th>\n",
       "      <th>temperatura-media</th>\n",
       "      <th>temperatura-mininima</th>\n",
       "      <th>temperatura-maxima</th>\n",
       "      <th>meses</th>\n",
       "    </tr>\n",
       "  </thead>\n",
       "  <tbody>\n",
       "    <tr>\n",
       "      <th>0</th>\n",
       "      <td>237</td>\n",
       "      <td>179.2</td>\n",
       "      <td>25.7</td>\n",
       "      <td>20.2</td>\n",
       "      <td>28.1</td>\n",
       "      <td>0</td>\n",
       "    </tr>\n",
       "    <tr>\n",
       "      <th>1</th>\n",
       "      <td>331</td>\n",
       "      <td>226.3</td>\n",
       "      <td>25.1</td>\n",
       "      <td>20.0</td>\n",
       "      <td>28.0</td>\n",
       "      <td>1</td>\n",
       "    </tr>\n",
       "    <tr>\n",
       "      <th>2</th>\n",
       "      <td>562</td>\n",
       "      <td>149.1</td>\n",
       "      <td>24.8</td>\n",
       "      <td>22.4</td>\n",
       "      <td>27.2</td>\n",
       "      <td>2</td>\n",
       "    </tr>\n",
       "    <tr>\n",
       "      <th>3</th>\n",
       "      <td>187</td>\n",
       "      <td>46.4</td>\n",
       "      <td>22.7</td>\n",
       "      <td>18.1</td>\n",
       "      <td>26.0</td>\n",
       "      <td>3</td>\n",
       "    </tr>\n",
       "    <tr>\n",
       "      <th>4</th>\n",
       "      <td>32</td>\n",
       "      <td>88.3</td>\n",
       "      <td>19.2</td>\n",
       "      <td>15.7</td>\n",
       "      <td>22.9</td>\n",
       "      <td>4</td>\n",
       "    </tr>\n",
       "    <tr>\n",
       "      <th>...</th>\n",
       "      <td>...</td>\n",
       "      <td>...</td>\n",
       "      <td>...</td>\n",
       "      <td>...</td>\n",
       "      <td>...</td>\n",
       "      <td>...</td>\n",
       "    </tr>\n",
       "    <tr>\n",
       "      <th>199</th>\n",
       "      <td>55</td>\n",
       "      <td>12.2</td>\n",
       "      <td>20.6</td>\n",
       "      <td>13.1</td>\n",
       "      <td>24.7</td>\n",
       "      <td>199</td>\n",
       "    </tr>\n",
       "    <tr>\n",
       "      <th>200</th>\n",
       "      <td>40</td>\n",
       "      <td>69.2</td>\n",
       "      <td>23.0</td>\n",
       "      <td>18.6</td>\n",
       "      <td>26.8</td>\n",
       "      <td>200</td>\n",
       "    </tr>\n",
       "    <tr>\n",
       "      <th>201</th>\n",
       "      <td>40</td>\n",
       "      <td>15.6</td>\n",
       "      <td>24.7</td>\n",
       "      <td>17.2</td>\n",
       "      <td>30.0</td>\n",
       "      <td>201</td>\n",
       "    </tr>\n",
       "    <tr>\n",
       "      <th>202</th>\n",
       "      <td>57</td>\n",
       "      <td>154.8</td>\n",
       "      <td>25.0</td>\n",
       "      <td>22.1</td>\n",
       "      <td>28.3</td>\n",
       "      <td>202</td>\n",
       "    </tr>\n",
       "    <tr>\n",
       "      <th>203</th>\n",
       "      <td>37</td>\n",
       "      <td>232.8</td>\n",
       "      <td>24.9</td>\n",
       "      <td>21.3</td>\n",
       "      <td>27.8</td>\n",
       "      <td>203</td>\n",
       "    </tr>\n",
       "  </tbody>\n",
       "</table>\n",
       "<p>204 rows × 6 columns</p>\n",
       "</div>"
      ],
      "text/plain": [
       "     casos-confirmados  chuva  temperatura-media  temperatura-mininima  \\\n",
       "0                  237  179.2               25.7                  20.2   \n",
       "1                  331  226.3               25.1                  20.0   \n",
       "2                  562  149.1               24.8                  22.4   \n",
       "3                  187   46.4               22.7                  18.1   \n",
       "4                   32   88.3               19.2                  15.7   \n",
       "..                 ...    ...                ...                   ...   \n",
       "199                 55   12.2               20.6                  13.1   \n",
       "200                 40   69.2               23.0                  18.6   \n",
       "201                 40   15.6               24.7                  17.2   \n",
       "202                 57  154.8               25.0                  22.1   \n",
       "203                 37  232.8               24.9                  21.3   \n",
       "\n",
       "     temperatura-maxima  meses  \n",
       "0                  28.1      0  \n",
       "1                  28.0      1  \n",
       "2                  27.2      2  \n",
       "3                  26.0      3  \n",
       "4                  22.9      4  \n",
       "..                  ...    ...  \n",
       "199                24.7    199  \n",
       "200                26.8    200  \n",
       "201                30.0    201  \n",
       "202                28.3    202  \n",
       "203                27.8    203  \n",
       "\n",
       "[204 rows x 6 columns]"
      ]
     },
     "execution_count": 21,
     "metadata": {},
     "output_type": "execute_result"
    }
   ],
   "source": [
    "#Inserir uma coluna \"meses\" para usar como referência de data, com os mesmos valores que o index\n",
    "meses = []\n",
    "for i in dados1.index:\n",
    "    meses.append(i)\n",
    "\n",
    "dados5.insert(5, \"meses\", meses, True)\n",
    "dados5"
   ]
  },
  {
   "cell_type": "markdown",
   "id": "483f4955-a3df-4719-b90d-a44877b6222c",
   "metadata": {},
   "source": [
    "### Treino, Teste e Baseline"
   ]
  },
  {
   "cell_type": "code",
   "execution_count": 22,
   "id": "ec697cfd-20a4-404a-8e49-2eaa5ea9d434",
   "metadata": {},
   "outputs": [],
   "source": [
    "# Definir datasets de treino e teste, e hiperparâmetros gerais para todos os testes.  \n",
    "# Estratégia Holdout\n",
    "\n",
    "TAMANHO_TESTE = 0.15 # quantidade de dados usados para o teste (15%)\n",
    "SEMENTE_ALEATORIA = 469\n",
    "FEATURES = [\"chuva\", \"temperatura-media\", \"temperatura-mininima\", \"temperatura-maxima\", \"meses\"]\n",
    "TARGET = [\"casos-confirmados\"]\n",
    "\n",
    "df = dados5\n",
    "\n",
    "indices = df.index\n",
    "indices_treino, indices_teste = train_test_split( \n",
    "    #função de sorteio pseudo-aleatório para separação de identificadores únicos no DataFrame.\n",
    "    indices, test_size=TAMANHO_TESTE, random_state=SEMENTE_ALEATORIA\n",
    "    #esta função faz com que a separação dos dados seja aleatória, mas sempre seja a mesma.\n",
    ")\n",
    "\n",
    "df_treino = df.loc[indices_treino]\n",
    "df_teste = df.loc[indices_teste]\n",
    "\n",
    "# observe que usamos o .values aqui pois queremos apenas os valores\n",
    "X_treino = df_treino.reindex(FEATURES, axis=1).values\n",
    "y_treino = df_treino.reindex(TARGET, axis=1).values\n",
    "X_teste = df_teste.reindex(FEATURES, axis=1).values\n",
    "y_teste = df_teste.reindex(TARGET, axis=1).values\n",
    "\n",
    "#print(X_treino)\n",
    "#print(y_teste)"
   ]
  },
  {
   "cell_type": "code",
   "execution_count": 23,
   "id": "247e3a9f-843f-4101-a236-fb3a94545fed",
   "metadata": {},
   "outputs": [
    {
     "data": {
      "text/plain": [
       "MinMaxScaler()"
      ]
     },
     "execution_count": 23,
     "metadata": {},
     "output_type": "execute_result"
    }
   ],
   "source": [
    "# Normalizador \n",
    "\n",
    "normalizador_x = MinMaxScaler()\n",
    "normalizador_y = MinMaxScaler()\n",
    "\n",
    "normalizador_x.fit(X_treino)\n",
    "normalizador_y.fit(y_treino)"
   ]
  },
  {
   "cell_type": "code",
   "execution_count": 24,
   "id": "0c1816b6-2ee3-4c4f-96f2-3e97b17560ff",
   "metadata": {},
   "outputs": [
    {
     "name": "stdout",
     "output_type": "stream",
     "text": [
      "O RMSE do modelo baseline foi de 0.02419979195025817.\n"
     ]
    }
   ],
   "source": [
    "# Dados normalizados \n",
    "\n",
    "# cria o modelo\n",
    "# modelo Dummy: modelo fictício\n",
    "modelo_baseline = DummyRegressor()\n",
    "\n",
    "# treina o modelo\n",
    "modelo_baseline.fit(normalizador_x.transform(X_treino), normalizador_y.transform(y_treino))\n",
    "\n",
    "# realiza uma previsão usando o modelo treinado\n",
    "previsao = modelo_baseline.predict(normalizador_x.transform(X_teste))\n",
    "\n",
    "# Raiz quadrada do erro médio\n",
    "y_verdadeiro = normalizador_y.transform(y_teste)\n",
    "y_previsao = modelo_baseline.predict(normalizador_x.transform(X_teste))\n",
    "\n",
    "RMSE = mean_squared_error(y_verdadeiro, y_previsao, squared=False)\n",
    "print(f\"O RMSE do modelo baseline foi de {RMSE}.\")"
   ]
  },
  {
   "cell_type": "code",
   "execution_count": 25,
   "id": "a38440dc-113f-46b1-a74a-8e6035c3d3b4",
   "metadata": {},
   "outputs": [
    {
     "name": "stdout",
     "output_type": "stream",
     "text": [
      "O RMSE do modelo baseline para os dados foi de 494.3533499598738.\n"
     ]
    }
   ],
   "source": [
    "# Dados sem normalização\n",
    "\n",
    "# cria o modelo\n",
    "modelo_baseline = DummyRegressor()\n",
    "\n",
    "# treina o modelo\n",
    "modelo_baseline.fit(X_treino, y_treino)\n",
    "\n",
    "# realiza uma previsão usando o modelo treinado\n",
    "previsao = modelo_baseline.predict(X_teste)\n",
    "\n",
    "# Raiz quadrada do erro médio (base para avaliar o desempenho do modelo)\n",
    "\n",
    "y_verdadeiro = y_teste\n",
    "y_previsao = modelo_baseline.predict(X_teste)\n",
    "\n",
    "RMSE = mean_squared_error(y_verdadeiro, y_previsao, squared=False)\n",
    "\n",
    "print(f\"O RMSE do modelo baseline para os dados foi de {RMSE}.\")"
   ]
  },
  {
   "cell_type": "markdown",
   "id": "7b221424-802a-440d-b8d8-7f71a5b33072",
   "metadata": {},
   "source": [
    "### K vizinhos mais próximos"
   ]
  },
  {
   "cell_type": "code",
   "execution_count": 26,
   "id": "2a36542e-f653-487d-a27e-7291d9519133",
   "metadata": {},
   "outputs": [],
   "source": [
    "# cria o modelo\n",
    "# Dados similares estão em regiões próximas. Apenas memoriza dados rotulados de treinamento (Aprendizado Indutivo) e não modelos compactos\n",
    "modelo_knn = KNeighborsRegressor()  \n",
    "\n",
    "# treina o modelo\n",
    "modelo_knn.fit(normalizador_x.transform(X_treino), normalizador_y.transform(y_treino))\n",
    "\n",
    "# realiza uma previsão usando o modelo treinado\n",
    "previsao = modelo_knn.predict(normalizador_x.transform(X_treino))"
   ]
  },
  {
   "cell_type": "code",
   "execution_count": 27,
   "id": "1cadee49-6ee4-40ba-8335-93c60211af69",
   "metadata": {},
   "outputs": [
    {
     "name": "stdout",
     "output_type": "stream",
     "text": [
      "O RMSE do modelo k-NN usando k = 3, para os dados normalizados foi de 0.03382389357649117.\n",
      "\n",
      "O RMSE do modelo k-NN usando k = 4, para os dados normalizados foi de 0.03916618334770383.\n",
      "\n",
      "O RMSE do modelo k-NN usando k = 6, para os dados normalizados foi de 0.03368060805735033.\n",
      "\n",
      "O RMSE do modelo k-NN usando k = 12, para os dados normalizados foi de 0.027599737931696355.\n",
      "\n"
     ]
    },
    {
     "data": {
      "image/png": "[encoded data removed]",
      "text/plain": [
       "<Figure size 432x288 with 1 Axes>"
      ]
     },
     "metadata": {
      "needs_background": "light"
     },
     "output_type": "display_data"
    }
   ],
   "source": [
    "# 1º Teste: Comparação Hiperparâmetro e Número de Vizinhos\n",
    "# Hiperparâmetros: Conjunto de parâmetros definidos antes do treino e não irão se alterar durante o processo.\n",
    "\n",
    "VIZINHOS = [3, 4, 6, 12]\n",
    "\n",
    "for n in VIZINHOS:\n",
    "    \n",
    "    modelo_knn = KNeighborsRegressor(n_neighbors=n) # cria um modelo\n",
    "\n",
    "    modelo_knn.fit(normalizador_x.transform(X_treino), normalizador_y.transform(y_treino)) # treina o modelo\n",
    "\n",
    "    y_verdadeiro = normalizador_y.transform(y_teste)\n",
    "    y_previsao = modelo_knn.predict(normalizador_x.transform(X_teste))\n",
    "    \n",
    "    RMSE = mean_squared_error(y_verdadeiro, y_previsao, squared=False) # Raiz quadrada do erro médio\n",
    "    print(f\"O RMSE do modelo k-NN usando k = {n}, para os dados normalizados foi de {RMSE}.\")\n",
    "    print()\n",
    "    \n",
    "    # Gráfico de desempenho\n",
    "    plt.plot(y_verdadeiro, y_previsao, ls=\"none\", marker=\"o\", alpha=0.5)"
   ]
  },
  {
   "cell_type": "code",
   "execution_count": 28,
   "id": "675a7ce4-66fe-404d-905c-9c6544bfff42",
   "metadata": {},
   "outputs": [
    {
     "name": "stdout",
     "output_type": "stream",
     "text": [
      "O RMSE do modelo k-NN usando k = 1, para os dados normalizados, foi de 0.026519787585253474.\n",
      "\n",
      "O RMSE do modelo k-NN usando k = 3, para os dados normalizados, foi de 0.03382389357649117.\n",
      "\n",
      "O RMSE do modelo k-NN usando k = 7, para os dados normalizados, foi de 0.031125439427175557.\n",
      "\n",
      "O RMSE do modelo k-NN usando k = 11, para os dados normalizados, foi de 0.028146650090740303.\n",
      "\n"
     ]
    },
    {
     "data": {
      "image/png": "[encoded data removed]",
      "text/plain": [
       "<Figure size 432x288 with 1 Axes>"
      ]
     },
     "metadata": {
      "needs_background": "light"
     },
     "output_type": "display_data"
    }
   ],
   "source": [
    "# Número de vizinhos ímpares\n",
    "\n",
    "VIZINHOS = [1, 3, 7, 11] \n",
    "\n",
    "for n in VIZINHOS:\n",
    "    \n",
    "    modelo_knn = KNeighborsRegressor(n_neighbors=n)\n",
    "\n",
    "    modelo_knn.fit(normalizador_x.transform(X_treino), normalizador_y.transform(y_treino))\n",
    "\n",
    "    y_verdadeiro = normalizador_y.transform(y_teste)\n",
    "    y_previsao = modelo_knn.predict(normalizador_x.transform(X_teste))\n",
    "\n",
    "    RMSE = mean_squared_error(y_verdadeiro, y_previsao, squared=False)\n",
    "    print(f\"O RMSE do modelo k-NN usando k = {n}, para os dados normalizados, foi de {RMSE}.\")\n",
    "    print()\n",
    "    \n",
    "    plt.plot(y_verdadeiro, y_previsao, ls=\"none\", marker=\"o\", alpha=0.5)"
   ]
  },
  {
   "cell_type": "code",
   "execution_count": 29,
   "id": "04cf10cb-4690-44f9-b174-6b848b68eb8b",
   "metadata": {},
   "outputs": [
    {
     "name": "stdout",
     "output_type": "stream",
     "text": [
      "O RMSE do modelo k-NN usando k=3 foi de 763.2373020309408.\n",
      "\n",
      "O RMSE do modelo k-NN usando k=4 foi de 640.55906151605.\n",
      "\n",
      "O RMSE do modelo k-NN usando k=6 foi de 592.2140418177916.\n",
      "\n",
      "O RMSE do modelo k-NN usando k=12 foi de 720.7450171206882.\n",
      "\n"
     ]
    },
    {
     "data": {
      "image/png": "[encoded data removed]",
      "text/plain": [
       "<Figure size 432x288 with 1 Axes>"
      ]
     },
     "metadata": {
      "needs_background": "light"
     },
     "output_type": "display_data"
    }
   ],
   "source": [
    "#2º Teste: Dados não normalizados\n",
    "VIZINHOS = [3, 4, 6, 12]\n",
    "\n",
    "for n in VIZINHOS:\n",
    "    \n",
    "    modelo_knn = KNeighborsRegressor(n_neighbors=n)\n",
    "\n",
    "    modelo_knn.fit(X_treino, y_treino)\n",
    "\n",
    "    y_verdadeiro = y_teste\n",
    "    y_previsao = modelo_knn.predict(X_teste)\n",
    "    \n",
    "    RMSE = mean_squared_error(y_verdadeiro, y_previsao, squared=False)\n",
    "    print(f\"O RMSE do modelo k-NN usando k={n} foi de {RMSE}.\")\n",
    "    print()\n",
    "    \n",
    "    plt.plot(y_verdadeiro, y_previsao, ls=\"none\", marker=\"o\", alpha=0.5)"
   ]
  },
  {
   "cell_type": "code",
   "execution_count": 30,
   "id": "14f0e522-a4c9-45fd-aca2-df2bca689c2f",
   "metadata": {},
   "outputs": [
    {
     "name": "stdout",
     "output_type": "stream",
     "text": [
      "O RMSE do modelo k-NN usando k=1 foi de 1426.334621192693.\n",
      "\n",
      "O RMSE do modelo k-NN usando k=3 foi de 763.2373020309408.\n",
      "\n",
      "O RMSE do modelo k-NN usando k=7 foi de 548.9407023236157.\n",
      "\n",
      "O RMSE do modelo k-NN usando k=11 foi de 741.4557612973797.\n",
      "\n"
     ]
    },
    {
     "data": {
      "image/png": "[encoded data removed]",
      "text/plain": [
       "<Figure size 432x288 with 1 Axes>"
      ]
     },
     "metadata": {
      "needs_background": "light"
     },
     "output_type": "display_data"
    }
   ],
   "source": [
    "VIZINHOS = [1, 3, 7, 11]\n",
    "\n",
    "for n in VIZINHOS:\n",
    "    modelo_knn = KNeighborsRegressor(n_neighbors=n)\n",
    "\n",
    "    modelo_knn.fit(X_treino, y_treino)\n",
    "\n",
    "    y_verdadeiro = y_teste\n",
    "    y_previsao = modelo_knn.predict(X_teste)\n",
    "    \n",
    "    RMSE = mean_squared_error(y_verdadeiro, y_previsao, squared=False)\n",
    "    print(f\"O RMSE do modelo k-NN usando k={n} foi de {RMSE}.\")\n",
    "    print()\n",
    "    \n",
    "    plt.plot(y_verdadeiro, y_previsao, ls=\"none\", marker=\"o\", alpha=0.5)"
   ]
  },
  {
   "cell_type": "markdown",
   "id": "d0ad1152-6af2-4415-954a-a283061d1856",
   "metadata": {},
   "source": [
    "### Regressão Linear"
   ]
  },
  {
   "cell_type": "code",
   "execution_count": 31,
   "id": "2255ac81-6799-4b77-84dc-e97d5c165fe8",
   "metadata": {},
   "outputs": [
    {
     "name": "stdout",
     "output_type": "stream",
     "text": [
      "O RMSE do modelo linear foi de 0.03533730667134907\n"
     ]
    },
    {
     "data": {
      "text/plain": [
       "[<matplotlib.lines.Line2D at 0x2327e6cb1c0>]"
      ]
     },
     "execution_count": 31,
     "metadata": {},
     "output_type": "execute_result"
    },
    {
     "data": {
      "image/png": "[encoded data removed]",
      "text/plain": [
       "<Figure size 432x288 with 1 Axes>"
      ]
     },
     "metadata": {
      "needs_background": "light"
     },
     "output_type": "display_data"
    }
   ],
   "source": [
    "# 1º Dados Normalizados\n",
    "# Relacionando linearmente as features com o target esse modelo é útil nas análises das previsões.\n",
    "\n",
    "# cria o modelo\n",
    "modelo_linear = LinearRegression()\n",
    "\n",
    "# treina o modelo\n",
    "modelo_linear.fit(normalizador_x.transform(X_treino), normalizador_y.transform(y_treino),)\n",
    "\n",
    "# Raiz quadrada do erro médio\n",
    "y_verdadeiro = normalizador_y.transform(y_teste)\n",
    "\n",
    "# realiza uma previsão usando o modelo treinado\n",
    "y_previsao = modelo_linear.predict(normalizador_x.transform(X_teste))\n",
    "\n",
    "RMSE = mean_squared_error(y_verdadeiro, y_previsao, squared=False)\n",
    "print(f\"O RMSE do modelo linear foi de {RMSE}\")\n",
    "\n",
    "plt.plot(y_verdadeiro, y_previsao, ls=\"none\", marker=\"o\", alpha=0.5)"
   ]
  },
  {
   "cell_type": "code",
   "execution_count": 32,
   "id": "416be667-1290-40c5-b6b1-314ed97ea607",
   "metadata": {},
   "outputs": [
    {
     "name": "stdout",
     "output_type": "stream",
     "text": [
      "O RMSE do modelo linear foi de 721.8705006823202.\n"
     ]
    },
    {
     "data": {
      "text/plain": [
       "[<matplotlib.lines.Line2D at 0x2327e7286d0>]"
      ]
     },
     "execution_count": 32,
     "metadata": {},
     "output_type": "execute_result"
    },
    {
     "data": {
      "image/png": "[encoded data removed]",
      "text/plain": [
       "<Figure size 432x288 with 1 Axes>"
      ]
     },
     "metadata": {
      "needs_background": "light"
     },
     "output_type": "display_data"
    }
   ],
   "source": [
    "# 2º Teste: Dados sem normalização\n",
    "# treina o modelo\n",
    "modelo_linear.fit(X_treino, y_treino)\n",
    "\n",
    "# Raiz quadrada do erro médio\n",
    "y_verdadeiro = y_teste\n",
    "\n",
    "# realiza uma previsão usando o modelo treinado\n",
    "y_previsao = modelo_linear.predict(X_teste)\n",
    "\n",
    "RMSE = mean_squared_error(y_verdadeiro, y_previsao, squared=False)\n",
    "print(f\"O RMSE do modelo linear foi de {RMSE}.\")\n",
    "\n",
    "plt.plot(y_verdadeiro, y_previsao, ls=\"none\", marker=\"o\", alpha=0.5)"
   ]
  },
  {
   "cell_type": "markdown",
   "id": "48e1b842-a555-49f0-bfd0-af440f06ca6d",
   "metadata": {},
   "source": [
    "### Árvore de Decisão"
   ]
  },
  {
   "cell_type": "code",
   "execution_count": 33,
   "id": "ef807349-9ba5-498d-b07d-51095d55e055",
   "metadata": {},
   "outputs": [
    {
     "name": "stdout",
     "output_type": "stream",
     "text": [
      "O RMSE do modelo AD usando max_leaf_nodes=None e max_depth=None foi de 0.028644226612053767.\n",
      "\n",
      "O RMSE do modelo AD usando max_leaf_nodes=None e max_depth=5 foi de 0.03767080336994236.\n",
      "\n",
      "O RMSE do modelo AD usando max_leaf_nodes=None e max_depth=10 foi de 0.04146841183679821.\n",
      "\n",
      "O RMSE do modelo AD usando max_leaf_nodes=3 e max_depth=None foi de 0.02074607914931531.\n",
      "\n",
      "O RMSE do modelo AD usando max_leaf_nodes=3 e max_depth=5 foi de 0.02074607914931531.\n",
      "\n",
      "O RMSE do modelo AD usando max_leaf_nodes=3 e max_depth=10 foi de 0.02074607914931531.\n",
      "\n",
      "O RMSE do modelo AD usando max_leaf_nodes=10 e max_depth=None foi de 0.039751905212104734.\n",
      "\n",
      "O RMSE do modelo AD usando max_leaf_nodes=10 e max_depth=5 foi de 0.039751905212104734.\n",
      "\n",
      "O RMSE do modelo AD usando max_leaf_nodes=10 e max_depth=10 foi de 0.039751905212104734.\n",
      "\n"
     ]
    },
    {
     "data": {
      "image/png": "[encoded data removed]",
      "text/plain": [
       "<Figure size 432x288 with 1 Axes>"
      ]
     },
     "metadata": {
      "needs_background": "light"
     },
     "output_type": "display_data"
    }
   ],
   "source": [
    "# 1º Teste: Escolha dos Hiperparâmetros\n",
    "# Grafos Direcionais e conceito de recusão. O algoritmo de árvores de decisão não é determinístico! Sendo assim, algoritmos usados em estratégias de busca que não exploram o espaço amostral. Os algoritmos encontram soluções razoáveis, mas não a melhor solução.\n",
    "\n",
    "NUM_FOLHAS = [None, 3, 10]\n",
    "NUM_PROFUNDIDADE = [None, 5, 10]\n",
    "\n",
    "for n_folhas, n_profundidade in product(NUM_FOLHAS, NUM_PROFUNDIDADE):\n",
    "    modelo_dt = DecisionTreeRegressor(\n",
    "        max_leaf_nodes=n_folhas,\n",
    "        max_depth=n_profundidade,\n",
    "        random_state=SEMENTE_ALEATORIA,\n",
    "    )\n",
    "\n",
    "    modelo_dt.fit(normalizador_x.transform(X_treino), normalizador_y.transform(y_treino))\n",
    "\n",
    "    y_verdadeiro = normalizador_y.transform(y_teste)\n",
    "    y_previsao = modelo_dt.predict(normalizador_x.transform(X_teste))\n",
    "    RMSE = mean_squared_error(y_verdadeiro, y_previsao, squared=False)\n",
    "\n",
    "    print(\n",
    "        f\"O RMSE do modelo AD usando max_leaf_nodes={n_folhas} \"\n",
    "        f\"e max_depth={n_profundidade} foi de {RMSE}.\"\n",
    "    )\n",
    "    print()\n",
    "    plt.plot(y_verdadeiro, y_previsao, ls=\"none\", marker=\"o\", alpha=0.5)"
   ]
  },
  {
   "cell_type": "code",
   "execution_count": 34,
   "id": "a8f13471-013a-40b1-8a6b-16ef66595ac4",
   "metadata": {},
   "outputs": [
    {
     "name": "stdout",
     "output_type": "stream",
     "text": [
      "O RMSE do modelo árvore de decisão, para os dados normalizados, foi de 0.02074607914931531.\n"
     ]
    },
    {
     "data": {
      "text/plain": [
       "[<matplotlib.lines.Line2D at 0x2327e812550>]"
      ]
     },
     "execution_count": 34,
     "metadata": {},
     "output_type": "execute_result"
    },
    {
     "data": {
      "image/png": "[encoded data removed]",
      "text/plain": [
       "<Figure size 432x288 with 1 Axes>"
      ]
     },
     "metadata": {
      "needs_background": "light"
     },
     "output_type": "display_data"
    }
   ],
   "source": [
    "# 2º Teste: Dados Normalizados\n",
    "# cria o modelo\n",
    "modelo_dt = DecisionTreeRegressor(\n",
    "    max_leaf_nodes=3,\n",
    "    max_depth=None,\n",
    "    random_state=SEMENTE_ALEATORIA,\n",
    ")\n",
    "# treina o modelo\n",
    "modelo_dt.fit(normalizador_x.transform(X_treino), normalizador_y.transform(y_treino))\n",
    "\n",
    "\n",
    "# Raiz quadrada do erro médio\n",
    "y_previsao = modelo_dt.predict(normalizador_x.transform(X_teste))\n",
    "y_verdadeiro = normalizador_y.transform(y_teste)\n",
    "\n",
    "RMSE = mean_squared_error(y_verdadeiro, y_previsao, squared=False)\n",
    "print(f\"O RMSE do modelo árvore de decisão, para os dados normalizados, foi de {RMSE}.\")\n",
    "\n",
    "plt.plot(y_verdadeiro, y_previsao, ls=\"none\", marker=\"o\", alpha=0.5)"
   ]
  },
  {
   "cell_type": "code",
   "execution_count": 35,
   "id": "537a2081-a9e4-403e-8df7-41204095dc50",
   "metadata": {},
   "outputs": [
    {
     "name": "stdout",
     "output_type": "stream",
     "text": [
      "O RMSE do modelo árvore de decisão foi de 423.8009048622132\n"
     ]
    },
    {
     "data": {
      "text/plain": [
       "[<matplotlib.lines.Line2D at 0x2327e78f8b0>]"
      ]
     },
     "execution_count": 35,
     "metadata": {},
     "output_type": "execute_result"
    },
    {
     "data": {
      "image/png": "[encoded data removed]",
      "text/plain": [
       "<Figure size 432x288 with 1 Axes>"
      ]
     },
     "metadata": {
      "needs_background": "light"
     },
     "output_type": "display_data"
    }
   ],
   "source": [
    "# 3º Teste: Dados não Normalizados\n",
    "# treina o modelo\n",
    "modelo_dt.fit(X_treino, y_treino)\n",
    "\n",
    "# realiza uma previsão usando o modelo treinado\n",
    "previsao = modelo_dt.predict(X_teste)\n",
    "\n",
    "# Raiz quadrada do erro médio \n",
    "y_verdadeiro = y_teste\n",
    "y_previsao = modelo_dt.predict(X_teste)\n",
    "\n",
    "RMSE = mean_squared_error(y_verdadeiro, y_previsao, squared=False)\n",
    "print(f\"O RMSE do modelo árvore de decisão foi de {RMSE}\")\n",
    "\n",
    "plt.plot(y_verdadeiro, y_previsao, ls=\"none\", marker=\"o\", alpha=0.5)"
   ]
  },
  {
   "cell_type": "code",
   "execution_count": 36,
   "id": "5012fa63-de35-4913-a67a-168bf3089831",
   "metadata": {},
   "outputs": [
    {
     "name": "stdout",
     "output_type": "stream",
     "text": [
      "O RMSE do modelo AD usando max_leaf_nodes=3 foi de 0.02074607914931531\n"
     ]
    },
    {
     "data": {
      "image/png": "[encoded data removed]",
      "text/plain": [
       "<Figure size 1050x600 with 1 Axes>"
      ]
     },
     "metadata": {
      "needs_background": "light"
     },
     "output_type": "display_data"
    }
   ],
   "source": [
    "# Grafo: Árvore de Decisão\n",
    "# cria e treina o modelo\n",
    "modelo_dt = DecisionTreeRegressor(\n",
    "    max_leaf_nodes=3,\n",
    "    max_depth=None,\n",
    "    random_state=SEMENTE_ALEATORIA,\n",
    ")\n",
    "modelo_dt.fit(normalizador_x.transform(X_treino), normalizador_y.transform(y_treino))\n",
    "\n",
    "y_verdadeiro = normalizador_y.transform(y_teste)\n",
    "y_previsao = modelo_dt.predict(normalizador_x.transform(X_teste))\n",
    "RMSE = mean_squared_error(y_verdadeiro, y_previsao, squared=False)\n",
    "print( f\"O RMSE do modelo AD usando max_leaf_nodes={3} foi de {RMSE}\")\n",
    "\n",
    "# cria os objetos de figura e eixo\n",
    "fig, axe = plt.subplots(\n",
    "    ncols=1,\n",
    "    nrows=1,\n",
    "    figsize=(7, 4),\n",
    "    dpi=150,\n",
    ")\n",
    "\n",
    "# plota o grafo da árvore de decisão\n",
    "tree.plot_tree(\n",
    "    modelo_dt,\n",
    "    feature_names=FEATURES,\n",
    "    ax=axe,\n",
    "    impurity=False,\n",
    "    filled=True,\n",
    "    proportion=True,\n",
    "    precision=2,\n",
    ")\n",
    "\n",
    "# mostra o plot para o usuário\n",
    "plt.show()"
   ]
  },
  {
   "cell_type": "markdown",
   "id": "cc7e7b86-36ec-4ab3-b18e-f907a795ac5e",
   "metadata": {},
   "source": [
    "### Floresta Aleatória"
   ]
  },
  {
   "cell_type": "code",
   "execution_count": 37,
   "id": "940f48cc-338f-4f99-bb03-b5b837a31f8c",
   "metadata": {},
   "outputs": [
    {
     "name": "stdout",
     "output_type": "stream",
     "text": [
      "O RMSE do modelo RF usando n_estimators=10 max_leaf_nodes=None e max_depth=None foi de 362.70935000444246.\n",
      "\n",
      "O RMSE do modelo RF usando n_estimators=100 max_leaf_nodes=None e max_depth=None foi de 376.12785722925526.\n",
      "\n",
      "O RMSE do modelo RF usando n_estimators=10 max_leaf_nodes=None e max_depth=3 foi de 382.29026082544084.\n",
      "\n",
      "O RMSE do modelo RF usando n_estimators=100 max_leaf_nodes=None e max_depth=3 foi de 414.2213563570962.\n",
      "\n",
      "O RMSE do modelo RF usando n_estimators=10 max_leaf_nodes=6 e max_depth=None foi de 378.52564390388454.\n",
      "\n",
      "O RMSE do modelo RF usando n_estimators=100 max_leaf_nodes=6 e max_depth=None foi de 413.870293742276.\n",
      "\n",
      "O RMSE do modelo RF usando n_estimators=10 max_leaf_nodes=6 e max_depth=3 foi de 370.2274716230662.\n",
      "\n",
      "O RMSE do modelo RF usando n_estimators=100 max_leaf_nodes=6 e max_depth=3 foi de 407.65154406094376.\n",
      "\n"
     ]
    }
   ],
   "source": [
    "# Estabelecida por diversas árvores de decisão e tem o processo de construção das árvores envolvendo amostragem dos exemplos e das features, por isso é dada aleatoriamente.\n",
    "# 1º Teste: Hiperparâmetros\n",
    "\n",
    "NUM_ARVORES = [10, 100]\n",
    "NUM_FOLHAS = [None, 6]\n",
    "NUM_PROFUNDIDADE = [None, 3]\n",
    "\n",
    "# alterando o formato do target\n",
    "y_treino2 = y_treino.ravel()\n",
    "y_teste2 = y_teste.ravel()\n",
    "\n",
    "for n_folhas, n_profundidade, n_arvores in product(\n",
    "    NUM_FOLHAS, NUM_PROFUNDIDADE, NUM_ARVORES\n",
    "):\n",
    "    modelo_rf = RandomForestRegressor(\n",
    "        n_estimators=n_arvores,\n",
    "        max_leaf_nodes=n_folhas,\n",
    "        max_depth=n_profundidade,\n",
    "        random_state=SEMENTE_ALEATORIA,\n",
    "        n_jobs=4,\n",
    "    )\n",
    "\n",
    "    modelo_rf.fit(X_treino, y_treino2)\n",
    "\n",
    "    y_verdadeiro = y_teste2\n",
    "    y_previsao = modelo_rf.predict(X_teste)\n",
    "    RMSE = mean_squared_error(y_verdadeiro, y_previsao, squared=False)\n",
    "\n",
    "    print(\n",
    "        f\"O RMSE do modelo RF usando \"\n",
    "        f\"n_estimators={n_arvores} max_leaf_nodes={n_folhas} \"\n",
    "        f\"e max_depth={n_profundidade} foi de {RMSE}.\"\n",
    "    )\n",
    "    print()"
   ]
  },
  {
   "cell_type": "code",
   "execution_count": 38,
   "id": "8e8f326f-064e-482f-a610-5c484641319c",
   "metadata": {},
   "outputs": [
    {
     "name": "stdout",
     "output_type": "stream",
     "text": [
      "O RMSE do modelo árvore de decisão foi de 362.70935000444246.\n"
     ]
    },
    {
     "data": {
      "text/plain": [
       "[<matplotlib.lines.Line2D at 0x2327d5cb850>]"
      ]
     },
     "execution_count": 38,
     "metadata": {},
     "output_type": "execute_result"
    },
    {
     "data": {
      "image/png": "[encoded data removed]",
      "text/plain": [
       "<Figure size 432x288 with 1 Axes>"
      ]
     },
     "metadata": {
      "needs_background": "light"
     },
     "output_type": "display_data"
    }
   ],
   "source": [
    "# 2º Teste: Dados não normalizados\n",
    "# cria o modelo\n",
    "modelo_rf = RandomForestRegressor(n_estimators=10, random_state=SEMENTE_ALEATORIA)\n",
    "\n",
    "# treina o modelo\n",
    "modelo_rf.fit(X_treino, y_treino2)\n",
    "\n",
    "y_verdadeiro = y_teste\n",
    "y_previsao = modelo_rf.predict(X_teste)\n",
    "\n",
    "RMSE = mean_squared_error(y_verdadeiro, y_previsao, squared=False)\n",
    "print(f\"O RMSE do modelo árvore de decisão foi de {RMSE}.\")\n",
    "\n",
    "plt.plot(y_verdadeiro, y_previsao, ls=\"none\", marker=\"o\", alpha=0.5)"
   ]
  },
  {
   "cell_type": "markdown",
   "id": "16fe7113-cee4-4d48-9604-4fd5e708534f",
   "metadata": {},
   "source": [
    "### Importância das Features"
   ]
  },
  {
   "cell_type": "code",
   "execution_count": 39,
   "id": "44b006d5-339e-4567-8e09-6fc1dc37466c",
   "metadata": {},
   "outputs": [
    {
     "data": {
      "image/png": "[encoded data removed]",
      "text/plain": [
       "<Figure size 432x288 with 1 Axes>"
      ]
     },
     "metadata": {
      "needs_background": "light"
     },
     "output_type": "display_data"
    }
   ],
   "source": [
    "importancia = modelo_rf.feature_importances_\n",
    "desvio_padrao = np.std(\n",
    "    [arvore.feature_importances_ for arvore in modelo_rf.estimators_], axis=0\n",
    ")\n",
    "\n",
    "serie_importancia = pd.Series(importancia, index=FEATURES)\n",
    "\n",
    "fig, axe = plt.subplots()\n",
    "serie_importancia.plot.bar(yerr=desvio_padrao, ax=axe)\n",
    "axe.set_ylabel(\"Redução média da impureza\")\n",
    "plt.show()"
   ]
  },
  {
   "cell_type": "markdown",
   "id": "a50c90bb-e8da-4c9f-b0e1-2ed7b4509c4d",
   "metadata": {},
   "source": [
    "### Comparando os Desempenhos dos modelos de Regressão"
   ]
  },
  {
   "cell_type": "markdown",
   "id": "632e5632-6547-4444-b87c-76f0d83fa318",
   "metadata": {},
   "source": [
    "Melhor Modelo: Árvore de decisão\n",
    "<br> Para o nosso grupo, a árvore de decisão se aplicou mais apropriadamente devido à explicação mais abrangente dos dados. Pois, além de dividir o problema em partes menores, isso possibilita um processo recursivo. Esses subespaços podem ser alterados em diferentes modelos.\n",
    "<br> A árvore de decisão é um grafo direcionado acíclico com nós de divisão, onde se estabelecem funções ou nós de divisão, que realizam testes condicionais."
   ]
  },
  {
   "cell_type": "markdown",
   "id": "00d0c7f8-3f70-4faf-95d6-15689d9965e7",
   "metadata": {},
   "source": [
    "### Classificação"
   ]
  },
  {
   "cell_type": "code",
   "execution_count": 43,
   "id": "20489425-0fe5-4dc7-8cd7-0849feceb441",
   "metadata": {},
   "outputs": [],
   "source": [
    "# Matriz de confusão\n",
    "\n",
    "#confusion_matrix(y_previsao, y_teste2)"
   ]
  },
  {
   "cell_type": "code",
   "execution_count": null,
   "id": "a6e04b6e-eb78-4940-a5ed-b1ce92b9d190",
   "metadata": {},
   "outputs": [],
   "source": [
    "TARGET = [\"casos-confirmados\"]\n",
    "df[TARGET].hist(bins=150)"
   ]
  },
  {
   "cell_type": "markdown",
   "id": "b6a1508e-9a38-4a5c-a0d7-d5ef5618c06c",
   "metadata": {},
   "source": [
    "#### Categorização"
   ]
  },
  {
   "cell_type": "code",
   "execution_count": null,
   "id": "e6a09167-6523-4237-8581-fc9b90d53e4f",
   "metadata": {},
   "outputs": [],
   "source": [
    "# Separa o número de casos\n",
    "\n",
    "logic = df[\"casos-confirmados\"] <= 20\n",
    "print(len(df.loc[logic]),'Casos raros/isolados')\n",
    "logic = (df[\"casos-confirmados\"] > 20) & (df[\"casos-confirmados\"] <= 50)\n",
    "print(len(df.loc[logic]),'Pouquissimos casos')\n",
    "logic = (df[\"casos-confirmados\"] > 50) & (df[\"casos-confirmados\"] <= 250)\n",
    "print(len(df.loc[logic]),'Poucos casos')\n",
    "logic = (df[\"casos-confirmados\"] > 250) & (df[\"casos-confirmados\"] <= 1000)\n",
    "print(len(df.loc[logic]),'Numero medio de casos')\n",
    "logic = (df[\"casos-confirmados\"] > 1000) & (df[\"casos-confirmados\"] <= 2500)\n",
    "print(len(df.loc[logic]),'Muitos casos')\n",
    "logic = (df[\"casos-confirmados\"] > 2500)\n",
    "print(len(df.loc[logic]),'Surtos de dengue')"
   ]
  },
  {
   "cell_type": "code",
   "execution_count": null,
   "id": "caf2ea5b-910f-4192-b283-53ffb3869917",
   "metadata": {},
   "outputs": [],
   "source": [
    "# Adiciona uma coluna com a categorização ao dataset\n",
    "\n",
    "df['casos-categórico'] = None\n",
    "\n",
    "logic = df[\"casos-confirmados\"] <= 20\n",
    "df.loc[logic, 'casos-categórico'] ='Casos raros/isolados'\n",
    "logic = (df[\"casos-confirmados\"] > 20) & (df[\"casos-confirmados\"] <= 50)\n",
    "df.loc[logic, 'casos-categórico'] = 'Pouquissimos casos'\n",
    "logic = (df[\"casos-confirmados\"] > 50) & (df[\"casos-confirmados\"] <= 250)\n",
    "df.loc[logic, 'casos-categórico'] = 'Poucos casos'\n",
    "logic = (df[\"casos-confirmados\"] > 250) & (df[\"casos-confirmados\"] <= 1000)\n",
    "df.loc[logic, 'casos-categórico'] = 'Numero medio de casos'\n",
    "logic = (df[\"casos-confirmados\"] > 1000)  & (df[\"casos-confirmados\"] <= 2500)\n",
    "df.loc[logic, 'casos-categórico'] = 'Muitos casos'\n",
    "logic = (df[\"casos-confirmados\"] > 2500)  \n",
    "df.loc[logic, 'casos-categórico'] = 'Surtos de dengue'\n",
    "print(df)"
   ]
  },
  {
   "cell_type": "code",
   "execution_count": null,
   "id": "d7827550-d3ac-4826-82e3-0fd92792c9dc",
   "metadata": {},
   "outputs": [],
   "source": [
    "# Converte dados categoricos em numéricos \n",
    "\n",
    "conversao = {\n",
    "    \"Casos raros/isolados\": 1,\n",
    "    \"Pouquissimos casos\": 2,\n",
    "    \"Poucos casos\": 3,\n",
    "    \"Numero medio de casos\": 4,\n",
    "    \"Muitos casos\": 5,\n",
    "    \"Surtos de dengue\": 6,\n",
    "}\n",
    "\n",
    "df[\"cc\"] = df[\"casos-categórico\"].map(conversao)\n",
    "\n",
    "print(df)"
   ]
  },
  {
   "cell_type": "code",
   "execution_count": null,
   "id": "6d01897f-8395-4fbf-a876-fa5631da9c84",
   "metadata": {},
   "outputs": [],
   "source": [
    "# Treinando um novo modelo.\n",
    "# Definir datasets de treino e teste, e hiperparâmetros gerais para todos os teste   \n",
    "\n",
    "TAMANHO_TESTE = 0.15 # quantidade de dados usados para o teste (15%)\n",
    "SEMENTE_ALEATORIA = 469\n",
    "FEATURES = [\"chuva\", \"temperatura-media\", \"temperatura-mininima\", \"temperatura-maxima\", \"meses\"]\n",
    "TARGET = [\"cc\"]\n",
    "\n",
    "\n",
    "indices = df.index\n",
    "indices_treino, indices_teste = train_test_split(\n",
    "    indices, test_size=TAMANHO_TESTE, random_state=SEMENTE_ALEATORIA\n",
    ")\n",
    "\n",
    "df_treino = df.loc[indices_treino]\n",
    "df_teste = df.loc[indices_teste]\n",
    "\n",
    "# observe que usamos o .values aqui pois queremos apenas os valores\n",
    "X_treino = df_treino.reindex(FEATURES, axis=1).values\n",
    "y_treino = df_treino.reindex(TARGET, axis=1).values\n",
    "X_teste = df_teste.reindex(FEATURES, axis=1).values\n",
    "y_teste = df_teste.reindex(TARGET, axis=1).values"
   ]
  },
  {
   "cell_type": "code",
   "execution_count": null,
   "id": "91cc88d9-5db1-4e6d-9938-e2870614b651",
   "metadata": {},
   "outputs": [],
   "source": [
    "from sklearn.tree import DecisionTreeClassifier\n",
    "\n",
    "# cria o modelo\n",
    "modelo_dt = DecisionTreeClassifier(\n",
    "    random_state=SEMENTE_ALEATORIA)\n",
    "\n",
    "# treina o modelo\n",
    "modelo_dt.fit(X_treino, y_treino)\n",
    "\n",
    "# realiza uma previsão usando o modelo treinado\n",
    "previsao = modelo_dt.predict(X_teste)\n",
    "print(previsao)\n"
   ]
  },
  {
   "cell_type": "code",
   "execution_count": null,
   "id": "44f04dd6-c395-4710-ae44-a7914ff4d04a",
   "metadata": {},
   "outputs": [],
   "source": [
    "# Performace do modelo \n",
    "\n",
    "from sklearn import metrics\n",
    "print(\"Accuracy:\",metrics.accuracy_score(y_teste, previsao))"
   ]
  },
  {
   "cell_type": "code",
   "execution_count": null,
   "id": "b84deef4-f04b-414e-a894-1963a87acbf5",
   "metadata": {},
   "outputs": [],
   "source": [
    "# Avalia, automaticamnte, os melhores hiperparâmetros\n",
    "\n",
    "param_grid = { \n",
    "    \"max_leaf_nodes\":[None, 3, 5, 10],\n",
    "    'max_depth' : [4,6,8,10,12,14,16],\n",
    "}\n",
    "CV_rfc = GridSearchCV(estimator=modelo_dt, param_grid=param_grid, cv= 5, n_jobs=8)\n",
    "CV_rfc.fit(X_treino, y_treino)\n",
    "\n",
    "print(CV_rfc.best_params_)\n",
    "best_params = CV_rfc.best_params_"
   ]
  },
  {
   "cell_type": "code",
   "execution_count": null,
   "id": "58ba740a-1b6c-4635-bb4b-df0baa1a1bc7",
   "metadata": {},
   "outputs": [],
   "source": [
    "# Treinando novamente o modelo\n",
    "\n",
    "modelo_dt = DecisionTreeClassifier(\n",
    "    max_leaf_nodes=3,\n",
    "    max_depth=4,\n",
    "    random_state=SEMENTE_ALEATORIA)\n",
    "\n",
    "# treina o modelo\n",
    "modelo_dt.fit(X_treino, y_treino)\n",
    "\n",
    "# realiza uma previsão usando o modelo treinado\n",
    "previsao = modelo_dt.predict(X_teste)\n",
    "print(previsao)\n",
    "\n",
    "print(\"Accuracy:\",metrics.accuracy_score(y_teste, previsao))"
   ]
  },
  {
   "cell_type": "markdown",
   "id": "d22e96be-e0df-4dac-807c-b683f810aed2",
   "metadata": {},
   "source": [
    "# Bloco 3"
   ]
  },
  {
   "cell_type": "code",
   "execution_count": null,
   "id": "5a3eb1b5-8dd2-47da-8a56-8e9c956f3afd",
   "metadata": {},
   "outputs": [],
   "source": []
  }
 ],
 "metadata": {
  "kernelspec": {
   "display_name": "ilumpy",
   "language": "python",
   "name": "ilumpy"
  },
  "language_info": {
   "codemirror_mode": {
    "name": "ipython",
    "version": 3
   },
   "file_extension": ".py",
   "mimetype": "text/x-python",
   "name": "python",
   "nbconvert_exporter": "python",
   "pygments_lexer": "ipython3",
   "version": "3.9.7"
  }
 },
 "nbformat": 4,
 "nbformat_minor": 5
}
