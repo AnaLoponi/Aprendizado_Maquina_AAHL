{
 "cells": [
  {
   "cell_type": "markdown",
   "id": "1109ae30-8bbf-4be9-930c-9a76b94df821",
   "metadata": {},
   "source": [
    "# Projeto de Aprendizado de Máquina\n",
    "\n",
    "### 2º semestre de 2022\n",
    "\n",
    "#### Grupo formado por:\n",
    "        Ana Clara Loponi\n",
    "        Ana Clara Brandão\n",
    "        Heitor Bernardes \n",
    "        Lorraine Casseano\n",
    "    \n",
    "### 4. Análise exploratória dos dados\n",
    "#### Computar e análisar a estátistica descritiva dos dados\n",
    "\n",
    "<ht> Idealmente, o projeto consiste em treinar uma máquina para prever possiveis surtos regionais de dengue. Inicialmente, vamos usar dados coletados em Campinas, São Paulo, dos anos de 1998 à 2014, referentes a número de casos confimados, volume de chuva (em ml), temperatura mínima, temperatura máxima e temperatura média. "
   ]
  },
  {
   "cell_type": "code",
   "execution_count": 2,
   "id": "138803db-1192-406a-9a06-7ae2378d2df1",
   "metadata": {},
   "outputs": [],
   "source": [
    "# Importação de bibliotecas\n",
    "import pandas as pd\n",
    "import numpy as np"
   ]
  },
  {
   "cell_type": "code",
   "execution_count": 3,
   "id": "fbe3225e-a7db-4ee6-86ad-10a114eb9cd6",
   "metadata": {},
   "outputs": [],
   "source": [
    "dados = pd.read_excel(\"dataset_dengue.xlsx\") # exportando os dados"
   ]
  },
  {
   "cell_type": "code",
   "execution_count": 4,
   "id": "48f2960c-156f-458f-94bc-551baaae0a7f",
   "metadata": {
    "tags": []
   },
   "outputs": [
    {
     "name": "stdout",
     "output_type": "stream",
     "text": [
      "357.53921568627453 112.07549019607842 17.679411764705883 25.565196078431374\n"
     ]
    }
   ],
   "source": [
    "\"\"\" Média de cada coluna de dados\"\"\"\n",
    "\n",
    "M1 = dados[\"casos-confirmados\"].mean()\n",
    "\n",
    "M2 = dados[\"chuva\"].mean()\n",
    "\n",
    "M3 = dados[\"temperatura-mininima\"].mean()\n",
    "\n",
    "M4 = dados[\"temperatura-maxima\"].mean()\n",
    "\n",
    "print(M1, M2, M3, M4)"
   ]
  },
  {
   "cell_type": "code",
   "execution_count": 5,
   "id": "793ea27b-7418-493e-9863-6dcd6ab92024",
   "metadata": {
    "tags": []
   },
   "outputs": [
    {
     "name": "stdout",
     "output_type": "stream",
     "text": [
      "1741.8147587005246 97.3904390734082 3.336315723659817 2.2498635888116434\n"
     ]
    }
   ],
   "source": [
    "\"\"\" Desvio Padrão\"\"\"\n",
    "\n",
    "D1 = dados[\"casos-confirmados\"].std()\n",
    "\n",
    "D2 = dados[\"chuva\"].std()\n",
    "\n",
    "D3 = dados[\"temperatura-mininima\"].std()\n",
    "\n",
    "D4 = dados[\"temperatura-maxima\"].std()\n",
    "\n",
    "print(D1, D2, D3, D4)"
   ]
  },
  {
   "cell_type": "markdown",
   "id": "9a77518c-1f78-4daa-bcb5-c7f05b04eb0e",
   "metadata": {},
   "source": [
    "Observando esses resultados, concluimos que eles não eram satisfatórios, e não forneciam as informações que precisavamos. Por isso, optamos por uma análise difernte, fazendo uma separação referente aos meses, de forma que as médias sejam separadas em média_janeiro, média_fevereiro, média_março e assim por diante."
   ]
  },
  {
   "cell_type": "code",
   "execution_count": 6,
   "id": "b41ab2ff-421f-4093-abd3-52eb8b298e3f",
   "metadata": {},
   "outputs": [],
   "source": [
    "dados1 = dados.drop(columns = [\"data\"], axis = 1) # Exclui a coluna \"data\", pois ela é irrelevante para o processo\n",
    "\n",
    "#print(dados1)\n",
    "#print(dados1.dtypes)"
   ]
  },
  {
   "cell_type": "code",
   "execution_count": 7,
   "id": "17eb3b1c-e49d-4d2c-94ae-9492a635b677",
   "metadata": {
    "tags": []
   },
   "outputs": [],
   "source": [
    "\"\"\" Separando os dados e colocando-os em listas iteraveis \"\"\"\n",
    "\n",
    "conv = dados1.values.tolist() # função que transoforma de dataset para lista\n",
    "\n",
    "casos = []\n",
    "chuva = []\n",
    "tem_med = []\n",
    "tem_max = []\n",
    "tem_min = []\n",
    "\n",
    "for i in conv:\n",
    "    for j in range(0, len(i), 5):\n",
    "        casos.append(i[j])\n",
    "\n",
    "for i in conv:\n",
    "    for j in range(1, len(i), 5):\n",
    "        chuva.append(i[j])\n",
    "        \n",
    "for i in conv:\n",
    "    for j in range(2, len(i), 5):\n",
    "        tem_med.append(i[j])\n",
    "        \n",
    "for i in conv:\n",
    "    for j in range(3, len(i), 5):\n",
    "        tem_min.append(i[j])\n",
    "for i in conv:\n",
    "    for j in range(4, len(i), 5):\n",
    "        tem_max.append(i[j])\n",
    "        \n",
    "\n",
    "#print(casos)\n",
    "#print(chuva)\n",
    "#print(tem_med)\n",
    "#print(tem_min) \n",
    "#print(tem_max)"
   ]
  },
  {
   "cell_type": "code",
   "execution_count": 28,
   "id": "5e7e3c9a-2c14-4cdd-b64a-285b7df22ce4",
   "metadata": {},
   "outputs": [],
   "source": [
    "def separação(x, c):\n",
    "    \n",
    "    \"\"\" Separa os dados por mês e calcula a média e desvio padrão \"\"\"\n",
    "    \n",
    "    if c >= 12: # Critério de parada\n",
    "        return 0 \n",
    "    \n",
    "    else:\n",
    "\n",
    "        lista = []  # Para armazernar e processar os dados \n",
    "        lista2 = []\n",
    "    \n",
    "        for i in range(c,len(x),12): # Separa os dados por meses, fazendo uma listagem dos dados com um intervalo de 12 itens\n",
    "            lista.append(x[i])\n",
    "    \n",
    "    m = np.mean(lista) # função do numpy para calculo de media \n",
    "    dp = np.std(lista) # função do numpy para calculo de desvio padrão\n",
    "    lista2.append(m)\n",
    "    lista2.append(dp)\n",
    "    \n",
    "        \n",
    "    lista.clear() # Ao final da operação, a lista é esvaziada para não ter problemas\n",
    "    \n",
    "    print(lista2)\n",
    "    \n",
    "    return separação(x, c + 1)  # Usei recursão para seguir calculando para os demais meses  "
   ]
  },
  {
   "cell_type": "code",
   "execution_count": 34,
   "id": "faf6f769-807d-4e4e-9d62-cd41274d0c6f",
   "metadata": {
    "tags": []
   },
   "outputs": [
    {
     "name": "stdout",
     "output_type": "stream",
     "text": [
      "[84.29411764705883, 86.19387497406636]\n",
      "[271.7647058823529, 420.0032954228931]\n",
      "[919.1764705882352, 1844.583493088827]\n",
      "[1829.5294117647059, 4778.14081635312]\n",
      "[955.7058823529412, 2456.901031421635]\n",
      "[142.41176470588235, 313.971909351126]\n",
      "[21.529411764705884, 35.72627579257206]\n",
      "[11.176470588235293, 12.825687891734844]\n",
      "[10.0, 12.874964306061315]\n",
      "[11.588235294117647, 14.641033487827816]\n",
      "[12.588235294117647, 17.425670123090082]\n",
      "[20.705882352941178, 21.545477772765853]\n",
      "0\n",
      "[282.5705882352941, 95.64846645371841]\n",
      "[166.11176470588236, 74.13112295792814]\n",
      "[142.89999999999998, 68.48547291214393]\n",
      "[66.31764705882354, 50.1849899670517]\n",
      "[60.911764705882355, 39.86528612793697]\n",
      "[43.017647058823535, 38.37982367145403]\n",
      "[41.811764705882354, 45.09142193566234]\n",
      "[22.735294117647058, 24.262315033727674]\n",
      "[54.182352941176475, 33.761224456713784]\n",
      "[105.63529411764705, 65.00958247173095]\n",
      "[151.8470588235294, 77.03406517399841]\n",
      "[206.86470588235295, 71.59512751393788]\n",
      "0\n",
      "[24.205882352941178, 1.0849074713786824]\n",
      "[24.811764705882354, 0.8628832331482877]\n",
      "[24.376470588235293, 0.746386914144089]\n",
      "[22.752941176470586, 0.8711842157180435]\n",
      "[19.470588235294116, 0.7774503622379664]\n",
      "[18.870588235294118, 1.2800573084056701]\n",
      "[18.676470588235297, 0.7612137457915532]\n",
      "[20.38823529411765, 0.950468833502818]\n",
      "[21.799999999999997, 0.949922597465957]\n",
      "[23.258823529411767, 1.42954489818157]\n",
      "[23.5, 0.8188945202491698]\n",
      "[24.3, 0.8145731469700593]\n",
      "0\n",
      "[20.247058823529407, 1.6186841595272683]\n",
      "[21.53529411764706, 1.0226500617459167]\n",
      "[20.741176470588233, 1.54083965785252]\n",
      "[18.376470588235296, 2.101128383614163]\n",
      "[14.741176470588234, 1.346043799448815]\n",
      "[14.605882352941176, 2.322389891833105]\n",
      "[13.31764705882353, 2.1939047365552558]\n",
      "[14.81764705882353, 2.8318016078144947]\n",
      "[15.929411764705883, 1.8428764938612403]\n",
      "[18.029411764705884, 1.7488701246241154]\n",
      "[19.264705882352946, 1.7646666662309272]\n",
      "[20.54705882352941, 1.522813822407803]\n",
      "0\n",
      "[27.08235294117647, 1.0455706542742988]\n",
      "[27.13529411764706, 1.1135217985507742]\n",
      "[26.947058823529414, 0.6059680122200429]\n",
      "[25.764705882352942, 0.9022463316115913]\n",
      "[23.211764705882352, 1.1229595105273107]\n",
      "[21.82941176470588, 1.0441797827410377]\n",
      "[22.32941176470588, 0.5938555041940685]\n",
      "[24.347058823529412, 1.3486889699690816]\n",
      "[26.394117647058827, 0.9619041093429913]\n",
      "[27.335294117647063, 1.4978184828651486]\n",
      "[27.188235294117646, 0.8750679657241938]\n",
      "[27.21764705882353, 1.0595422397363248]\n",
      "0\n"
     ]
    }
   ],
   "source": [
    "contagem = 0 # Variável para servir de inicio para a contagem\n",
    "print(separação(casos, contagem))\n",
    "print(separação(chuva, contagem))\n",
    "print(separação(tem_med, contagem))\n",
    "print(separação(tem_min, contagem))\n",
    "print(separação(tem_max, contagem))"
   ]
  },
  {
   "cell_type": "code",
   "execution_count": null,
   "id": "34d4b82c-af0e-43a6-862b-acc2a3aa66c0",
   "metadata": {},
   "outputs": [],
   "source": []
  }
 ],
 "metadata": {
  "kernelspec": {
   "display_name": "ilumpy",
   "language": "python",
   "name": "ilumpy"
  },
  "language_info": {
   "codemirror_mode": {
    "name": "ipython",
    "version": 3
   },
   "file_extension": ".py",
   "mimetype": "text/x-python",
   "name": "python",
   "nbconvert_exporter": "python",
   "pygments_lexer": "ipython3",
   "version": "3.9.7"
  }
 },
 "nbformat": 4,
 "nbformat_minor": 5
}
