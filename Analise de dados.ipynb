{
 "cells": [
  {
   "cell_type": "markdown",
   "id": "1109ae30-8bbf-4be9-930c-9a76b94df821",
   "metadata": {},
   "source": [
    "# Projeto de Aprendizado de Máquina\n",
    "\n",
    "### 2º semestre de 2022\n",
    "\n",
    "#### Grupo formado por:\n",
    "        Ana Clara Loponi\n",
    "        Ana Clara Brandão\n",
    "        Heitor Bernardes \n",
    "        Lorraine Casseano\n",
    "    \n",
    "### 4. Análise exploratória dos dados\n",
    "#### Computar e análisar a estátistica descritiva dos dados\n",
    "\n",
    "<ht> Idealmente, o projeto consiste em treinar uma máquina para prever possiveis surtos regionais de dengue. Inicialmente, vamos usar dados coletados em Campinas, São Paulo, dos anos de 1998 à 2014, referentes a número de casos confimados, volume de chuva (em ml), temperatura mínima, temperatura máxima e temperatura média. "
   ]
  },
  {
   "cell_type": "code",
   "execution_count": 86,
   "id": "138803db-1192-406a-9a06-7ae2378d2df1",
   "metadata": {},
   "outputs": [],
   "source": [
    "# Importação de bibliotecas\n",
    "import pandas as pd\n",
    "import numpy as np"
   ]
  },
  {
   "cell_type": "code",
   "execution_count": 87,
   "id": "fbe3225e-a7db-4ee6-86ad-10a114eb9cd6",
   "metadata": {},
   "outputs": [],
   "source": [
    "dados = pd.read_excel(\"dataset_dengue.xlsx\") # exportando os dados"
   ]
  },
  {
   "cell_type": "code",
   "execution_count": 88,
   "id": "48f2960c-156f-458f-94bc-551baaae0a7f",
   "metadata": {
    "tags": []
   },
   "outputs": [
    {
     "name": "stdout",
     "output_type": "stream",
     "text": [
      "357.53921568627453 112.07549019607842 17.679411764705883 25.565196078431374\n"
     ]
    }
   ],
   "source": [
    "\"\"\" Média de cada coluna de dados\"\"\"\n",
    "\n",
    "M1 = dados[\"casos-confirmados\"].mean()\n",
    "\n",
    "M2 = dados[\"chuva\"].mean()\n",
    "\n",
    "M3 = dados[\"temperatura-mininima\"].mean()\n",
    "\n",
    "M4 = dados[\"temperatura-maxima\"].mean()\n",
    "\n",
    "print(M1, M2, M3, M4)"
   ]
  },
  {
   "cell_type": "code",
   "execution_count": 89,
   "id": "793ea27b-7418-493e-9863-6dcd6ab92024",
   "metadata": {
    "tags": []
   },
   "outputs": [
    {
     "name": "stdout",
     "output_type": "stream",
     "text": [
      "1741.8147587005246 97.3904390734082 3.336315723659817 2.2498635888116434\n"
     ]
    }
   ],
   "source": [
    "\"\"\" Desvio Padrão\"\"\"\n",
    "\n",
    "D1 = dados[\"casos-confirmados\"].std()\n",
    "\n",
    "D2 = dados[\"chuva\"].std()\n",
    "\n",
    "D3 = dados[\"temperatura-mininima\"].std()\n",
    "\n",
    "D4 = dados[\"temperatura-maxima\"].std()\n",
    "\n",
    "print(D1, D2, D3, D4)"
   ]
  },
  {
   "cell_type": "markdown",
   "id": "9a77518c-1f78-4daa-bcb5-c7f05b04eb0e",
   "metadata": {},
   "source": [
    "Observando esses resultados, concluimos que eles não eram satisfatórios, e não forneciam as informações que precisavamos. Por isso, optamos por uma análise difernte, fazendo uma separação referente aos meses, de forma que as médias sejam separadas em média_janeiro, média_fevereiro, média_março e assim por diante."
   ]
  },
  {
   "cell_type": "code",
   "execution_count": 119,
   "id": "b41ab2ff-421f-4093-abd3-52eb8b298e3f",
   "metadata": {},
   "outputs": [],
   "source": [
    "dados1 = dados.drop(columns = [\"data\"], axis = 1) # Exclui a coluna \"data\", pois ela é irrelevante para o processo\n",
    "\n",
    "#print(dados1)\n",
    "#print(dados1.dtypes)"
   ]
  },
  {
   "cell_type": "code",
   "execution_count": 120,
   "id": "17eb3b1c-e49d-4d2c-94ae-9492a635b677",
   "metadata": {
    "tags": []
   },
   "outputs": [],
   "source": [
    "\"\"\" Separando os dados e colocando-os em listas iteraveis \"\"\"\n",
    "\n",
    "conv = dados1.values.tolist() # função que transoforma de dataset para lista\n",
    "\n",
    "casos = []\n",
    "chuva = []\n",
    "tem_med = []\n",
    "tem_max = []\n",
    "tem_min = []\n",
    "\n",
    "for i in conv:\n",
    "    for j in range(0, len(i), 5):\n",
    "        casos.append(i[j])\n",
    "\n",
    "for i in conv:\n",
    "    for j in range(1, len(i), 5):\n",
    "        chuva.append(i[j])\n",
    "        \n",
    "for i in conv:\n",
    "    for j in range(2, len(i), 5):\n",
    "        tem_med.append(i[j])\n",
    "        \n",
    "for i in conv:\n",
    "    for j in range(3, len(i), 5):\n",
    "        tem_min.append(i[j])\n",
    "for i in conv:\n",
    "    for j in range(4, len(i), 5):\n",
    "        tem_max.append(i[j])\n",
    "        \n",
    "\n",
    "#print(casos)\n",
    "#print(chuva)\n",
    "#print(tem_med)\n",
    "#print(tem_min) \n",
    "#print(tem_max)"
   ]
  },
  {
   "cell_type": "code",
   "execution_count": 121,
   "id": "5e7e3c9a-2c14-4cdd-b64a-285b7df22ce4",
   "metadata": {},
   "outputs": [],
   "source": [
    "def separação(x, c):\n",
    "    \n",
    "    \"\"\" Separa os dados por mês e calcula a média e desvio padrão \"\"\"\n",
    "    \n",
    "    if c >= 12: # Critério de parada\n",
    "        return 0 \n",
    "    \n",
    "    else:\n",
    "\n",
    "        lista = []  # Para armazernar e processar os dados \n",
    "        media = []  # Como a função calcula valores para todos os meses, criei listas para armazernar os valores\n",
    "        desvio_padrao = []\n",
    "    \n",
    "        for i in range(c,len(x),12): # Separa os dados por meses, fazendo uma listagem dos dados com um intervalo de 12 itens\n",
    "            lista.append(x[i])\n",
    "    \n",
    "    m = np.mean(lista) # função do numpy para calculo de media \n",
    "    dp = np.std(lista) # função do numpy para calculo de desvio padrão\n",
    "    media.append(m)\n",
    "    desvio_padrao.append(dp)\n",
    "        \n",
    "    lista.clear() # Ao final da operação, a lista é esvaziada para não ter problemas\n",
    "    \n",
    "    return media, desvio_padrao, separação(x, c + 1)  # Usei recursão para seguir calculando para os demais meses  "
   ]
  },
  {
   "cell_type": "code",
   "execution_count": 122,
   "id": "faf6f769-807d-4e4e-9d62-cd41274d0c6f",
   "metadata": {
    "tags": []
   },
   "outputs": [],
   "source": [
    "contagem = 0 # Variável para servir de inicio para a contagem\n",
    "#print(separação(casos, contagem))\n",
    "#print(separação(chuva, contagem))\n",
    "#print(separação(tem_med, contagem))\n",
    "#print(separação(tem_min, contagem))\n",
    "#print(separação(tem_max, contagem))"
   ]
  }
 ],
 "metadata": {
  "kernelspec": {
   "display_name": "ilumpy",
   "language": "python",
   "name": "ilumpy"
  },
  "language_info": {
   "codemirror_mode": {
    "name": "ipython",
    "version": 3
   },
   "file_extension": ".py",
   "mimetype": "text/x-python",
   "name": "python",
   "nbconvert_exporter": "python",
   "pygments_lexer": "ipython3",
   "version": "3.9.7"
  }
 },
 "nbformat": 4,
 "nbformat_minor": 5
}
