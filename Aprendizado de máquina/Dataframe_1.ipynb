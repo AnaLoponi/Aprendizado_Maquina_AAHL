{
 "cells": [
  {
   "cell_type": "markdown",
   "id": "bfcb0fef-bc4e-4936-9ccf-8d9e74f1a134",
   "metadata": {},
   "source": [
    "# Projeto de Aprendizado de Máquina\n",
    "\n",
    "### 2º semestre de 2022\n",
    "\n",
    "#### Grupo formado por:\n",
    "        Ana Clara Loponi\n",
    "        Ana Clara Brandão\n",
    "        Heitor Bernardes \n",
    "        Lorraine Casseano\n",
    "    \n",
    "### 1. Preparação dos Dados: Tratamento de Dados e Normalização \n",
    "\n",
    "<ht> Idealmente, o projeto consiste em treinar uma máquina para prever possiveis surtos regionais de dengue. Inicialmente, vamos usar dados coletados em Campinas, São Paulo, dos anos de 1998 à 2014, referentes a número de casos confimados, volume de chuva (em ml), temperatura mínima, temperatura máxima e temperatura média. "
   ]
  },
  {
   "cell_type": "code",
   "execution_count": 14,
   "id": "3a4c071c-dc44-4f1f-8c41-7b8baef06f1e",
   "metadata": {
    "jupyter": {
     "source_hidden": true
    },
    "tags": []
   },
   "outputs": [],
   "source": [
    "# Importação de bibliotecas\n",
    "import pandas as pd\n",
    "import numpy as np"
   ]
  },
  {
   "cell_type": "code",
   "execution_count": 19,
   "id": "b53a3665-6cbc-4f4d-a690-83dda16e01b8",
   "metadata": {},
   "outputs": [
    {
     "data": {
      "text/plain": [
       "data                    datetime64[ns]\n",
       "casos-confirmados                int64\n",
       "chuva                          float64\n",
       "temperatura-media              float64\n",
       "temperatura-mininima           float64\n",
       "temperatura-maxima             float64\n",
       "dtype: object"
      ]
     },
     "execution_count": 19,
     "metadata": {},
     "output_type": "execute_result"
    }
   ],
   "source": [
    "dados1 = pd.read_excel(\"dengue_dataset.xlsx\") # Lendos os dados.\n",
    "\n",
    "#print(dados1)\n",
    "\n",
    "dados1.dtypes # Este comando informa quais os tipos de dados o dataframe contém."
   ]
  }
 ],
 "metadata": {
  "kernelspec": {
   "display_name": "ilumpy",
   "language": "python",
   "name": "ilumpy"
  },
  "language_info": {
   "codemirror_mode": {
    "name": "ipython",
    "version": 3
   },
   "file_extension": ".py",
   "mimetype": "text/x-python",
   "name": "python",
   "nbconvert_exporter": "python",
   "pygments_lexer": "ipython3",
   "version": "3.9.7"
  }
 },
 "nbformat": 4,
 "nbformat_minor": 5
}
